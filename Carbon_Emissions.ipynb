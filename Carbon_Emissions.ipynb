{
 "cells": [
  {
   "cell_type": "code",
   "execution_count": 23,
   "metadata": {
    "collapsed": false
   },
   "outputs": [
    {
     "data": {
      "text/html": [
       "<div>\n",
       "<table border=\"1\" class=\"dataframe\">\n",
       "  <thead>\n",
       "    <tr style=\"text-align: right;\">\n",
       "      <th></th>\n",
       "      <th>REPORTING YEAR</th>\n",
       "      <th>FACILITY NAME</th>\n",
       "      <th>GHGRP ID</th>\n",
       "      <th>REPORTED ADDRESS</th>\n",
       "      <th>LATITUDE</th>\n",
       "      <th>LONGITUDE</th>\n",
       "      <th>CITY NAME</th>\n",
       "      <th>COUNTY NAME</th>\n",
       "      <th>STATE</th>\n",
       "      <th>ZIP CODE</th>\n",
       "      <th>PARENT COMPANIES</th>\n",
       "      <th>GHG QUANTITY (METRIC TONS CO2e)</th>\n",
       "      <th>SUBPARTS</th>\n",
       "    </tr>\n",
       "  </thead>\n",
       "  <tbody>\n",
       "    <tr>\n",
       "      <th>0</th>\n",
       "      <td>2016</td>\n",
       "      <td>#540 BONANZA CREEK ENERGY - DENVER BASIN</td>\n",
       "      <td>1000355</td>\n",
       "      <td>410 17th Street, Suite 1500</td>\n",
       "      <td>39.744310</td>\n",
       "      <td>-104.988580</td>\n",
       "      <td>Denver</td>\n",
       "      <td>DENVER COUNTY</td>\n",
       "      <td>CO</td>\n",
       "      <td>80202.0</td>\n",
       "      <td>BONANZA CREEK ENERGY INC (100%)</td>\n",
       "      <td>261383</td>\n",
       "      <td>W</td>\n",
       "    </tr>\n",
       "    <tr>\n",
       "      <th>1</th>\n",
       "      <td>2016</td>\n",
       "      <td>121 REGIONAL DISPOSAL FACILITY</td>\n",
       "      <td>1004377</td>\n",
       "      <td>3820 SAM RAYBURN HIGHWAY</td>\n",
       "      <td>33.298570</td>\n",
       "      <td>-96.535860</td>\n",
       "      <td>MELISSA</td>\n",
       "      <td>COLLIN COUNTY</td>\n",
       "      <td>TX</td>\n",
       "      <td>75454.0</td>\n",
       "      <td>NORTH TEXAS MUNICIPAL WATER DISTRICT (100%)</td>\n",
       "      <td>221015</td>\n",
       "      <td>HH</td>\n",
       "    </tr>\n",
       "    <tr>\n",
       "      <th>2</th>\n",
       "      <td>2016</td>\n",
       "      <td>15-18565/15-18662</td>\n",
       "      <td>1010040</td>\n",
       "      <td>4200 S. Hwy 15</td>\n",
       "      <td>37.219099</td>\n",
       "      <td>-83.156046</td>\n",
       "      <td>Hazard</td>\n",
       "      <td>PERRY COUNTY</td>\n",
       "      <td>KY</td>\n",
       "      <td>40701.0</td>\n",
       "      <td>CAMBRIAN COAL LLC (100%)</td>\n",
       "      <td>141440</td>\n",
       "      <td>FF</td>\n",
       "    </tr>\n",
       "    <tr>\n",
       "      <th>3</th>\n",
       "      <td>2016</td>\n",
       "      <td>15-19015</td>\n",
       "      <td>1010085</td>\n",
       "      <td>1845 S. KY HWY 15</td>\n",
       "      <td>37.236617</td>\n",
       "      <td>-83.181260</td>\n",
       "      <td>Hazard</td>\n",
       "      <td>PERRY</td>\n",
       "      <td>KY</td>\n",
       "      <td>41701.0</td>\n",
       "      <td>CAMBRIAN COAL LLC (100%)</td>\n",
       "      <td>35907</td>\n",
       "      <td>FF</td>\n",
       "    </tr>\n",
       "    <tr>\n",
       "      <th>4</th>\n",
       "      <td>2016</td>\n",
       "      <td>17Z Gas Plant - Chevron USA Inc.</td>\n",
       "      <td>1012147</td>\n",
       "      <td>22845 Highway 33</td>\n",
       "      <td>35.299879</td>\n",
       "      <td>-119.742604</td>\n",
       "      <td>McKittrick</td>\n",
       "      <td>NaN</td>\n",
       "      <td>CA</td>\n",
       "      <td>93251.0</td>\n",
       "      <td>CHEVRON CORP (100%)</td>\n",
       "      <td>10208</td>\n",
       "      <td>C,NN,W</td>\n",
       "    </tr>\n",
       "  </tbody>\n",
       "</table>\n",
       "</div>"
      ],
      "text/plain": [
       "   REPORTING YEAR                             FACILITY NAME  GHGRP ID  \\\n",
       "0            2016  #540 BONANZA CREEK ENERGY - DENVER BASIN   1000355   \n",
       "1            2016            121 REGIONAL DISPOSAL FACILITY   1004377   \n",
       "2            2016                         15-18565/15-18662   1010040   \n",
       "3            2016                                  15-19015   1010085   \n",
       "4            2016          17Z Gas Plant - Chevron USA Inc.   1012147   \n",
       "\n",
       "              REPORTED ADDRESS   LATITUDE   LONGITUDE   CITY NAME  \\\n",
       "0  410 17th Street, Suite 1500  39.744310 -104.988580      Denver   \n",
       "1     3820 SAM RAYBURN HIGHWAY  33.298570  -96.535860     MELISSA   \n",
       "2               4200 S. Hwy 15  37.219099  -83.156046      Hazard   \n",
       "3            1845 S. KY HWY 15  37.236617  -83.181260      Hazard   \n",
       "4             22845 Highway 33  35.299879 -119.742604  McKittrick   \n",
       "\n",
       "     COUNTY NAME STATE  ZIP CODE                             PARENT COMPANIES  \\\n",
       "0  DENVER COUNTY    CO   80202.0              BONANZA CREEK ENERGY INC (100%)   \n",
       "1  COLLIN COUNTY    TX   75454.0  NORTH TEXAS MUNICIPAL WATER DISTRICT (100%)   \n",
       "2   PERRY COUNTY    KY   40701.0                     CAMBRIAN COAL LLC (100%)   \n",
       "3          PERRY    KY   41701.0                     CAMBRIAN COAL LLC (100%)   \n",
       "4            NaN    CA   93251.0                          CHEVRON CORP (100%)   \n",
       "\n",
       "   GHG QUANTITY (METRIC TONS CO2e) SUBPARTS  \n",
       "0                           261383        W  \n",
       "1                           221015       HH  \n",
       "2                           141440       FF  \n",
       "3                            35907       FF  \n",
       "4                            10208   C,NN,W  "
      ]
     },
     "execution_count": 23,
     "metadata": {},
     "output_type": "execute_result"
    }
   ],
   "source": [
    "%matplotlib inline\n",
    "import numpy as np\n",
    "import matplotlib.pyplot as plt\n",
    "import pandas as pd\n",
    "\n",
    "#importing the acs dataset \n",
    "carbon_emissions = pd.read_excel('flight.xls', sep=',',header=0, skiprows= [0, 1, 2, 3, 4])\n",
    "carbon_emissions.head()\n",
    "\n",
    "#print(carbon_emissions.columns)\n",
    "\n"
   ]
  },
  {
   "cell_type": "code",
   "execution_count": 56,
   "metadata": {
    "collapsed": false
   },
   "outputs": [
    {
     "data": {
      "text/html": [
       "<div>\n",
       "<style>\n",
       "    .dataframe thead tr:only-child th {\n",
       "        text-align: right;\n",
       "    }\n",
       "\n",
       "    .dataframe thead th {\n",
       "        text-align: left;\n",
       "    }\n",
       "\n",
       "    .dataframe tbody tr th {\n",
       "        vertical-align: top;\n",
       "    }\n",
       "</style>\n",
       "<table border=\"1\" class=\"dataframe\">\n",
       "  <thead>\n",
       "    <tr style=\"text-align: right;\">\n",
       "      <th></th>\n",
       "      <th>LATITUDE</th>\n",
       "      <th>LONGITUDE</th>\n",
       "      <th>CITY NAME</th>\n",
       "      <th>COUNTY NAME</th>\n",
       "      <th>STATE</th>\n",
       "      <th>ZIP CODE</th>\n",
       "      <th>PARENT COMPANIES</th>\n",
       "      <th>GHG QUANTITY (METRIC TONS CO2e)</th>\n",
       "    </tr>\n",
       "  </thead>\n",
       "  <tbody>\n",
       "    <tr>\n",
       "      <th>0</th>\n",
       "      <td>39.744310</td>\n",
       "      <td>-104.988580</td>\n",
       "      <td>Denver</td>\n",
       "      <td>DENVER COUNTY</td>\n",
       "      <td>CO</td>\n",
       "      <td>80202.0</td>\n",
       "      <td>BONANZA CREEK ENERGY INC (100%)</td>\n",
       "      <td>261383</td>\n",
       "    </tr>\n",
       "    <tr>\n",
       "      <th>1</th>\n",
       "      <td>33.298570</td>\n",
       "      <td>-96.535860</td>\n",
       "      <td>MELISSA</td>\n",
       "      <td>COLLIN COUNTY</td>\n",
       "      <td>TX</td>\n",
       "      <td>75454.0</td>\n",
       "      <td>NORTH TEXAS MUNICIPAL WATER DISTRICT (100%)</td>\n",
       "      <td>221015</td>\n",
       "    </tr>\n",
       "    <tr>\n",
       "      <th>2</th>\n",
       "      <td>37.219099</td>\n",
       "      <td>-83.156046</td>\n",
       "      <td>Hazard</td>\n",
       "      <td>PERRY COUNTY</td>\n",
       "      <td>KY</td>\n",
       "      <td>40701.0</td>\n",
       "      <td>CAMBRIAN COAL LLC (100%)</td>\n",
       "      <td>141440</td>\n",
       "    </tr>\n",
       "    <tr>\n",
       "      <th>3</th>\n",
       "      <td>37.236617</td>\n",
       "      <td>-83.181260</td>\n",
       "      <td>Hazard</td>\n",
       "      <td>PERRY</td>\n",
       "      <td>KY</td>\n",
       "      <td>41701.0</td>\n",
       "      <td>CAMBRIAN COAL LLC (100%)</td>\n",
       "      <td>35907</td>\n",
       "    </tr>\n",
       "    <tr>\n",
       "      <th>4</th>\n",
       "      <td>35.299879</td>\n",
       "      <td>-119.742604</td>\n",
       "      <td>McKittrick</td>\n",
       "      <td>NaN</td>\n",
       "      <td>CA</td>\n",
       "      <td>93251.0</td>\n",
       "      <td>CHEVRON CORP (100%)</td>\n",
       "      <td>10208</td>\n",
       "    </tr>\n",
       "  </tbody>\n",
       "</table>\n",
       "</div>"
      ],
      "text/plain": [
       "    LATITUDE   LONGITUDE   CITY NAME    COUNTY NAME STATE  ZIP CODE  \\\n",
       "0  39.744310 -104.988580      Denver  DENVER COUNTY    CO   80202.0   \n",
       "1  33.298570  -96.535860     MELISSA  COLLIN COUNTY    TX   75454.0   \n",
       "2  37.219099  -83.156046      Hazard   PERRY COUNTY    KY   40701.0   \n",
       "3  37.236617  -83.181260      Hazard          PERRY    KY   41701.0   \n",
       "4  35.299879 -119.742604  McKittrick            NaN    CA   93251.0   \n",
       "\n",
       "                              PARENT COMPANIES  \\\n",
       "0              BONANZA CREEK ENERGY INC (100%)   \n",
       "1  NORTH TEXAS MUNICIPAL WATER DISTRICT (100%)   \n",
       "2                     CAMBRIAN COAL LLC (100%)   \n",
       "3                     CAMBRIAN COAL LLC (100%)   \n",
       "4                          CHEVRON CORP (100%)   \n",
       "\n",
       "   GHG QUANTITY (METRIC TONS CO2e)  \n",
       "0                           261383  \n",
       "1                           221015  \n",
       "2                           141440  \n",
       "3                            35907  \n",
       "4                            10208  "
      ]
     },
     "execution_count": 56,
     "metadata": {},
     "output_type": "execute_result"
    }
   ],
   "source": [
    "carbon_clean = carbon_emissions.iloc[:, 4:12]\n",
    "carbon_clean.head()"
   ]
  },
  {
   "cell_type": "code",
   "execution_count": 57,
   "metadata": {
    "collapsed": false
   },
   "outputs": [
    {
     "data": {
      "text/html": [
       "<div>\n",
       "<style>\n",
       "    .dataframe thead tr:only-child th {\n",
       "        text-align: right;\n",
       "    }\n",
       "\n",
       "    .dataframe thead th {\n",
       "        text-align: left;\n",
       "    }\n",
       "\n",
       "    .dataframe tbody tr th {\n",
       "        vertical-align: top;\n",
       "    }\n",
       "</style>\n",
       "<table border=\"1\" class=\"dataframe\">\n",
       "  <thead>\n",
       "    <tr style=\"text-align: right;\">\n",
       "      <th></th>\n",
       "      <th>LATITUDE</th>\n",
       "      <th>LONGITUDE</th>\n",
       "      <th>GHG QUANTITY (METRIC TONS CO2e)</th>\n",
       "    </tr>\n",
       "  </thead>\n",
       "  <tbody>\n",
       "    <tr>\n",
       "      <th>0</th>\n",
       "      <td>39.744310</td>\n",
       "      <td>-104.988580</td>\n",
       "      <td>261383</td>\n",
       "    </tr>\n",
       "    <tr>\n",
       "      <th>1</th>\n",
       "      <td>33.298570</td>\n",
       "      <td>-96.535860</td>\n",
       "      <td>221015</td>\n",
       "    </tr>\n",
       "    <tr>\n",
       "      <th>2</th>\n",
       "      <td>37.219099</td>\n",
       "      <td>-83.156046</td>\n",
       "      <td>141440</td>\n",
       "    </tr>\n",
       "    <tr>\n",
       "      <th>3</th>\n",
       "      <td>37.236617</td>\n",
       "      <td>-83.181260</td>\n",
       "      <td>35907</td>\n",
       "    </tr>\n",
       "    <tr>\n",
       "      <th>4</th>\n",
       "      <td>35.299879</td>\n",
       "      <td>-119.742604</td>\n",
       "      <td>10208</td>\n",
       "    </tr>\n",
       "  </tbody>\n",
       "</table>\n",
       "</div>"
      ],
      "text/plain": [
       "    LATITUDE   LONGITUDE  GHG QUANTITY (METRIC TONS CO2e)\n",
       "0  39.744310 -104.988580                           261383\n",
       "1  33.298570  -96.535860                           221015\n",
       "2  37.219099  -83.156046                           141440\n",
       "3  37.236617  -83.181260                            35907\n",
       "4  35.299879 -119.742604                            10208"
      ]
     },
     "execution_count": 57,
     "metadata": {},
     "output_type": "execute_result"
    }
   ],
   "source": [
    "carbon_clean = carbon_clean.drop(carbon_clean.columns[[2,3,4,5,6]], axis=1) \n",
    "carbon_clean.head()"
   ]
  },
  {
   "cell_type": "code",
   "execution_count": 58,
   "metadata": {
    "collapsed": false
   },
   "outputs": [
    {
     "data": {
      "text/html": [
       "<div>\n",
       "<style>\n",
       "    .dataframe thead tr:only-child th {\n",
       "        text-align: right;\n",
       "    }\n",
       "\n",
       "    .dataframe thead th {\n",
       "        text-align: left;\n",
       "    }\n",
       "\n",
       "    .dataframe tbody tr th {\n",
       "        vertical-align: top;\n",
       "    }\n",
       "</style>\n",
       "<table border=\"1\" class=\"dataframe\">\n",
       "  <thead>\n",
       "    <tr style=\"text-align: right;\">\n",
       "      <th></th>\n",
       "      <th>LATITUDE</th>\n",
       "      <th>LONGITUDE</th>\n",
       "      <th>GHG QUANTITY (METRIC TONS CO2e)</th>\n",
       "    </tr>\n",
       "  </thead>\n",
       "  <tbody>\n",
       "    <tr>\n",
       "      <th>4387</th>\n",
       "      <td>33.6319</td>\n",
       "      <td>-87.0597</td>\n",
       "      <td>19733139</td>\n",
       "    </tr>\n",
       "    <tr>\n",
       "      <th>7485</th>\n",
       "      <td>33.0583</td>\n",
       "      <td>-83.8072</td>\n",
       "      <td>17656989</td>\n",
       "    </tr>\n",
       "    <tr>\n",
       "      <th>3597</th>\n",
       "      <td>38.3722</td>\n",
       "      <td>-87.7661</td>\n",
       "      <td>15450755</td>\n",
       "    </tr>\n",
       "    <tr>\n",
       "      <th>1177</th>\n",
       "      <td>34.1256</td>\n",
       "      <td>-84.9192</td>\n",
       "      <td>15422888</td>\n",
       "    </tr>\n",
       "    <tr>\n",
       "      <th>2108</th>\n",
       "      <td>45.8831</td>\n",
       "      <td>-106.6140</td>\n",
       "      <td>14390436</td>\n",
       "    </tr>\n",
       "  </tbody>\n",
       "</table>\n",
       "</div>"
      ],
      "text/plain": [
       "      LATITUDE  LONGITUDE  GHG QUANTITY (METRIC TONS CO2e)\n",
       "4387   33.6319   -87.0597                         19733139\n",
       "7485   33.0583   -83.8072                         17656989\n",
       "3597   38.3722   -87.7661                         15450755\n",
       "1177   34.1256   -84.9192                         15422888\n",
       "2108   45.8831  -106.6140                         14390436"
      ]
     },
     "execution_count": 58,
     "metadata": {},
     "output_type": "execute_result"
    }
   ],
   "source": [
    "carbon_clean = carbon_clean.sort_values(['GHG QUANTITY (METRIC TONS CO2e)'], ascending=False)\n",
    "carbon_clean.head()\n"
   ]
  },
  {
   "cell_type": "code",
   "execution_count": 59,
   "metadata": {
    "collapsed": false
   },
   "outputs": [
    {
     "data": {
      "text/html": [
       "<div>\n",
       "<style>\n",
       "    .dataframe thead tr:only-child th {\n",
       "        text-align: right;\n",
       "    }\n",
       "\n",
       "    .dataframe thead th {\n",
       "        text-align: left;\n",
       "    }\n",
       "\n",
       "    .dataframe tbody tr th {\n",
       "        vertical-align: top;\n",
       "    }\n",
       "</style>\n",
       "<table border=\"1\" class=\"dataframe\">\n",
       "  <thead>\n",
       "    <tr style=\"text-align: right;\">\n",
       "      <th></th>\n",
       "      <th>LATITUDE</th>\n",
       "      <th>LONGITUDE</th>\n",
       "    </tr>\n",
       "  </thead>\n",
       "  <tbody>\n",
       "    <tr>\n",
       "      <th>4387</th>\n",
       "      <td>33.6319</td>\n",
       "      <td>-87.0597</td>\n",
       "    </tr>\n",
       "    <tr>\n",
       "      <th>7485</th>\n",
       "      <td>33.0583</td>\n",
       "      <td>-83.8072</td>\n",
       "    </tr>\n",
       "    <tr>\n",
       "      <th>3597</th>\n",
       "      <td>38.3722</td>\n",
       "      <td>-87.7661</td>\n",
       "    </tr>\n",
       "    <tr>\n",
       "      <th>1177</th>\n",
       "      <td>34.1256</td>\n",
       "      <td>-84.9192</td>\n",
       "    </tr>\n",
       "    <tr>\n",
       "      <th>2108</th>\n",
       "      <td>45.8831</td>\n",
       "      <td>-106.6140</td>\n",
       "    </tr>\n",
       "  </tbody>\n",
       "</table>\n",
       "</div>"
      ],
      "text/plain": [
       "      LATITUDE  LONGITUDE\n",
       "4387   33.6319   -87.0597\n",
       "7485   33.0583   -83.8072\n",
       "3597   38.3722   -87.7661\n",
       "1177   34.1256   -84.9192\n",
       "2108   45.8831  -106.6140"
      ]
     },
     "execution_count": 59,
     "metadata": {},
     "output_type": "execute_result"
    }
   ],
   "source": [
    "carbon_lat_lon = carbon_clean.drop(carbon_clean.columns[[2]], axis=1)\n",
    "carbon_lat_lon.head()"
   ]
  },
  {
   "cell_type": "code",
   "execution_count": 60,
   "metadata": {
    "collapsed": false
   },
   "outputs": [
    {
     "name": "stderr",
     "output_type": "stream",
     "text": [
      "C:\\Users\\yajue\\Anaconda3\\lib\\site-packages\\ipykernel_launcher.py:1: FutureWarning: convert_objects is deprecated.  Use the data-type specific converters pd.to_datetime, pd.to_timedelta and pd.to_numeric.\n",
      "  \"\"\"Entry point for launching an IPython kernel.\n"
     ]
    },
    {
     "data": {
      "text/plain": [
       "LATITUDE     float64\n",
       "LONGITUDE    float64\n",
       "dtype: object"
      ]
     },
     "execution_count": 60,
     "metadata": {},
     "output_type": "execute_result"
    }
   ],
   "source": [
    "#to find out number of clusters: we can have about 30\n",
    "carbon_lat_lon.convert_objects(convert_numeric=True).dtypes"
   ]
  },
  {
   "cell_type": "code",
   "execution_count": 62,
   "metadata": {
    "collapsed": true
   },
   "outputs": [],
   "source": [
    "carbon_lat_lon.to_csv('carbon_floats.csv')"
   ]
  },
  {
   "cell_type": "code",
   "execution_count": 98,
   "metadata": {
    "collapsed": true
   },
   "outputs": [],
   "source": [
    "fName = ('carbon_floats.csv')\n",
    "fp = open(fName)\n",
    "X = np.loadtxt(fp, dtype='float', delimiter=',')\n",
    "fp.close()"
   ]
  },
  {
   "cell_type": "code",
   "execution_count": 99,
   "metadata": {
    "collapsed": true
   },
   "outputs": [],
   "source": [
    "from scipy.cluster.vq import kmeans2,vq,whiten\n",
    "from scipy.spatial.distance import cdist\n",
    "import matplotlib.pyplot as plt"
   ]
  },
  {
   "cell_type": "code",
   "execution_count": 100,
   "metadata": {
    "collapsed": true
   },
   "outputs": [],
   "source": [
    "K = range(1,100)\n",
    "\n",
    "  # scipy.cluster.vq.kmeans\n",
    "KM = [kmeans(X,k) for k in K] # apply kmeans 1 to 10\n",
    "centroids = [cent for (cent,var) in KM]   # cluster centroids\n",
    "\n",
    "D_k = [cdist(X, cent, 'euclidean') for cent in centroids]\n",
    "\n",
    "cIdx = [np.argmin(D,axis=1) for D in D_k]\n",
    "dist = [np.min(D,axis=1) for D in D_k]\n",
    "avgWithinSS = [sum(d)/X.shape[0] for d in dist]  "
   ]
  },
  {
   "cell_type": "code",
   "execution_count": 101,
   "metadata": {
    "collapsed": false
   },
   "outputs": [
    {
     "data": {
      "image/png": "[encoded data removed]",
      "text/plain": [
       "<matplotlib.figure.Figure at 0x14f9413fcc0>"
      ]
     },
     "metadata": {},
     "output_type": "display_data"
    }
   ],
   "source": [
    "kIdx = 2\n",
    "# plot elbow curve\n",
    "fig = plt.figure()\n",
    "ax = fig.add_subplot(111)\n",
    "ax.plot(K, avgWithinSS, 'b*-')\n",
    "ax.plot(K[kIdx], avgWithinSS[kIdx], marker='o', markersize=12, \n",
    "      markeredgewidth=2, markeredgecolor='r', markerfacecolor='None')\n",
    "plt.grid(True)\n",
    "plt.xlabel('Number of clusters')\n",
    "plt.ylabel('Average within-cluster sum of squares')\n",
    "tt = plt.title('Elbow for K-Means clustering')  "
   ]
  },
  {
   "cell_type": "code",
   "execution_count": 130,
   "metadata": {
    "collapsed": true
   },
   "outputs": [],
   "source": [
    "from sklearn.cluster import k_means\n",
    "\n",
    "for_k = pd.read_csv('carbon_floats.csv', sep=',',header=0, low_memory = False)\n",
    "matrix = for_k.as_matrix()\n",
    "from sklearn.cluster import KMeans\n",
    "\n",
    "kmeans = KMeans(n_clusters=30).fit(for_k)\n",
    "clusters = kmeans.cluster_centers_\n",
    "\n",
    "np.savetxt(\"centroid.csv\", clusters, delimiter=\",\")\n"
   ]
  },
  {
   "cell_type": "code",
   "execution_count": 33,
   "metadata": {
    "collapsed": false
   },
   "outputs": [],
   "source": [
    "centroids = pd.read_csv('centroid.csv')\n",
    "centroid_lst = []\n",
    "for row in centroids.iterrows():\n",
    "    centroid_lst.append({'lat': float(row[1]['lat']), 'lon': float(row[1]['long'])})"
   ]
  },
  {
   "cell_type": "code",
   "execution_count": 35,
   "metadata": {
    "collapsed": false
   },
   "outputs": [
    {
     "data": {
      "text/plain": [
       "30"
      ]
     },
     "execution_count": 35,
     "metadata": {},
     "output_type": "execute_result"
    }
   ],
   "source": [
    "len(centroid_lst)"
   ]
  },
  {
   "cell_type": "markdown",
   "metadata": {},
   "source": []
  },
  {
   "cell_type": "code",
   "execution_count": null,
   "metadata": {
    "collapsed": true
   },
   "outputs": [],
   "source": []
  },
  {
   "cell_type": "code",
   "execution_count": null,
   "metadata": {
    "collapsed": true
   },
   "outputs": [],
   "source": []
  }
 ],
 "metadata": {
  "kernelspec": {
   "display_name": "Python 3",
   "language": "python",
   "name": "python3"
  },
  "language_info": {
   "codemirror_mode": {
    "name": "ipython",
    "version": 3
   },
   "file_extension": ".py",
   "mimetype": "text/x-python",
   "name": "python",
   "nbconvert_exporter": "python",
   "pygments_lexer": "ipython3",
   "version": "3.6.0"
  }
 },
 "nbformat": 4,
 "nbformat_minor": 2
}

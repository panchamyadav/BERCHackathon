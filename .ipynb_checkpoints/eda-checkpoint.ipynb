{
 "cells": [
  {
   "cell_type": "code",
   "execution_count": 5,
   "metadata": {
    "collapsed": true
   },
   "outputs": [],
   "source": [
    "# Run this cell to set up your notebook\n",
    "import csv\n",
    "import numpy as np\n",
    "import pandas as pd\n",
    "import matplotlib.pyplot as plt\n",
    "%matplotlib inline\n",
    "plt.style.use('fivethirtyeight')\n",
    "import seaborn as sns\n",
    "sns.set()\n",
    "sns.set_context(\"talk\")\n",
    "import re\n",
    "\n",
    "from IPython.display import display, Latex, Markdown\n",
    "# The following should run\n",
    "# import tweepy\n",
    "\n",
    "import json\n",
    "key_file = 'pranavKeys.json'\n",
    "# Loading your keys from keys.json (which you should have filled\n",
    "# in in question 1):\n",
    "with open(key_file) as f:\n",
    "    keys = json.load(f)\n",
    "# if you print or view the contents of keys be sure to delete the cell!"
   ]
  },
  {
   "cell_type": "code",
   "execution_count": 6,
   "metadata": {},
   "outputs": [
    {
     "name": "stdout",
     "output_type": "stream",
     "text": [
      "Requirement already satisfied: tweepy in /Users/panchamyadav/anaconda3/lib/python3.5/site-packages\n",
      "Requirement already satisfied: requests-oauthlib>=0.4.1 in /Users/panchamyadav/anaconda3/lib/python3.5/site-packages (from tweepy)\n",
      "Requirement already satisfied: six>=1.7.3 in /Users/panchamyadav/anaconda3/lib/python3.5/site-packages (from tweepy)\n",
      "Requirement already satisfied: requests>=2.4.3 in /Users/panchamyadav/anaconda3/lib/python3.5/site-packages (from tweepy)\n",
      "Requirement already satisfied: oauthlib>=0.6.2 in /Users/panchamyadav/anaconda3/lib/python3.5/site-packages (from requests-oauthlib>=0.4.1->tweepy)\n",
      "Requirement already satisfied: chardet<3.1.0,>=3.0.2 in /Users/panchamyadav/anaconda3/lib/python3.5/site-packages (from requests>=2.4.3->tweepy)\n",
      "Requirement already satisfied: idna<2.7,>=2.5 in /Users/panchamyadav/anaconda3/lib/python3.5/site-packages (from requests>=2.4.3->tweepy)\n",
      "Requirement already satisfied: urllib3<1.23,>=1.21.1 in /Users/panchamyadav/anaconda3/lib/python3.5/site-packages (from requests>=2.4.3->tweepy)\n",
      "Requirement already satisfied: certifi>=2017.4.17 in /Users/panchamyadav/anaconda3/lib/python3.5/site-packages (from requests>=2.4.3->tweepy)\n"
     ]
    }
   ],
   "source": [
    "!pip install tweepy"
   ]
  },
  {
   "cell_type": "code",
   "execution_count": 36,
   "metadata": {
    "collapsed": true
   },
   "outputs": [],
   "source": [
    "# The following should run\n",
    "import tweepy"
   ]
  },
  {
   "cell_type": "code",
   "execution_count": 37,
   "metadata": {},
   "outputs": [
    {
     "name": "stdout",
     "output_type": "stream",
     "text": [
      "0\n"
     ]
    }
   ],
   "source": [
    "auth = tweepy.OAuthHandler(keys[\"consumer_key\"], keys[\"consumer_secret\"])\n",
    "auth.set_access_token(keys[\"access_token\"], keys[\"access_token_secret\"])\n",
    "api = tweepy.API(auth)\n",
    "\n",
    "# Getting as many recent tweets by @BerkeleyData as Twitter will let us have:\n",
    "# example_tweets = list(tweepy.Cursor(api.search, q=\"climate\", count=10).items())\n",
    "\n",
    "tweets_data_path = 'twitter_data.txt'\n",
    "\n",
    "tweets_data = []\n",
    "tweets_file = open(tweets_data_path, \"r\")\n",
    "print(len(tweets_data))\n",
    "\n",
    "for line in tweets_file:\n",
    "    tweet = json.loads(line)\n",
    "    tweets_data.append(tweet)\n",
    "    print(tweet)"
   ]
  },
  {
   "cell_type": "code",
   "execution_count": 38,
   "metadata": {},
   "outputs": [],
   "source": [
    "cricTweet = tweepy.Cursor(api.search, q='climatechange').items(10)"
   ]
  },
  {
   "cell_type": "code",
   "execution_count": null,
   "metadata": {
    "collapsed": true
   },
   "outputs": [],
   "source": []
  },
  {
   "cell_type": "code",
   "execution_count": null,
   "metadata": {
    "collapsed": true
   },
   "outputs": [],
   "source": []
  }
 ],
 "metadata": {
  "kernelspec": {
   "display_name": "Python 3",
   "language": "python",
   "name": "python3"
  },
  "language_info": {
   "codemirror_mode": {
    "name": "ipython",
    "version": 3
   },
   "file_extension": ".py",
   "mimetype": "text/x-python",
   "name": "python",
   "nbconvert_exporter": "python",
   "pygments_lexer": "ipython3",
   "version": "3.5.4"
  }
 },
 "nbformat": 4,
 "nbformat_minor": 2
}

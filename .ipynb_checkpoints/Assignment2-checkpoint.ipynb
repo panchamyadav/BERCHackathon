{
 "cells": [
  {
   "cell_type": "markdown",
   "metadata": {},
   "source": [
    "# Assignment 2: Getting data from Twitter API"
   ]
  },
  {
   "cell_type": "markdown",
   "metadata": {},
   "source": [
    "For working on this assignment, the easiest way is to log into the [datahub.berkeley.edu](http://datahub.berkeley.edu). If you have a @berkeley.edu email address, you already have full access to the programming environment hosted on that site. "
   ]
  },
  {
   "cell_type": "markdown",
   "metadata": {},
   "source": [
    "## 1. Intro"
   ]
  },
  {
   "cell_type": "markdown",
   "metadata": {},
   "source": [
    "Twitter collects a *lot* of data. Ranging from tweets themselves, to data about users, to data about likes and other interactions, Twitter basically records everything that happens on their website. Lucky for data scientists like ourselves, Twitter also shares that data with us! In this assignment, we're going to use Twitter's API to analyze retweet statistics, demographics, and some other data too! "
   ]
  },
  {
   "cell_type": "markdown",
   "metadata": {},
   "source": [
    "## 2. Importing Libraries"
   ]
  },
  {
   "cell_type": "markdown",
   "metadata": {},
   "source": [
    "Other people are also interested in analyzing Twitter data, so there's been work done here already. That means other folks have developed useful collections of code — called libraries — which handle a lot of parsing and data management, so that we don't have to. Since these libraries are published online, we have access to all that hard work too! That means we can use code from those libraries to handle all the complicated Twitter models, so we only have to worry about the actual analysis (which is the fun part)."
   ]
  },
  {
   "cell_type": "markdown",
   "metadata": {},
   "source": [
    "You don't need to worry too much about the code in the next cell. Its purpose is to install libraries that other people have written, so that we have access to them later on."
   ]
  },
  {
   "cell_type": "code",
   "execution_count": 1,
   "metadata": {
    "collapsed": false
   },
   "outputs": [
    {
     "name": "stdout",
     "output_type": "stream",
     "text": [
      "Requirement already satisfied: tweepy in /Users/macbook/anaconda3/lib/python3.6/site-packages\n",
      "Requirement already satisfied: requests>=2.4.3 in /Users/macbook/anaconda3/lib/python3.6/site-packages (from tweepy)\n",
      "Requirement already satisfied: six>=1.7.3 in /Users/macbook/anaconda3/lib/python3.6/site-packages (from tweepy)\n",
      "Requirement already satisfied: requests-oauthlib>=0.4.1 in /Users/macbook/anaconda3/lib/python3.6/site-packages (from tweepy)\n",
      "Requirement already satisfied: oauthlib>=0.6.2 in /Users/macbook/anaconda3/lib/python3.6/site-packages (from requests-oauthlib>=0.4.1->tweepy)\n",
      "Collecting textblob\n",
      "  Downloading textblob-0.13.1-py2.py3-none-any.whl (631kB)\n",
      "\u001b[K    100% |████████████████████████████████| 634kB 362kB/s eta 0:00:01\n",
      "\u001b[?25hRequirement already satisfied: nltk>=3.1 in /Users/macbook/anaconda3/lib/python3.6/site-packages (from textblob)\n",
      "Requirement already satisfied: six in /Users/macbook/anaconda3/lib/python3.6/site-packages (from nltk>=3.1->textblob)\n",
      "Installing collected packages: textblob\n",
      "Successfully installed textblob-0.13.1\n",
      "Collecting plotly\n",
      "  Downloading plotly-2.2.1.tar.gz (1.1MB)\n",
      "\u001b[K    100% |████████████████████████████████| 1.1MB 315kB/s ta 0:00:01\n",
      "\u001b[?25hRequirement already satisfied: decorator>=4.0.6 in /Users/macbook/anaconda3/lib/python3.6/site-packages (from plotly)\n",
      "Requirement already satisfied: nbformat>=4.2 in /Users/macbook/anaconda3/lib/python3.6/site-packages (from plotly)\n",
      "Requirement already satisfied: pytz in /Users/macbook/anaconda3/lib/python3.6/site-packages (from plotly)\n",
      "Requirement already satisfied: requests in /Users/macbook/anaconda3/lib/python3.6/site-packages (from plotly)\n",
      "Requirement already satisfied: six in /Users/macbook/anaconda3/lib/python3.6/site-packages (from plotly)\n",
      "Building wheels for collected packages: plotly\n",
      "  Running setup.py bdist_wheel for plotly ... \u001b[?25l-\b \b\\\b \b|\b \b/\b \b-\b \b\\\b \b|\b \bdone\n",
      "\u001b[?25h  Stored in directory: /Users/macbook/Library/Caches/pip/wheels/cc/87/3f/6a282eb21da5d8223472bed40ee023cdcf2e9691b117969a4c\n",
      "Successfully built plotly\n",
      "Installing collected packages: plotly\n",
      "Successfully installed plotly-2.2.1\n",
      "Requirement already satisfied: nltk in /Users/macbook/anaconda3/lib/python3.6/site-packages\n",
      "Requirement already satisfied: six in /Users/macbook/anaconda3/lib/python3.6/site-packages (from nltk)\n"
     ]
    }
   ],
   "source": [
    "!pip install tweepy    # This halps us access Twitter data.\n",
    "!pip install textblob  # This helps us parse text.\n",
    "!pip install plotly    # This makes it easy to plot graphs.\n",
    "!pip install nltk      # This is also to parse text."
   ]
  },
  {
   "cell_type": "markdown",
   "metadata": {},
   "source": [
    "## 3. Accessing the Data"
   ]
  },
  {
   "cell_type": "markdown",
   "metadata": {},
   "source": [
    "### Question 1\n",
    "Follow these instructions to get your keys:\n",
    "To work on Twitter data, we'll first need two things: a Twitter account, and Twitter keys. Here are the steps to follow:\n",
    "\n",
    "1. [Create a Twitter account](https://twitter.com).  You can use an existing account if you have one.\n",
    "1. [Create a Twitter developer account](https://dev.twitter.com/resources/signup).  Attach it to your Twitter account.\n",
    "1. Once you're logged into your developer account, [create an application for this assignment](https://apps.twitter.com/app/new).  You can call it whatever you want, and you can write any URL when it asks for a web site.\n",
    "1. On the page for that application, find your Consumer Key and Consumer Secret. Don't lose these!\n",
    "1. On the same page, create an Access Token. Record the resulting Access Token and Access Token Secret. Don't lose these either!\n",
    "\n",
    "**Security concern:** DO NOT share your access keys with anyone. They can be used to manage your Twitter account without your permission."
   ]
  },
  {
   "cell_type": "markdown",
   "metadata": {},
   "source": [
    "Add your credentials in the cell below. Your program will use them to access Twitter data."
   ]
  },
  {
   "cell_type": "code",
   "execution_count": 21,
   "metadata": {
    "collapsed": true
   },
   "outputs": [],
   "source": [
    "consumer_key = \"\"\n",
    "consumer_secret = \"\"\n",
    "access_key = \"\"\n",
    "access_secret = \"\""
   ]
  },
  {
   "cell_type": "markdown",
   "metadata": {},
   "source": [
    "The next cell will authorize your program to request Twitter data, through the developer account you just set up."
   ]
  },
  {
   "cell_type": "code",
   "execution_count": 22,
   "metadata": {
    "collapsed": true
   },
   "outputs": [],
   "source": [
    "import tweepy\n",
    "auth = tweepy.OAuthHandler(consumer_key, consumer_secret)\n",
    "auth.set_access_token(access_key, access_secret)\n",
    "api = tweepy.API(auth)"
   ]
  },
  {
   "cell_type": "markdown",
   "metadata": {},
   "source": [
    "**Note**: A lot of data scientists like Twitter data. As a result, you can only request data approximately once every 15 minutes to keep Twitter's servers from crashing due to too much activity. Use your requests wisely to avoid unnecessary waiting time."
   ]
  },
  {
   "cell_type": "markdown",
   "metadata": {},
   "source": [
    "### Question 2:\n",
    "[Twitter API](https://dev.twitter.com/overview/api) can be used for retrieving different objects (e.g., tweets). List the other possible objects that can be retrieved by Twitter API.\n"
   ]
  },
  {
   "cell_type": "markdown",
   "metadata": {},
   "source": [
    "**Answer:**\n",
    "1. Users\n",
    "2. Entities\n",
    "3. Places"
   ]
  },
  {
   "cell_type": "markdown",
   "metadata": {
    "collapsed": true
   },
   "source": [
    "Now that everything is set up, we can use [Twitter's search API](https://dev.twitter.com/rest/reference/get/search/tweets) to find the word \"Berkeley\". This will give us the same results as using [Twitter's online \"search\" page](https://twitter.com/search?q=berkeley)."
   ]
  },
  {
   "cell_type": "code",
   "execution_count": 23,
   "metadata": {
    "collapsed": true
   },
   "outputs": [],
   "source": [
    "results = tweepy.Cursor(api.search,   # `api.search` specifies we want to perform a search.\n",
    "                        q='Berkeley', # `q` is the query, or the words we're searching for.\n",
    "                        result_type='popular') # We'll prioritize more popular results first."
   ]
  },
  {
   "cell_type": "markdown",
   "metadata": {},
   "source": [
    "Now `results` is a long list of search results. Since it is actually pretty extensive, let's just take the first ten results. In the next cell we build up a list called `first_ten`, which contains just the first ten tweets we found in `results`."
   ]
  },
  {
   "cell_type": "code",
   "execution_count": 24,
   "metadata": {
    "collapsed": true
   },
   "outputs": [],
   "source": [
    "first_ten = []                  # We start out with an empty list called `first_ten`.\n",
    "for tweet in results.items(10): # Then, we'll iterate over the first 10 tweets in `results`...\n",
    "    first_ten.append(tweet)     # And we'll add each of those tweets to `first_ten`."
   ]
  },
  {
   "cell_type": "markdown",
   "metadata": {},
   "source": [
    "Now lets have a peek at what the data looks like. "
   ]
  },
  {
   "cell_type": "code",
   "execution_count": 25,
   "metadata": {
    "collapsed": false
   },
   "outputs": [
    {
     "name": "stdout",
     "output_type": "stream",
     "text": [
      "[Status(_api=<tweepy.api.API object at 0x7f465a792ba8>, _json={'created_at': 'Sat Sep 16 14:29:19 +0000 2017', 'id': 909061642318696448, 'id_str': '909061642318696448', 'text': 'There is a perfect symmetry in \"Free Speech Movement\" being born and then dying in the same place. #Berkeley.', 'truncated': False, 'entities': {'hashtags': [{'text': 'Berkeley', 'indices': [99, 108]}], 'symbols': [], 'user_mentions': [], 'urls': []}, 'metadata': {'result_type': 'popular', 'iso_language_code': 'en'}, 'source': '<a href=\"http://twitter.com/download/iphone\" rel=\"nofollow\">Twitter for iPhone</a>', 'in_reply_to_status_id': None, 'in_reply_to_status_id_str': None, 'in_reply_to_user_id': None, 'in_reply_to_user_id_str': None, 'in_reply_to_screen_name': None, 'user': {'id': 78523300, 'id_str': '78523300', 'name': 'James Woods', 'screen_name': 'RealJamesWoods', 'location': '', 'description': '#America', 'url': None, 'entities': {'description': {'urls': []}}, 'protected': False, 'followers_count': 862052, 'friends_count': 4871, 'listed_count': 5726, 'created_at': 'Wed Sep 30 05:31:28 +0000 2009', 'favourites_count': 1496, 'utc_offset': -14400, 'time_zone': 'Eastern Time (US & Canada)', 'geo_enabled': True, 'verified': True, 'statuses_count': 17772, 'lang': 'en', 'contributors_enabled': False, 'is_translator': False, 'is_translation_enabled': False, 'profile_background_color': 'C0DEED', 'profile_background_image_url': 'http://abs.twimg.com/images/themes/theme1/bg.png', 'profile_background_image_url_https': 'https://abs.twimg.com/images/themes/theme1/bg.png', 'profile_background_tile': False, 'profile_image_url': 'http://pbs.twimg.com/profile_images/796482667340382211/CoV8077b_normal.jpg', 'profile_image_url_https': 'https://pbs.twimg.com/profile_images/796482667340382211/CoV8077b_normal.jpg', 'profile_banner_url': 'https://pbs.twimg.com/profile_banners/78523300/1505222681', 'profile_link_color': '1DA1F2', 'profile_sidebar_border_color': 'C0DEED', 'profile_sidebar_fill_color': 'DDEEF6', 'profile_text_color': '333333', 'profile_use_background_image': True, 'has_extended_profile': False, 'default_profile': True, 'default_profile_image': False, 'following': False, 'follow_request_sent': False, 'notifications': False, 'translator_type': 'none'}, 'geo': None, 'coordinates': None, 'place': None, 'contributors': None, 'is_quote_status': False, 'retweet_count': 1425, 'favorite_count': 4062, 'favorited': False, 'retweeted': False, 'lang': 'en'}, created_at=datetime.datetime(2017, 9, 16, 14, 29, 19), id=909061642318696448, id_str='909061642318696448', text='There is a perfect symmetry in \"Free Speech Movement\" being born and then dying in the same place. #Berkeley.', truncated=False, entities={'hashtags': [{'text': 'Berkeley', 'indices': [99, 108]}], 'symbols': [], 'user_mentions': [], 'urls': []}, metadata={'result_type': 'popular', 'iso_language_code': 'en'}, source='Twitter for iPhone', source_url='http://twitter.com/download/iphone', in_reply_to_status_id=None, in_reply_to_status_id_str=None, in_reply_to_user_id=None, in_reply_to_user_id_str=None, in_reply_to_screen_name=None, author=User(_api=<tweepy.api.API object at 0x7f465a792ba8>, _json={'id': 78523300, 'id_str': '78523300', 'name': 'James Woods', 'screen_name': 'RealJamesWoods', 'location': '', 'description': '#America', 'url': None, 'entities': {'description': {'urls': []}}, 'protected': False, 'followers_count': 862052, 'friends_count': 4871, 'listed_count': 5726, 'created_at': 'Wed Sep 30 05:31:28 +0000 2009', 'favourites_count': 1496, 'utc_offset': -14400, 'time_zone': 'Eastern Time (US & Canada)', 'geo_enabled': True, 'verified': True, 'statuses_count': 17772, 'lang': 'en', 'contributors_enabled': False, 'is_translator': False, 'is_translation_enabled': False, 'profile_background_color': 'C0DEED', 'profile_background_image_url': 'http://abs.twimg.com/images/themes/theme1/bg.png', 'profile_background_image_url_https': 'https://abs.twimg.com/images/themes/theme1/bg.png', 'profile_background_tile': False, 'profile_image_url': 'http://pbs.twimg.com/profile_images/796482667340382211/CoV8077b_normal.jpg', 'profile_image_url_https': 'https://pbs.twimg.com/profile_images/796482667340382211/CoV8077b_normal.jpg', 'profile_banner_url': 'https://pbs.twimg.com/profile_banners/78523300/1505222681', 'profile_link_color': '1DA1F2', 'profile_sidebar_border_color': 'C0DEED', 'profile_sidebar_fill_color': 'DDEEF6', 'profile_text_color': '333333', 'profile_use_background_image': True, 'has_extended_profile': False, 'default_profile': True, 'default_profile_image': False, 'following': False, 'follow_request_sent': False, 'notifications': False, 'translator_type': 'none'}, id=78523300, id_str='78523300', name='James Woods', screen_name='RealJamesWoods', location='', description='#America', url=None, entities={'description': {'urls': []}}, protected=False, followers_count=862052, friends_count=4871, listed_count=5726, created_at=datetime.datetime(2009, 9, 30, 5, 31, 28), favourites_count=1496, utc_offset=-14400, time_zone='Eastern Time (US & Canada)', geo_enabled=True, verified=True, statuses_count=17772, lang='en', contributors_enabled=False, is_translator=False, is_translation_enabled=False, profile_background_color='C0DEED', profile_background_image_url='http://abs.twimg.com/images/themes/theme1/bg.png', profile_background_image_url_https='https://abs.twimg.com/images/themes/theme1/bg.png', profile_background_tile=False, profile_image_url='http://pbs.twimg.com/profile_images/796482667340382211/CoV8077b_normal.jpg', profile_image_url_https='https://pbs.twimg.com/profile_images/796482667340382211/CoV8077b_normal.jpg', profile_banner_url='https://pbs.twimg.com/profile_banners/78523300/1505222681', profile_link_color='1DA1F2', profile_sidebar_border_color='C0DEED', profile_sidebar_fill_color='DDEEF6', profile_text_color='333333', profile_use_background_image=True, has_extended_profile=False, default_profile=True, default_profile_image=False, following=False, follow_request_sent=False, notifications=False, translator_type='none'), user=User(_api=<tweepy.api.API object at 0x7f465a792ba8>, _json={'id': 78523300, 'id_str': '78523300', 'name': 'James Woods', 'screen_name': 'RealJamesWoods', 'location': '', 'description': '#America', 'url': None, 'entities': {'description': {'urls': []}}, 'protected': False, 'followers_count': 862052, 'friends_count': 4871, 'listed_count': 5726, 'created_at': 'Wed Sep 30 05:31:28 +0000 2009', 'favourites_count': 1496, 'utc_offset': -14400, 'time_zone': 'Eastern Time (US & Canada)', 'geo_enabled': True, 'verified': True, 'statuses_count': 17772, 'lang': 'en', 'contributors_enabled': False, 'is_translator': False, 'is_translation_enabled': False, 'profile_background_color': 'C0DEED', 'profile_background_image_url': 'http://abs.twimg.com/images/themes/theme1/bg.png', 'profile_background_image_url_https': 'https://abs.twimg.com/images/themes/theme1/bg.png', 'profile_background_tile': False, 'profile_image_url': 'http://pbs.twimg.com/profile_images/796482667340382211/CoV8077b_normal.jpg', 'profile_image_url_https': 'https://pbs.twimg.com/profile_images/796482667340382211/CoV8077b_normal.jpg', 'profile_banner_url': 'https://pbs.twimg.com/profile_banners/78523300/1505222681', 'profile_link_color': '1DA1F2', 'profile_sidebar_border_color': 'C0DEED', 'profile_sidebar_fill_color': 'DDEEF6', 'profile_text_color': '333333', 'profile_use_background_image': True, 'has_extended_profile': False, 'default_profile': True, 'default_profile_image': False, 'following': False, 'follow_request_sent': False, 'notifications': False, 'translator_type': 'none'}, id=78523300, id_str='78523300', name='James Woods', screen_name='RealJamesWoods', location='', description='#America', url=None, entities={'description': {'urls': []}}, protected=False, followers_count=862052, friends_count=4871, listed_count=5726, created_at=datetime.datetime(2009, 9, 30, 5, 31, 28), favourites_count=1496, utc_offset=-14400, time_zone='Eastern Time (US & Canada)', geo_enabled=True, verified=True, statuses_count=17772, lang='en', contributors_enabled=False, is_translator=False, is_translation_enabled=False, profile_background_color='C0DEED', profile_background_image_url='http://abs.twimg.com/images/themes/theme1/bg.png', profile_background_image_url_https='https://abs.twimg.com/images/themes/theme1/bg.png', profile_background_tile=False, profile_image_url='http://pbs.twimg.com/profile_images/796482667340382211/CoV8077b_normal.jpg', profile_image_url_https='https://pbs.twimg.com/profile_images/796482667340382211/CoV8077b_normal.jpg', profile_banner_url='https://pbs.twimg.com/profile_banners/78523300/1505222681', profile_link_color='1DA1F2', profile_sidebar_border_color='C0DEED', profile_sidebar_fill_color='DDEEF6', profile_text_color='333333', profile_use_background_image=True, has_extended_profile=False, default_profile=True, default_profile_image=False, following=False, follow_request_sent=False, notifications=False, translator_type='none'), geo=None, coordinates=None, place=None, contributors=None, is_quote_status=False, retweet_count=1425, favorite_count=4062, favorited=False, retweeted=False, lang='en'), Status(_api=<tweepy.api.API object at 0x7f465a792ba8>, _json={'created_at': 'Sat Sep 16 23:08:42 +0000 2017', 'id': 909192347145179143, 'id_str': '909192347145179143', 'text': 'ICYMI, students in Berkeley, CA formed a human chain around their school in support of their undocumented classmates https://t.co/guk6pmtxxr', 'truncated': False, 'entities': {'hashtags': [], 'symbols': [], 'user_mentions': [], 'urls': [{'url': 'https://t.co/guk6pmtxxr', 'expanded_url': 'http://www.nbcbayarea.com/news/local/Berkeley-High-Students-walk-out-DACA444711273.html', 'display_url': 'nbcbayarea.com/news/local/Ber…', 'indices': [117, 140]}]}, 'metadata': {'result_type': 'popular', 'iso_language_code': 'en'}, 'source': '<a href=\"http://twitter.com\" rel=\"nofollow\">Twitter Web Client</a>', 'in_reply_to_status_id': None, 'in_reply_to_status_id_str': None, 'in_reply_to_user_id': None, 'in_reply_to_user_id_str': None, 'in_reply_to_screen_name': None, 'user': {'id': 800942537083068416, 'id_str': '800942537083068416', 'name': \"Women's March\", 'screen_name': 'womensmarch', 'location': 'Washington, D.C.', 'description': 'Join us at the #WomensConvention October 27-29 in Detroit, MI.', 'url': 'https://t.co/wXb2z4XN0I', 'entities': {'url': {'urls': [{'url': 'https://t.co/wXb2z4XN0I', 'expanded_url': 'http://womensconvention.com', 'display_url': 'womensconvention.com', 'indices': [0, 23]}]}, 'description': {'urls': []}}, 'protected': False, 'followers_count': 520917, 'friends_count': 492, 'listed_count': 2856, 'created_at': 'Tue Nov 22 06:02:36 +0000 2016', 'favourites_count': 10054, 'utc_offset': -25200, 'time_zone': 'Pacific Time (US & Canada)', 'geo_enabled': True, 'verified': True, 'statuses_count': 11377, 'lang': 'en', 'contributors_enabled': False, 'is_translator': False, 'is_translation_enabled': False, 'profile_background_color': 'F5F8FA', 'profile_background_image_url': None, 'profile_background_image_url_https': None, 'profile_background_tile': False, 'profile_image_url': 'http://pbs.twimg.com/profile_images/883320235775873024/XNtKFlio_normal.jpg', 'profile_image_url_https': 'https://pbs.twimg.com/profile_images/883320235775873024/XNtKFlio_normal.jpg', 'profile_banner_url': 'https://pbs.twimg.com/profile_banners/800942537083068416/1503063559', 'profile_link_color': '1DA1F2', 'profile_sidebar_border_color': 'C0DEED', 'profile_sidebar_fill_color': 'DDEEF6', 'profile_text_color': '333333', 'profile_use_background_image': True, 'has_extended_profile': False, 'default_profile': True, 'default_profile_image': False, 'following': False, 'follow_request_sent': False, 'notifications': False, 'translator_type': 'none'}, 'geo': None, 'coordinates': None, 'place': None, 'contributors': None, 'is_quote_status': False, 'retweet_count': 539, 'favorite_count': 1702, 'favorited': False, 'retweeted': False, 'possibly_sensitive': False, 'lang': 'en'}, created_at=datetime.datetime(2017, 9, 16, 23, 8, 42), id=909192347145179143, id_str='909192347145179143', text='ICYMI, students in Berkeley, CA formed a human chain around their school in support of their undocumented classmates https://t.co/guk6pmtxxr', truncated=False, entities={'hashtags': [], 'symbols': [], 'user_mentions': [], 'urls': [{'url': 'https://t.co/guk6pmtxxr', 'expanded_url': 'http://www.nbcbayarea.com/news/local/Berkeley-High-Students-walk-out-DACA444711273.html', 'display_url': 'nbcbayarea.com/news/local/Ber…', 'indices': [117, 140]}]}, metadata={'result_type': 'popular', 'iso_language_code': 'en'}, source='Twitter Web Client', source_url='http://twitter.com', in_reply_to_status_id=None, in_reply_to_status_id_str=None, in_reply_to_user_id=None, in_reply_to_user_id_str=None, in_reply_to_screen_name=None, author=User(_api=<tweepy.api.API object at 0x7f465a792ba8>, _json={'id': 800942537083068416, 'id_str': '800942537083068416', 'name': \"Women's March\", 'screen_name': 'womensmarch', 'location': 'Washington, D.C.', 'description': 'Join us at the #WomensConvention October 27-29 in Detroit, MI.', 'url': 'https://t.co/wXb2z4XN0I', 'entities': {'url': {'urls': [{'url': 'https://t.co/wXb2z4XN0I', 'expanded_url': 'http://womensconvention.com', 'display_url': 'womensconvention.com', 'indices': [0, 23]}]}, 'description': {'urls': []}}, 'protected': False, 'followers_count': 520917, 'friends_count': 492, 'listed_count': 2856, 'created_at': 'Tue Nov 22 06:02:36 +0000 2016', 'favourites_count': 10054, 'utc_offset': -25200, 'time_zone': 'Pacific Time (US & Canada)', 'geo_enabled': True, 'verified': True, 'statuses_count': 11377, 'lang': 'en', 'contributors_enabled': False, 'is_translator': False, 'is_translation_enabled': False, 'profile_background_color': 'F5F8FA', 'profile_background_image_url': None, 'profile_background_image_url_https': None, 'profile_background_tile': False, 'profile_image_url': 'http://pbs.twimg.com/profile_images/883320235775873024/XNtKFlio_normal.jpg', 'profile_image_url_https': 'https://pbs.twimg.com/profile_images/883320235775873024/XNtKFlio_normal.jpg', 'profile_banner_url': 'https://pbs.twimg.com/profile_banners/800942537083068416/1503063559', 'profile_link_color': '1DA1F2', 'profile_sidebar_border_color': 'C0DEED', 'profile_sidebar_fill_color': 'DDEEF6', 'profile_text_color': '333333', 'profile_use_background_image': True, 'has_extended_profile': False, 'default_profile': True, 'default_profile_image': False, 'following': False, 'follow_request_sent': False, 'notifications': False, 'translator_type': 'none'}, id=800942537083068416, id_str='800942537083068416', name=\"Women's March\", screen_name='womensmarch', location='Washington, D.C.', description='Join us at the #WomensConvention October 27-29 in Detroit, MI.', url='https://t.co/wXb2z4XN0I', entities={'url': {'urls': [{'url': 'https://t.co/wXb2z4XN0I', 'expanded_url': 'http://womensconvention.com', 'display_url': 'womensconvention.com', 'indices': [0, 23]}]}, 'description': {'urls': []}}, protected=False, followers_count=520917, friends_count=492, listed_count=2856, created_at=datetime.datetime(2016, 11, 22, 6, 2, 36), favourites_count=10054, utc_offset=-25200, time_zone='Pacific Time (US & Canada)', geo_enabled=True, verified=True, statuses_count=11377, lang='en', contributors_enabled=False, is_translator=False, is_translation_enabled=False, profile_background_color='F5F8FA', profile_background_image_url=None, profile_background_image_url_https=None, profile_background_tile=False, profile_image_url='http://pbs.twimg.com/profile_images/883320235775873024/XNtKFlio_normal.jpg', profile_image_url_https='https://pbs.twimg.com/profile_images/883320235775873024/XNtKFlio_normal.jpg', profile_banner_url='https://pbs.twimg.com/profile_banners/800942537083068416/1503063559', profile_link_color='1DA1F2', profile_sidebar_border_color='C0DEED', profile_sidebar_fill_color='DDEEF6', profile_text_color='333333', profile_use_background_image=True, has_extended_profile=False, default_profile=True, default_profile_image=False, following=False, follow_request_sent=False, notifications=False, translator_type='none'), user=User(_api=<tweepy.api.API object at 0x7f465a792ba8>, _json={'id': 800942537083068416, 'id_str': '800942537083068416', 'name': \"Women's March\", 'screen_name': 'womensmarch', 'location': 'Washington, D.C.', 'description': 'Join us at the #WomensConvention October 27-29 in Detroit, MI.', 'url': 'https://t.co/wXb2z4XN0I', 'entities': {'url': {'urls': [{'url': 'https://t.co/wXb2z4XN0I', 'expanded_url': 'http://womensconvention.com', 'display_url': 'womensconvention.com', 'indices': [0, 23]}]}, 'description': {'urls': []}}, 'protected': False, 'followers_count': 520917, 'friends_count': 492, 'listed_count': 2856, 'created_at': 'Tue Nov 22 06:02:36 +0000 2016', 'favourites_count': 10054, 'utc_offset': -25200, 'time_zone': 'Pacific Time (US & Canada)', 'geo_enabled': True, 'verified': True, 'statuses_count': 11377, 'lang': 'en', 'contributors_enabled': False, 'is_translator': False, 'is_translation_enabled': False, 'profile_background_color': 'F5F8FA', 'profile_background_image_url': None, 'profile_background_image_url_https': None, 'profile_background_tile': False, 'profile_image_url': 'http://pbs.twimg.com/profile_images/883320235775873024/XNtKFlio_normal.jpg', 'profile_image_url_https': 'https://pbs.twimg.com/profile_images/883320235775873024/XNtKFlio_normal.jpg', 'profile_banner_url': 'https://pbs.twimg.com/profile_banners/800942537083068416/1503063559', 'profile_link_color': '1DA1F2', 'profile_sidebar_border_color': 'C0DEED', 'profile_sidebar_fill_color': 'DDEEF6', 'profile_text_color': '333333', 'profile_use_background_image': True, 'has_extended_profile': False, 'default_profile': True, 'default_profile_image': False, 'following': False, 'follow_request_sent': False, 'notifications': False, 'translator_type': 'none'}, id=800942537083068416, id_str='800942537083068416', name=\"Women's March\", screen_name='womensmarch', location='Washington, D.C.', description='Join us at the #WomensConvention October 27-29 in Detroit, MI.', url='https://t.co/wXb2z4XN0I', entities={'url': {'urls': [{'url': 'https://t.co/wXb2z4XN0I', 'expanded_url': 'http://womensconvention.com', 'display_url': 'womensconvention.com', 'indices': [0, 23]}]}, 'description': {'urls': []}}, protected=False, followers_count=520917, friends_count=492, listed_count=2856, created_at=datetime.datetime(2016, 11, 22, 6, 2, 36), favourites_count=10054, utc_offset=-25200, time_zone='Pacific Time (US & Canada)', geo_enabled=True, verified=True, statuses_count=11377, lang='en', contributors_enabled=False, is_translator=False, is_translation_enabled=False, profile_background_color='F5F8FA', profile_background_image_url=None, profile_background_image_url_https=None, profile_background_tile=False, profile_image_url='http://pbs.twimg.com/profile_images/883320235775873024/XNtKFlio_normal.jpg', profile_image_url_https='https://pbs.twimg.com/profile_images/883320235775873024/XNtKFlio_normal.jpg', profile_banner_url='https://pbs.twimg.com/profile_banners/800942537083068416/1503063559', profile_link_color='1DA1F2', profile_sidebar_border_color='C0DEED', profile_sidebar_fill_color='DDEEF6', profile_text_color='333333', profile_use_background_image=True, has_extended_profile=False, default_profile=True, default_profile_image=False, following=False, follow_request_sent=False, notifications=False, translator_type='none'), geo=None, coordinates=None, place=None, contributors=None, is_quote_status=False, retweet_count=539, favorite_count=1702, favorited=False, retweeted=False, possibly_sensitive=False, lang='en'), Status(_api=<tweepy.api.API object at 0x7f465a792ba8>, _json={'created_at': 'Sun Sep 17 02:08:38 +0000 2017', 'id': 909237631879385088, 'id_str': '909237631879385088', 'text': \"Berkeley pulled the plug on Milo's Free Speech Week venue last night. Huge story from @dailycal. https://t.co/1rGe0Oi8st\", 'truncated': False, 'entities': {'hashtags': [], 'symbols': [], 'user_mentions': [{'screen_name': 'dailycal', 'name': 'Daily Californian', 'id': 23372163, 'id_str': '23372163', 'indices': [86, 95]}], 'urls': [{'url': 'https://t.co/1rGe0Oi8st', 'expanded_url': 'http://www.dailycal.org/2017/09/16/failure-confirm-berkeley-patriot-loses-zellerbach-wheeler-auditoriums-free-speech-week/', 'display_url': 'dailycal.org/2017/09/16/fai…', 'indices': [97, 120]}]}, 'metadata': {'result_type': 'popular', 'iso_language_code': 'en'}, 'source': '<a href=\"http://twitter.com\" rel=\"nofollow\">Twitter Web Client</a>', 'in_reply_to_status_id': None, 'in_reply_to_status_id_str': None, 'in_reply_to_user_id': None, 'in_reply_to_user_id_str': None, 'in_reply_to_screen_name': None, 'user': {'id': 20919626, 'id_str': '20919626', 'name': 'Angus Johnston', 'screen_name': 'studentactivism', 'location': 'New York City', 'description': 'Historian and advocate of American student activism. CUNY prof. To invite me to write or speak, drop me a note at angus@fecko.com.', 'url': 'https://t.co/ZIm0kKx6eU', 'entities': {'url': {'urls': [{'url': 'https://t.co/ZIm0kKx6eU', 'expanded_url': 'http://studentactivism.net', 'display_url': 'studentactivism.net', 'indices': [0, 23]}]}, 'description': {'urls': []}}, 'protected': False, 'followers_count': 31996, 'friends_count': 1587, 'listed_count': 1320, 'created_at': 'Sun Feb 15 16:38:54 +0000 2009', 'favourites_count': 43262, 'utc_offset': -14400, 'time_zone': 'Eastern Time (US & Canada)', 'geo_enabled': True, 'verified': True, 'statuses_count': 103918, 'lang': 'en', 'contributors_enabled': False, 'is_translator': False, 'is_translation_enabled': False, 'profile_background_color': 'FFFFFF', 'profile_background_image_url': 'http://pbs.twimg.com/profile_background_images/55216476/11146_229182779464_751509464_4249979_5742474_n.jpg', 'profile_background_image_url_https': 'https://pbs.twimg.com/profile_background_images/55216476/11146_229182779464_751509464_4249979_5742474_n.jpg', 'profile_background_tile': False, 'profile_image_url': 'http://pbs.twimg.com/profile_images/652567265007804417/RaXTQ-Vn_normal.jpg', 'profile_image_url_https': 'https://pbs.twimg.com/profile_images/652567265007804417/RaXTQ-Vn_normal.jpg', 'profile_banner_url': 'https://pbs.twimg.com/profile_banners/20919626/1479779417', 'profile_link_color': '006A91', 'profile_sidebar_border_color': 'D3D2CF', 'profile_sidebar_fill_color': 'E6F8FF', 'profile_text_color': '000000', 'profile_use_background_image': False, 'has_extended_profile': True, 'default_profile': False, 'default_profile_image': False, 'following': False, 'follow_request_sent': False, 'notifications': False, 'translator_type': 'none'}, 'geo': None, 'coordinates': None, 'place': None, 'contributors': None, 'is_quote_status': False, 'retweet_count': 282, 'favorite_count': 416, 'favorited': False, 'retweeted': False, 'possibly_sensitive': False, 'lang': 'en'}, created_at=datetime.datetime(2017, 9, 17, 2, 8, 38), id=909237631879385088, id_str='909237631879385088', text=\"Berkeley pulled the plug on Milo's Free Speech Week venue last night. Huge story from @dailycal. https://t.co/1rGe0Oi8st\", truncated=False, entities={'hashtags': [], 'symbols': [], 'user_mentions': [{'screen_name': 'dailycal', 'name': 'Daily Californian', 'id': 23372163, 'id_str': '23372163', 'indices': [86, 95]}], 'urls': [{'url': 'https://t.co/1rGe0Oi8st', 'expanded_url': 'http://www.dailycal.org/2017/09/16/failure-confirm-berkeley-patriot-loses-zellerbach-wheeler-auditoriums-free-speech-week/', 'display_url': 'dailycal.org/2017/09/16/fai…', 'indices': [97, 120]}]}, metadata={'result_type': 'popular', 'iso_language_code': 'en'}, source='Twitter Web Client', source_url='http://twitter.com', in_reply_to_status_id=None, in_reply_to_status_id_str=None, in_reply_to_user_id=None, in_reply_to_user_id_str=None, in_reply_to_screen_name=None, author=User(_api=<tweepy.api.API object at 0x7f465a792ba8>, _json={'id': 20919626, 'id_str': '20919626', 'name': 'Angus Johnston', 'screen_name': 'studentactivism', 'location': 'New York City', 'description': 'Historian and advocate of American student activism. CUNY prof. To invite me to write or speak, drop me a note at angus@fecko.com.', 'url': 'https://t.co/ZIm0kKx6eU', 'entities': {'url': {'urls': [{'url': 'https://t.co/ZIm0kKx6eU', 'expanded_url': 'http://studentactivism.net', 'display_url': 'studentactivism.net', 'indices': [0, 23]}]}, 'description': {'urls': []}}, 'protected': False, 'followers_count': 31996, 'friends_count': 1587, 'listed_count': 1320, 'created_at': 'Sun Feb 15 16:38:54 +0000 2009', 'favourites_count': 43262, 'utc_offset': -14400, 'time_zone': 'Eastern Time (US & Canada)', 'geo_enabled': True, 'verified': True, 'statuses_count': 103918, 'lang': 'en', 'contributors_enabled': False, 'is_translator': False, 'is_translation_enabled': False, 'profile_background_color': 'FFFFFF', 'profile_background_image_url': 'http://pbs.twimg.com/profile_background_images/55216476/11146_229182779464_751509464_4249979_5742474_n.jpg', 'profile_background_image_url_https': 'https://pbs.twimg.com/profile_background_images/55216476/11146_229182779464_751509464_4249979_5742474_n.jpg', 'profile_background_tile': False, 'profile_image_url': 'http://pbs.twimg.com/profile_images/652567265007804417/RaXTQ-Vn_normal.jpg', 'profile_image_url_https': 'https://pbs.twimg.com/profile_images/652567265007804417/RaXTQ-Vn_normal.jpg', 'profile_banner_url': 'https://pbs.twimg.com/profile_banners/20919626/1479779417', 'profile_link_color': '006A91', 'profile_sidebar_border_color': 'D3D2CF', 'profile_sidebar_fill_color': 'E6F8FF', 'profile_text_color': '000000', 'profile_use_background_image': False, 'has_extended_profile': True, 'default_profile': False, 'default_profile_image': False, 'following': False, 'follow_request_sent': False, 'notifications': False, 'translator_type': 'none'}, id=20919626, id_str='20919626', name='Angus Johnston', screen_name='studentactivism', location='New York City', description='Historian and advocate of American student activism. CUNY prof. To invite me to write or speak, drop me a note at angus@fecko.com.', url='https://t.co/ZIm0kKx6eU', entities={'url': {'urls': [{'url': 'https://t.co/ZIm0kKx6eU', 'expanded_url': 'http://studentactivism.net', 'display_url': 'studentactivism.net', 'indices': [0, 23]}]}, 'description': {'urls': []}}, protected=False, followers_count=31996, friends_count=1587, listed_count=1320, created_at=datetime.datetime(2009, 2, 15, 16, 38, 54), favourites_count=43262, utc_offset=-14400, time_zone='Eastern Time (US & Canada)', geo_enabled=True, verified=True, statuses_count=103918, lang='en', contributors_enabled=False, is_translator=False, is_translation_enabled=False, profile_background_color='FFFFFF', profile_background_image_url='http://pbs.twimg.com/profile_background_images/55216476/11146_229182779464_751509464_4249979_5742474_n.jpg', profile_background_image_url_https='https://pbs.twimg.com/profile_background_images/55216476/11146_229182779464_751509464_4249979_5742474_n.jpg', profile_background_tile=False, profile_image_url='http://pbs.twimg.com/profile_images/652567265007804417/RaXTQ-Vn_normal.jpg', profile_image_url_https='https://pbs.twimg.com/profile_images/652567265007804417/RaXTQ-Vn_normal.jpg', profile_banner_url='https://pbs.twimg.com/profile_banners/20919626/1479779417', profile_link_color='006A91', profile_sidebar_border_color='D3D2CF', profile_sidebar_fill_color='E6F8FF', profile_text_color='000000', profile_use_background_image=False, has_extended_profile=True, default_profile=False, default_profile_image=False, following=False, follow_request_sent=False, notifications=False, translator_type='none'), user=User(_api=<tweepy.api.API object at 0x7f465a792ba8>, _json={'id': 20919626, 'id_str': '20919626', 'name': 'Angus Johnston', 'screen_name': 'studentactivism', 'location': 'New York City', 'description': 'Historian and advocate of American student activism. CUNY prof. To invite me to write or speak, drop me a note at angus@fecko.com.', 'url': 'https://t.co/ZIm0kKx6eU', 'entities': {'url': {'urls': [{'url': 'https://t.co/ZIm0kKx6eU', 'expanded_url': 'http://studentactivism.net', 'display_url': 'studentactivism.net', 'indices': [0, 23]}]}, 'description': {'urls': []}}, 'protected': False, 'followers_count': 31996, 'friends_count': 1587, 'listed_count': 1320, 'created_at': 'Sun Feb 15 16:38:54 +0000 2009', 'favourites_count': 43262, 'utc_offset': -14400, 'time_zone': 'Eastern Time (US & Canada)', 'geo_enabled': True, 'verified': True, 'statuses_count': 103918, 'lang': 'en', 'contributors_enabled': False, 'is_translator': False, 'is_translation_enabled': False, 'profile_background_color': 'FFFFFF', 'profile_background_image_url': 'http://pbs.twimg.com/profile_background_images/55216476/11146_229182779464_751509464_4249979_5742474_n.jpg', 'profile_background_image_url_https': 'https://pbs.twimg.com/profile_background_images/55216476/11146_229182779464_751509464_4249979_5742474_n.jpg', 'profile_background_tile': False, 'profile_image_url': 'http://pbs.twimg.com/profile_images/652567265007804417/RaXTQ-Vn_normal.jpg', 'profile_image_url_https': 'https://pbs.twimg.com/profile_images/652567265007804417/RaXTQ-Vn_normal.jpg', 'profile_banner_url': 'https://pbs.twimg.com/profile_banners/20919626/1479779417', 'profile_link_color': '006A91', 'profile_sidebar_border_color': 'D3D2CF', 'profile_sidebar_fill_color': 'E6F8FF', 'profile_text_color': '000000', 'profile_use_background_image': False, 'has_extended_profile': True, 'default_profile': False, 'default_profile_image': False, 'following': False, 'follow_request_sent': False, 'notifications': False, 'translator_type': 'none'}, id=20919626, id_str='20919626', name='Angus Johnston', screen_name='studentactivism', location='New York City', description='Historian and advocate of American student activism. CUNY prof. To invite me to write or speak, drop me a note at angus@fecko.com.', url='https://t.co/ZIm0kKx6eU', entities={'url': {'urls': [{'url': 'https://t.co/ZIm0kKx6eU', 'expanded_url': 'http://studentactivism.net', 'display_url': 'studentactivism.net', 'indices': [0, 23]}]}, 'description': {'urls': []}}, protected=False, followers_count=31996, friends_count=1587, listed_count=1320, created_at=datetime.datetime(2009, 2, 15, 16, 38, 54), favourites_count=43262, utc_offset=-14400, time_zone='Eastern Time (US & Canada)', geo_enabled=True, verified=True, statuses_count=103918, lang='en', contributors_enabled=False, is_translator=False, is_translation_enabled=False, profile_background_color='FFFFFF', profile_background_image_url='http://pbs.twimg.com/profile_background_images/55216476/11146_229182779464_751509464_4249979_5742474_n.jpg', profile_background_image_url_https='https://pbs.twimg.com/profile_background_images/55216476/11146_229182779464_751509464_4249979_5742474_n.jpg', profile_background_tile=False, profile_image_url='http://pbs.twimg.com/profile_images/652567265007804417/RaXTQ-Vn_normal.jpg', profile_image_url_https='https://pbs.twimg.com/profile_images/652567265007804417/RaXTQ-Vn_normal.jpg', profile_banner_url='https://pbs.twimg.com/profile_banners/20919626/1479779417', profile_link_color='006A91', profile_sidebar_border_color='D3D2CF', profile_sidebar_fill_color='E6F8FF', profile_text_color='000000', profile_use_background_image=False, has_extended_profile=True, default_profile=False, default_profile_image=False, following=False, follow_request_sent=False, notifications=False, translator_type='none'), geo=None, coordinates=None, place=None, contributors=None, is_quote_status=False, retweet_count=282, favorite_count=416, favorited=False, retweeted=False, possibly_sensitive=False, lang='en'), Status(_api=<tweepy.api.API object at 0x7f465a792ba8>, _json={'created_at': 'Sat Sep 16 21:59:56 +0000 2017', 'id': 909175043049082880, 'id_str': '909175043049082880', 'text': '2. ..to participate in open marketplace of ideas.\" My latest: Why Berkeley must defend @benshapiro\\'s right to speak https://t.co/B54FpZ43lh', 'truncated': False, 'entities': {'hashtags': [], 'symbols': [], 'user_mentions': [{'screen_name': 'benshapiro', 'name': 'Ben Shapiro', 'id': 17995040, 'id_str': '17995040', 'indices': [87, 98]}], 'urls': [{'url': 'https://t.co/B54FpZ43lh', 'expanded_url': 'http://www.foxnews.com/opinion/2017/09/14/alan-dershowitz-berkeley-must-defend-ben-shapiros-right-to-speak.html', 'display_url': 'foxnews.com/opinion/2017/0…', 'indices': [116, 139]}]}, 'metadata': {'result_type': 'popular', 'iso_language_code': 'en'}, 'source': '<a href=\"http://twitter.com\" rel=\"nofollow\">Twitter Web Client</a>', 'in_reply_to_status_id': 909174096977592322, 'in_reply_to_status_id_str': '909174096977592322', 'in_reply_to_user_id': 372372537, 'in_reply_to_user_id_str': '372372537', 'in_reply_to_screen_name': 'AlanDersh', 'user': {'id': 372372537, 'id_str': '372372537', 'name': 'Alan Dershowitz', 'screen_name': 'AlanDersh', 'location': 'Cambridge, MA', 'description': 'Professor at Harvard Law School for 50 years, now emeritus. Active in litigation, writing, and defense of civil liberties and human rights.', 'url': None, 'entities': {'description': {'urls': []}}, 'protected': False, 'followers_count': 75060, 'friends_count': 135, 'listed_count': 669, 'created_at': 'Mon Sep 12 17:10:04 +0000 2011', 'favourites_count': 29, 'utc_offset': None, 'time_zone': None, 'geo_enabled': False, 'verified': True, 'statuses_count': 655, 'lang': 'en', 'contributors_enabled': False, 'is_translator': False, 'is_translation_enabled': False, 'profile_background_color': 'C0DEED', 'profile_background_image_url': 'http://abs.twimg.com/images/themes/theme1/bg.png', 'profile_background_image_url_https': 'https://abs.twimg.com/images/themes/theme1/bg.png', 'profile_background_tile': False, 'profile_image_url': 'http://pbs.twimg.com/profile_images/843477072026714113/qrplXbGV_normal.jpg', 'profile_image_url_https': 'https://pbs.twimg.com/profile_images/843477072026714113/qrplXbGV_normal.jpg', 'profile_banner_url': 'https://pbs.twimg.com/profile_banners/372372537/1488318856', 'profile_link_color': '1DA1F2', 'profile_sidebar_border_color': 'C0DEED', 'profile_sidebar_fill_color': 'DDEEF6', 'profile_text_color': '333333', 'profile_use_background_image': True, 'has_extended_profile': True, 'default_profile': True, 'default_profile_image': False, 'following': False, 'follow_request_sent': False, 'notifications': False, 'translator_type': 'none'}, 'geo': None, 'coordinates': None, 'place': None, 'contributors': None, 'is_quote_status': False, 'retweet_count': 276, 'favorite_count': 1016, 'favorited': False, 'retweeted': False, 'possibly_sensitive': False, 'lang': 'en'}, created_at=datetime.datetime(2017, 9, 16, 21, 59, 56), id=909175043049082880, id_str='909175043049082880', text='2. ..to participate in open marketplace of ideas.\" My latest: Why Berkeley must defend @benshapiro\\'s right to speak https://t.co/B54FpZ43lh', truncated=False, entities={'hashtags': [], 'symbols': [], 'user_mentions': [{'screen_name': 'benshapiro', 'name': 'Ben Shapiro', 'id': 17995040, 'id_str': '17995040', 'indices': [87, 98]}], 'urls': [{'url': 'https://t.co/B54FpZ43lh', 'expanded_url': 'http://www.foxnews.com/opinion/2017/09/14/alan-dershowitz-berkeley-must-defend-ben-shapiros-right-to-speak.html', 'display_url': 'foxnews.com/opinion/2017/0…', 'indices': [116, 139]}]}, metadata={'result_type': 'popular', 'iso_language_code': 'en'}, source='Twitter Web Client', source_url='http://twitter.com', in_reply_to_status_id=909174096977592322, in_reply_to_status_id_str='909174096977592322', in_reply_to_user_id=372372537, in_reply_to_user_id_str='372372537', in_reply_to_screen_name='AlanDersh', author=User(_api=<tweepy.api.API object at 0x7f465a792ba8>, _json={'id': 372372537, 'id_str': '372372537', 'name': 'Alan Dershowitz', 'screen_name': 'AlanDersh', 'location': 'Cambridge, MA', 'description': 'Professor at Harvard Law School for 50 years, now emeritus. Active in litigation, writing, and defense of civil liberties and human rights.', 'url': None, 'entities': {'description': {'urls': []}}, 'protected': False, 'followers_count': 75060, 'friends_count': 135, 'listed_count': 669, 'created_at': 'Mon Sep 12 17:10:04 +0000 2011', 'favourites_count': 29, 'utc_offset': None, 'time_zone': None, 'geo_enabled': False, 'verified': True, 'statuses_count': 655, 'lang': 'en', 'contributors_enabled': False, 'is_translator': False, 'is_translation_enabled': False, 'profile_background_color': 'C0DEED', 'profile_background_image_url': 'http://abs.twimg.com/images/themes/theme1/bg.png', 'profile_background_image_url_https': 'https://abs.twimg.com/images/themes/theme1/bg.png', 'profile_background_tile': False, 'profile_image_url': 'http://pbs.twimg.com/profile_images/843477072026714113/qrplXbGV_normal.jpg', 'profile_image_url_https': 'https://pbs.twimg.com/profile_images/843477072026714113/qrplXbGV_normal.jpg', 'profile_banner_url': 'https://pbs.twimg.com/profile_banners/372372537/1488318856', 'profile_link_color': '1DA1F2', 'profile_sidebar_border_color': 'C0DEED', 'profile_sidebar_fill_color': 'DDEEF6', 'profile_text_color': '333333', 'profile_use_background_image': True, 'has_extended_profile': True, 'default_profile': True, 'default_profile_image': False, 'following': False, 'follow_request_sent': False, 'notifications': False, 'translator_type': 'none'}, id=372372537, id_str='372372537', name='Alan Dershowitz', screen_name='AlanDersh', location='Cambridge, MA', description='Professor at Harvard Law School for 50 years, now emeritus. Active in litigation, writing, and defense of civil liberties and human rights.', url=None, entities={'description': {'urls': []}}, protected=False, followers_count=75060, friends_count=135, listed_count=669, created_at=datetime.datetime(2011, 9, 12, 17, 10, 4), favourites_count=29, utc_offset=None, time_zone=None, geo_enabled=False, verified=True, statuses_count=655, lang='en', contributors_enabled=False, is_translator=False, is_translation_enabled=False, profile_background_color='C0DEED', profile_background_image_url='http://abs.twimg.com/images/themes/theme1/bg.png', profile_background_image_url_https='https://abs.twimg.com/images/themes/theme1/bg.png', profile_background_tile=False, profile_image_url='http://pbs.twimg.com/profile_images/843477072026714113/qrplXbGV_normal.jpg', profile_image_url_https='https://pbs.twimg.com/profile_images/843477072026714113/qrplXbGV_normal.jpg', profile_banner_url='https://pbs.twimg.com/profile_banners/372372537/1488318856', profile_link_color='1DA1F2', profile_sidebar_border_color='C0DEED', profile_sidebar_fill_color='DDEEF6', profile_text_color='333333', profile_use_background_image=True, has_extended_profile=True, default_profile=True, default_profile_image=False, following=False, follow_request_sent=False, notifications=False, translator_type='none'), user=User(_api=<tweepy.api.API object at 0x7f465a792ba8>, _json={'id': 372372537, 'id_str': '372372537', 'name': 'Alan Dershowitz', 'screen_name': 'AlanDersh', 'location': 'Cambridge, MA', 'description': 'Professor at Harvard Law School for 50 years, now emeritus. Active in litigation, writing, and defense of civil liberties and human rights.', 'url': None, 'entities': {'description': {'urls': []}}, 'protected': False, 'followers_count': 75060, 'friends_count': 135, 'listed_count': 669, 'created_at': 'Mon Sep 12 17:10:04 +0000 2011', 'favourites_count': 29, 'utc_offset': None, 'time_zone': None, 'geo_enabled': False, 'verified': True, 'statuses_count': 655, 'lang': 'en', 'contributors_enabled': False, 'is_translator': False, 'is_translation_enabled': False, 'profile_background_color': 'C0DEED', 'profile_background_image_url': 'http://abs.twimg.com/images/themes/theme1/bg.png', 'profile_background_image_url_https': 'https://abs.twimg.com/images/themes/theme1/bg.png', 'profile_background_tile': False, 'profile_image_url': 'http://pbs.twimg.com/profile_images/843477072026714113/qrplXbGV_normal.jpg', 'profile_image_url_https': 'https://pbs.twimg.com/profile_images/843477072026714113/qrplXbGV_normal.jpg', 'profile_banner_url': 'https://pbs.twimg.com/profile_banners/372372537/1488318856', 'profile_link_color': '1DA1F2', 'profile_sidebar_border_color': 'C0DEED', 'profile_sidebar_fill_color': 'DDEEF6', 'profile_text_color': '333333', 'profile_use_background_image': True, 'has_extended_profile': True, 'default_profile': True, 'default_profile_image': False, 'following': False, 'follow_request_sent': False, 'notifications': False, 'translator_type': 'none'}, id=372372537, id_str='372372537', name='Alan Dershowitz', screen_name='AlanDersh', location='Cambridge, MA', description='Professor at Harvard Law School for 50 years, now emeritus. Active in litigation, writing, and defense of civil liberties and human rights.', url=None, entities={'description': {'urls': []}}, protected=False, followers_count=75060, friends_count=135, listed_count=669, created_at=datetime.datetime(2011, 9, 12, 17, 10, 4), favourites_count=29, utc_offset=None, time_zone=None, geo_enabled=False, verified=True, statuses_count=655, lang='en', contributors_enabled=False, is_translator=False, is_translation_enabled=False, profile_background_color='C0DEED', profile_background_image_url='http://abs.twimg.com/images/themes/theme1/bg.png', profile_background_image_url_https='https://abs.twimg.com/images/themes/theme1/bg.png', profile_background_tile=False, profile_image_url='http://pbs.twimg.com/profile_images/843477072026714113/qrplXbGV_normal.jpg', profile_image_url_https='https://pbs.twimg.com/profile_images/843477072026714113/qrplXbGV_normal.jpg', profile_banner_url='https://pbs.twimg.com/profile_banners/372372537/1488318856', profile_link_color='1DA1F2', profile_sidebar_border_color='C0DEED', profile_sidebar_fill_color='DDEEF6', profile_text_color='333333', profile_use_background_image=True, has_extended_profile=True, default_profile=True, default_profile_image=False, following=False, follow_request_sent=False, notifications=False, translator_type='none'), geo=None, coordinates=None, place=None, contributors=None, is_quote_status=False, retweet_count=276, favorite_count=1016, favorited=False, retweeted=False, possibly_sensitive=False, lang='en'), Status(_api=<tweepy.api.API object at 0x7f465a792ba8>, _json={'created_at': 'Sat Sep 16 20:37:33 +0000 2017', 'id': 909154311594274816, 'id_str': '909154311594274816', 'text': 'Must-read thread - Milo may be planning this whole Berkeley \"Free Speech\" thing as a stunt SO THAT it gets canceled… https://t.co/EbtHLm5NaC', 'truncated': True, 'entities': {'hashtags': [], 'symbols': [], 'user_mentions': [], 'urls': [{'url': 'https://t.co/EbtHLm5NaC', 'expanded_url': 'https://twitter.com/i/web/status/909154311594274816', 'display_url': 'twitter.com/i/web/status/9…', 'indices': [117, 140]}]}, 'metadata': {'result_type': 'popular', 'iso_language_code': 'en'}, 'source': '<a href=\"http://twitter.com\" rel=\"nofollow\">Twitter Web Client</a>', 'in_reply_to_status_id': None, 'in_reply_to_status_id_str': None, 'in_reply_to_user_id': None, 'in_reply_to_user_id_str': None, 'in_reply_to_screen_name': None, 'user': {'id': 14215322, 'id_str': '14215322', 'name': '❄️Jaclyn Friedman❄️', 'screen_name': 'jaclynf', 'location': 'Boston, MA', 'description': 'Writer. Speaker. Feminist Troublemaker. #Unscrewed podcaster. She persists.', 'url': 'https://t.co/yGUjiYUaaI', 'entities': {'url': {'urls': [{'url': 'https://t.co/yGUjiYUaaI', 'expanded_url': 'http://www.jaclynfriedman.com', 'display_url': 'jaclynfriedman.com', 'indices': [0, 23]}]}, 'description': {'urls': []}}, 'protected': False, 'followers_count': 14124, 'friends_count': 987, 'listed_count': 653, 'created_at': 'Tue Mar 25 13:25:35 +0000 2008', 'favourites_count': 3595, 'utc_offset': -14400, 'time_zone': 'Eastern Time (US & Canada)', 'geo_enabled': False, 'verified': True, 'statuses_count': 27563, 'lang': 'en', 'contributors_enabled': False, 'is_translator': False, 'is_translation_enabled': False, 'profile_background_color': '709397', 'profile_background_image_url': 'http://abs.twimg.com/images/themes/theme6/bg.gif', 'profile_background_image_url_https': 'https://abs.twimg.com/images/themes/theme6/bg.gif', 'profile_background_tile': False, 'profile_image_url': 'http://pbs.twimg.com/profile_images/905848302087823360/hw-Jfj0D_normal.jpg', 'profile_image_url_https': 'https://pbs.twimg.com/profile_images/905848302087823360/hw-Jfj0D_normal.jpg', 'profile_banner_url': 'https://pbs.twimg.com/profile_banners/14215322/1504806066', 'profile_link_color': 'FF3300', 'profile_sidebar_border_color': '86A4A6', 'profile_sidebar_fill_color': 'A0C5C7', 'profile_text_color': '333333', 'profile_use_background_image': True, 'has_extended_profile': True, 'default_profile': False, 'default_profile_image': False, 'following': False, 'follow_request_sent': False, 'notifications': False, 'translator_type': 'none'}, 'geo': None, 'coordinates': None, 'place': None, 'contributors': None, 'is_quote_status': True, 'quoted_status_id': 908701654299611136, 'quoted_status_id_str': '908701654299611136', 'quoted_status': {'created_at': 'Fri Sep 15 14:38:51 +0000 2017', 'id': 908701654299611136, 'id_str': '908701654299611136', 'text': \"It's now September 15. Journalists, you're on notice: If you report in nine days that Berkeley banned Milo you're a meat puppet for a bigot.\", 'truncated': False, 'entities': {'hashtags': [], 'symbols': [], 'user_mentions': [], 'urls': []}, 'metadata': {'result_type': 'popular', 'iso_language_code': 'en'}, 'source': '<a href=\"http://twitter.com\" rel=\"nofollow\">Twitter Web Client</a>', 'in_reply_to_status_id': 908700766071853056, 'in_reply_to_status_id_str': '908700766071853056', 'in_reply_to_user_id': 20919626, 'in_reply_to_user_id_str': '20919626', 'in_reply_to_screen_name': 'studentactivism', 'user': {'id': 20919626, 'id_str': '20919626', 'name': 'Angus Johnston', 'screen_name': 'studentactivism', 'location': 'New York City', 'description': 'Historian and advocate of American student activism. CUNY prof. To invite me to write or speak, drop me a note at angus@fecko.com.', 'url': 'https://t.co/ZIm0kKx6eU', 'entities': {'url': {'urls': [{'url': 'https://t.co/ZIm0kKx6eU', 'expanded_url': 'http://studentactivism.net', 'display_url': 'studentactivism.net', 'indices': [0, 23]}]}, 'description': {'urls': []}}, 'protected': False, 'followers_count': 31996, 'friends_count': 1587, 'listed_count': 1320, 'created_at': 'Sun Feb 15 16:38:54 +0000 2009', 'favourites_count': 43262, 'utc_offset': -14400, 'time_zone': 'Eastern Time (US & Canada)', 'geo_enabled': True, 'verified': True, 'statuses_count': 103918, 'lang': 'en', 'contributors_enabled': False, 'is_translator': False, 'is_translation_enabled': False, 'profile_background_color': 'FFFFFF', 'profile_background_image_url': 'http://pbs.twimg.com/profile_background_images/55216476/11146_229182779464_751509464_4249979_5742474_n.jpg', 'profile_background_image_url_https': 'https://pbs.twimg.com/profile_background_images/55216476/11146_229182779464_751509464_4249979_5742474_n.jpg', 'profile_background_tile': False, 'profile_image_url': 'http://pbs.twimg.com/profile_images/652567265007804417/RaXTQ-Vn_normal.jpg', 'profile_image_url_https': 'https://pbs.twimg.com/profile_images/652567265007804417/RaXTQ-Vn_normal.jpg', 'profile_banner_url': 'https://pbs.twimg.com/profile_banners/20919626/1479779417', 'profile_link_color': '006A91', 'profile_sidebar_border_color': 'D3D2CF', 'profile_sidebar_fill_color': 'E6F8FF', 'profile_text_color': '000000', 'profile_use_background_image': False, 'has_extended_profile': True, 'default_profile': False, 'default_profile_image': False, 'following': False, 'follow_request_sent': False, 'notifications': False, 'translator_type': 'none'}, 'geo': None, 'coordinates': None, 'place': None, 'contributors': None, 'is_quote_status': False, 'retweet_count': 196, 'favorite_count': 336, 'favorited': False, 'retweeted': False, 'lang': 'en'}, 'retweet_count': 278, 'favorite_count': 311, 'favorited': False, 'retweeted': False, 'possibly_sensitive': False, 'lang': 'en'}, created_at=datetime.datetime(2017, 9, 16, 20, 37, 33), id=909154311594274816, id_str='909154311594274816', text='Must-read thread - Milo may be planning this whole Berkeley \"Free Speech\" thing as a stunt SO THAT it gets canceled… https://t.co/EbtHLm5NaC', truncated=True, entities={'hashtags': [], 'symbols': [], 'user_mentions': [], 'urls': [{'url': 'https://t.co/EbtHLm5NaC', 'expanded_url': 'https://twitter.com/i/web/status/909154311594274816', 'display_url': 'twitter.com/i/web/status/9…', 'indices': [117, 140]}]}, metadata={'result_type': 'popular', 'iso_language_code': 'en'}, source='Twitter Web Client', source_url='http://twitter.com', in_reply_to_status_id=None, in_reply_to_status_id_str=None, in_reply_to_user_id=None, in_reply_to_user_id_str=None, in_reply_to_screen_name=None, author=User(_api=<tweepy.api.API object at 0x7f465a792ba8>, _json={'id': 14215322, 'id_str': '14215322', 'name': '❄️Jaclyn Friedman❄️', 'screen_name': 'jaclynf', 'location': 'Boston, MA', 'description': 'Writer. Speaker. Feminist Troublemaker. #Unscrewed podcaster. She persists.', 'url': 'https://t.co/yGUjiYUaaI', 'entities': {'url': {'urls': [{'url': 'https://t.co/yGUjiYUaaI', 'expanded_url': 'http://www.jaclynfriedman.com', 'display_url': 'jaclynfriedman.com', 'indices': [0, 23]}]}, 'description': {'urls': []}}, 'protected': False, 'followers_count': 14124, 'friends_count': 987, 'listed_count': 653, 'created_at': 'Tue Mar 25 13:25:35 +0000 2008', 'favourites_count': 3595, 'utc_offset': -14400, 'time_zone': 'Eastern Time (US & Canada)', 'geo_enabled': False, 'verified': True, 'statuses_count': 27563, 'lang': 'en', 'contributors_enabled': False, 'is_translator': False, 'is_translation_enabled': False, 'profile_background_color': '709397', 'profile_background_image_url': 'http://abs.twimg.com/images/themes/theme6/bg.gif', 'profile_background_image_url_https': 'https://abs.twimg.com/images/themes/theme6/bg.gif', 'profile_background_tile': False, 'profile_image_url': 'http://pbs.twimg.com/profile_images/905848302087823360/hw-Jfj0D_normal.jpg', 'profile_image_url_https': 'https://pbs.twimg.com/profile_images/905848302087823360/hw-Jfj0D_normal.jpg', 'profile_banner_url': 'https://pbs.twimg.com/profile_banners/14215322/1504806066', 'profile_link_color': 'FF3300', 'profile_sidebar_border_color': '86A4A6', 'profile_sidebar_fill_color': 'A0C5C7', 'profile_text_color': '333333', 'profile_use_background_image': True, 'has_extended_profile': True, 'default_profile': False, 'default_profile_image': False, 'following': False, 'follow_request_sent': False, 'notifications': False, 'translator_type': 'none'}, id=14215322, id_str='14215322', name='❄️Jaclyn Friedman❄️', screen_name='jaclynf', location='Boston, MA', description='Writer. Speaker. Feminist Troublemaker. #Unscrewed podcaster. She persists.', url='https://t.co/yGUjiYUaaI', entities={'url': {'urls': [{'url': 'https://t.co/yGUjiYUaaI', 'expanded_url': 'http://www.jaclynfriedman.com', 'display_url': 'jaclynfriedman.com', 'indices': [0, 23]}]}, 'description': {'urls': []}}, protected=False, followers_count=14124, friends_count=987, listed_count=653, created_at=datetime.datetime(2008, 3, 25, 13, 25, 35), favourites_count=3595, utc_offset=-14400, time_zone='Eastern Time (US & Canada)', geo_enabled=False, verified=True, statuses_count=27563, lang='en', contributors_enabled=False, is_translator=False, is_translation_enabled=False, profile_background_color='709397', profile_background_image_url='http://abs.twimg.com/images/themes/theme6/bg.gif', profile_background_image_url_https='https://abs.twimg.com/images/themes/theme6/bg.gif', profile_background_tile=False, profile_image_url='http://pbs.twimg.com/profile_images/905848302087823360/hw-Jfj0D_normal.jpg', profile_image_url_https='https://pbs.twimg.com/profile_images/905848302087823360/hw-Jfj0D_normal.jpg', profile_banner_url='https://pbs.twimg.com/profile_banners/14215322/1504806066', profile_link_color='FF3300', profile_sidebar_border_color='86A4A6', profile_sidebar_fill_color='A0C5C7', profile_text_color='333333', profile_use_background_image=True, has_extended_profile=True, default_profile=False, default_profile_image=False, following=False, follow_request_sent=False, notifications=False, translator_type='none'), user=User(_api=<tweepy.api.API object at 0x7f465a792ba8>, _json={'id': 14215322, 'id_str': '14215322', 'name': '❄️Jaclyn Friedman❄️', 'screen_name': 'jaclynf', 'location': 'Boston, MA', 'description': 'Writer. Speaker. Feminist Troublemaker. #Unscrewed podcaster. She persists.', 'url': 'https://t.co/yGUjiYUaaI', 'entities': {'url': {'urls': [{'url': 'https://t.co/yGUjiYUaaI', 'expanded_url': 'http://www.jaclynfriedman.com', 'display_url': 'jaclynfriedman.com', 'indices': [0, 23]}]}, 'description': {'urls': []}}, 'protected': False, 'followers_count': 14124, 'friends_count': 987, 'listed_count': 653, 'created_at': 'Tue Mar 25 13:25:35 +0000 2008', 'favourites_count': 3595, 'utc_offset': -14400, 'time_zone': 'Eastern Time (US & Canada)', 'geo_enabled': False, 'verified': True, 'statuses_count': 27563, 'lang': 'en', 'contributors_enabled': False, 'is_translator': False, 'is_translation_enabled': False, 'profile_background_color': '709397', 'profile_background_image_url': 'http://abs.twimg.com/images/themes/theme6/bg.gif', 'profile_background_image_url_https': 'https://abs.twimg.com/images/themes/theme6/bg.gif', 'profile_background_tile': False, 'profile_image_url': 'http://pbs.twimg.com/profile_images/905848302087823360/hw-Jfj0D_normal.jpg', 'profile_image_url_https': 'https://pbs.twimg.com/profile_images/905848302087823360/hw-Jfj0D_normal.jpg', 'profile_banner_url': 'https://pbs.twimg.com/profile_banners/14215322/1504806066', 'profile_link_color': 'FF3300', 'profile_sidebar_border_color': '86A4A6', 'profile_sidebar_fill_color': 'A0C5C7', 'profile_text_color': '333333', 'profile_use_background_image': True, 'has_extended_profile': True, 'default_profile': False, 'default_profile_image': False, 'following': False, 'follow_request_sent': False, 'notifications': False, 'translator_type': 'none'}, id=14215322, id_str='14215322', name='❄️Jaclyn Friedman❄️', screen_name='jaclynf', location='Boston, MA', description='Writer. Speaker. Feminist Troublemaker. #Unscrewed podcaster. She persists.', url='https://t.co/yGUjiYUaaI', entities={'url': {'urls': [{'url': 'https://t.co/yGUjiYUaaI', 'expanded_url': 'http://www.jaclynfriedman.com', 'display_url': 'jaclynfriedman.com', 'indices': [0, 23]}]}, 'description': {'urls': []}}, protected=False, followers_count=14124, friends_count=987, listed_count=653, created_at=datetime.datetime(2008, 3, 25, 13, 25, 35), favourites_count=3595, utc_offset=-14400, time_zone='Eastern Time (US & Canada)', geo_enabled=False, verified=True, statuses_count=27563, lang='en', contributors_enabled=False, is_translator=False, is_translation_enabled=False, profile_background_color='709397', profile_background_image_url='http://abs.twimg.com/images/themes/theme6/bg.gif', profile_background_image_url_https='https://abs.twimg.com/images/themes/theme6/bg.gif', profile_background_tile=False, profile_image_url='http://pbs.twimg.com/profile_images/905848302087823360/hw-Jfj0D_normal.jpg', profile_image_url_https='https://pbs.twimg.com/profile_images/905848302087823360/hw-Jfj0D_normal.jpg', profile_banner_url='https://pbs.twimg.com/profile_banners/14215322/1504806066', profile_link_color='FF3300', profile_sidebar_border_color='86A4A6', profile_sidebar_fill_color='A0C5C7', profile_text_color='333333', profile_use_background_image=True, has_extended_profile=True, default_profile=False, default_profile_image=False, following=False, follow_request_sent=False, notifications=False, translator_type='none'), geo=None, coordinates=None, place=None, contributors=None, is_quote_status=True, quoted_status_id=908701654299611136, quoted_status_id_str='908701654299611136', quoted_status={'created_at': 'Fri Sep 15 14:38:51 +0000 2017', 'id': 908701654299611136, 'id_str': '908701654299611136', 'text': \"It's now September 15. Journalists, you're on notice: If you report in nine days that Berkeley banned Milo you're a meat puppet for a bigot.\", 'truncated': False, 'entities': {'hashtags': [], 'symbols': [], 'user_mentions': [], 'urls': []}, 'metadata': {'result_type': 'popular', 'iso_language_code': 'en'}, 'source': '<a href=\"http://twitter.com\" rel=\"nofollow\">Twitter Web Client</a>', 'in_reply_to_status_id': 908700766071853056, 'in_reply_to_status_id_str': '908700766071853056', 'in_reply_to_user_id': 20919626, 'in_reply_to_user_id_str': '20919626', 'in_reply_to_screen_name': 'studentactivism', 'user': {'id': 20919626, 'id_str': '20919626', 'name': 'Angus Johnston', 'screen_name': 'studentactivism', 'location': 'New York City', 'description': 'Historian and advocate of American student activism. CUNY prof. To invite me to write or speak, drop me a note at angus@fecko.com.', 'url': 'https://t.co/ZIm0kKx6eU', 'entities': {'url': {'urls': [{'url': 'https://t.co/ZIm0kKx6eU', 'expanded_url': 'http://studentactivism.net', 'display_url': 'studentactivism.net', 'indices': [0, 23]}]}, 'description': {'urls': []}}, 'protected': False, 'followers_count': 31996, 'friends_count': 1587, 'listed_count': 1320, 'created_at': 'Sun Feb 15 16:38:54 +0000 2009', 'favourites_count': 43262, 'utc_offset': -14400, 'time_zone': 'Eastern Time (US & Canada)', 'geo_enabled': True, 'verified': True, 'statuses_count': 103918, 'lang': 'en', 'contributors_enabled': False, 'is_translator': False, 'is_translation_enabled': False, 'profile_background_color': 'FFFFFF', 'profile_background_image_url': 'http://pbs.twimg.com/profile_background_images/55216476/11146_229182779464_751509464_4249979_5742474_n.jpg', 'profile_background_image_url_https': 'https://pbs.twimg.com/profile_background_images/55216476/11146_229182779464_751509464_4249979_5742474_n.jpg', 'profile_background_tile': False, 'profile_image_url': 'http://pbs.twimg.com/profile_images/652567265007804417/RaXTQ-Vn_normal.jpg', 'profile_image_url_https': 'https://pbs.twimg.com/profile_images/652567265007804417/RaXTQ-Vn_normal.jpg', 'profile_banner_url': 'https://pbs.twimg.com/profile_banners/20919626/1479779417', 'profile_link_color': '006A91', 'profile_sidebar_border_color': 'D3D2CF', 'profile_sidebar_fill_color': 'E6F8FF', 'profile_text_color': '000000', 'profile_use_background_image': False, 'has_extended_profile': True, 'default_profile': False, 'default_profile_image': False, 'following': False, 'follow_request_sent': False, 'notifications': False, 'translator_type': 'none'}, 'geo': None, 'coordinates': None, 'place': None, 'contributors': None, 'is_quote_status': False, 'retweet_count': 196, 'favorite_count': 336, 'favorited': False, 'retweeted': False, 'lang': 'en'}, retweet_count=278, favorite_count=311, favorited=False, retweeted=False, possibly_sensitive=False, lang='en'), Status(_api=<tweepy.api.API object at 0x7f465a792ba8>, _json={'created_at': 'Sat Sep 16 15:18:11 +0000 2017', 'id': 909073938638163971, 'id_str': '909073938638163971', 'text': 'Give those who do evil free rein. They will destroy themselves, most probably in spectacular fashion. #Berkeley… https://t.co/F5NwXpAN7P', 'truncated': True, 'entities': {'hashtags': [{'text': 'Berkeley', 'indices': [102, 111]}], 'symbols': [], 'user_mentions': [], 'urls': [{'url': 'https://t.co/F5NwXpAN7P', 'expanded_url': 'https://twitter.com/i/web/status/909073938638163971', 'display_url': 'twitter.com/i/web/status/9…', 'indices': [113, 136]}]}, 'metadata': {'result_type': 'popular', 'iso_language_code': 'en'}, 'source': '<a href=\"http://twitter.com/download/iphone\" rel=\"nofollow\">Twitter for iPhone</a>', 'in_reply_to_status_id': None, 'in_reply_to_status_id_str': None, 'in_reply_to_user_id': None, 'in_reply_to_user_id_str': None, 'in_reply_to_screen_name': None, 'user': {'id': 78523300, 'id_str': '78523300', 'name': 'James Woods', 'screen_name': 'RealJamesWoods', 'location': '', 'description': '#America', 'url': None, 'entities': {'description': {'urls': []}}, 'protected': False, 'followers_count': 862052, 'friends_count': 4871, 'listed_count': 5726, 'created_at': 'Wed Sep 30 05:31:28 +0000 2009', 'favourites_count': 1496, 'utc_offset': -14400, 'time_zone': 'Eastern Time (US & Canada)', 'geo_enabled': True, 'verified': True, 'statuses_count': 17772, 'lang': 'en', 'contributors_enabled': False, 'is_translator': False, 'is_translation_enabled': False, 'profile_background_color': 'C0DEED', 'profile_background_image_url': 'http://abs.twimg.com/images/themes/theme1/bg.png', 'profile_background_image_url_https': 'https://abs.twimg.com/images/themes/theme1/bg.png', 'profile_background_tile': False, 'profile_image_url': 'http://pbs.twimg.com/profile_images/796482667340382211/CoV8077b_normal.jpg', 'profile_image_url_https': 'https://pbs.twimg.com/profile_images/796482667340382211/CoV8077b_normal.jpg', 'profile_banner_url': 'https://pbs.twimg.com/profile_banners/78523300/1505222681', 'profile_link_color': '1DA1F2', 'profile_sidebar_border_color': 'C0DEED', 'profile_sidebar_fill_color': 'DDEEF6', 'profile_text_color': '333333', 'profile_use_background_image': True, 'has_extended_profile': False, 'default_profile': True, 'default_profile_image': False, 'following': False, 'follow_request_sent': False, 'notifications': False, 'translator_type': 'none'}, 'geo': None, 'coordinates': None, 'place': None, 'contributors': None, 'is_quote_status': True, 'quoted_status_id': 909062194863722496, 'quoted_status_id_str': '909062194863722496', 'quoted_status': {'created_at': 'Sat Sep 16 14:31:31 +0000 2017', 'id': 909062194863722496, 'id_str': '909062194863722496', 'text': '@RealJamesWoods James, you should go and speak there. That would shake things up ;)', 'truncated': False, 'entities': {'hashtags': [], 'symbols': [], 'user_mentions': [{'screen_name': 'RealJamesWoods', 'name': 'James Woods', 'id': 78523300, 'id_str': '78523300', 'indices': [0, 15]}], 'urls': []}, 'metadata': {'result_type': 'popular', 'iso_language_code': 'en'}, 'source': '<a href=\"http://twitter.com/#!/download/ipad\" rel=\"nofollow\">Twitter for iPad</a>', 'in_reply_to_status_id': 909061642318696448, 'in_reply_to_status_id_str': '909061642318696448', 'in_reply_to_user_id': 78523300, 'in_reply_to_user_id_str': '78523300', 'in_reply_to_screen_name': 'RealJamesWoods', 'user': {'id': 898549314284400641, 'id_str': '898549314284400641', 'name': 'Hannah 🇺🇸🇬🇧', 'screen_name': 'risinginfidel', 'location': '', 'description': \"Think I got a double dose of red pills. Stop immigration. Stop Islamification. Stop the gender nonsense. If you need a safe space don't follow me.\", 'url': None, 'entities': {'description': {'urls': []}}, 'protected': False, 'followers_count': 982, 'friends_count': 702, 'listed_count': 3, 'created_at': 'Fri Aug 18 14:17:05 +0000 2017', 'favourites_count': 3155, 'utc_offset': None, 'time_zone': None, 'geo_enabled': True, 'verified': False, 'statuses_count': 2582, 'lang': 'en', 'contributors_enabled': False, 'is_translator': False, 'is_translation_enabled': False, 'profile_background_color': 'F5F8FA', 'profile_background_image_url': None, 'profile_background_image_url_https': None, 'profile_background_tile': False, 'profile_image_url': 'http://pbs.twimg.com/profile_images/907261126882349061/x-QGxAwL_normal.jpg', 'profile_image_url_https': 'https://pbs.twimg.com/profile_images/907261126882349061/x-QGxAwL_normal.jpg', 'profile_banner_url': 'https://pbs.twimg.com/profile_banners/898549314284400641/1505314223', 'profile_link_color': '1DA1F2', 'profile_sidebar_border_color': 'C0DEED', 'profile_sidebar_fill_color': 'DDEEF6', 'profile_text_color': '333333', 'profile_use_background_image': True, 'has_extended_profile': False, 'default_profile': True, 'default_profile_image': False, 'following': False, 'follow_request_sent': False, 'notifications': False, 'translator_type': 'none'}, 'geo': None, 'coordinates': None, 'place': None, 'contributors': None, 'is_quote_status': False, 'retweet_count': 15, 'favorite_count': 42, 'favorited': False, 'retweeted': False, 'lang': 'en'}, 'retweet_count': 528, 'favorite_count': 1765, 'favorited': False, 'retweeted': False, 'possibly_sensitive': False, 'lang': 'en'}, created_at=datetime.datetime(2017, 9, 16, 15, 18, 11), id=909073938638163971, id_str='909073938638163971', text='Give those who do evil free rein. They will destroy themselves, most probably in spectacular fashion. #Berkeley… https://t.co/F5NwXpAN7P', truncated=True, entities={'hashtags': [{'text': 'Berkeley', 'indices': [102, 111]}], 'symbols': [], 'user_mentions': [], 'urls': [{'url': 'https://t.co/F5NwXpAN7P', 'expanded_url': 'https://twitter.com/i/web/status/909073938638163971', 'display_url': 'twitter.com/i/web/status/9…', 'indices': [113, 136]}]}, metadata={'result_type': 'popular', 'iso_language_code': 'en'}, source='Twitter for iPhone', source_url='http://twitter.com/download/iphone', in_reply_to_status_id=None, in_reply_to_status_id_str=None, in_reply_to_user_id=None, in_reply_to_user_id_str=None, in_reply_to_screen_name=None, author=User(_api=<tweepy.api.API object at 0x7f465a792ba8>, _json={'id': 78523300, 'id_str': '78523300', 'name': 'James Woods', 'screen_name': 'RealJamesWoods', 'location': '', 'description': '#America', 'url': None, 'entities': {'description': {'urls': []}}, 'protected': False, 'followers_count': 862052, 'friends_count': 4871, 'listed_count': 5726, 'created_at': 'Wed Sep 30 05:31:28 +0000 2009', 'favourites_count': 1496, 'utc_offset': -14400, 'time_zone': 'Eastern Time (US & Canada)', 'geo_enabled': True, 'verified': True, 'statuses_count': 17772, 'lang': 'en', 'contributors_enabled': False, 'is_translator': False, 'is_translation_enabled': False, 'profile_background_color': 'C0DEED', 'profile_background_image_url': 'http://abs.twimg.com/images/themes/theme1/bg.png', 'profile_background_image_url_https': 'https://abs.twimg.com/images/themes/theme1/bg.png', 'profile_background_tile': False, 'profile_image_url': 'http://pbs.twimg.com/profile_images/796482667340382211/CoV8077b_normal.jpg', 'profile_image_url_https': 'https://pbs.twimg.com/profile_images/796482667340382211/CoV8077b_normal.jpg', 'profile_banner_url': 'https://pbs.twimg.com/profile_banners/78523300/1505222681', 'profile_link_color': '1DA1F2', 'profile_sidebar_border_color': 'C0DEED', 'profile_sidebar_fill_color': 'DDEEF6', 'profile_text_color': '333333', 'profile_use_background_image': True, 'has_extended_profile': False, 'default_profile': True, 'default_profile_image': False, 'following': False, 'follow_request_sent': False, 'notifications': False, 'translator_type': 'none'}, id=78523300, id_str='78523300', name='James Woods', screen_name='RealJamesWoods', location='', description='#America', url=None, entities={'description': {'urls': []}}, protected=False, followers_count=862052, friends_count=4871, listed_count=5726, created_at=datetime.datetime(2009, 9, 30, 5, 31, 28), favourites_count=1496, utc_offset=-14400, time_zone='Eastern Time (US & Canada)', geo_enabled=True, verified=True, statuses_count=17772, lang='en', contributors_enabled=False, is_translator=False, is_translation_enabled=False, profile_background_color='C0DEED', profile_background_image_url='http://abs.twimg.com/images/themes/theme1/bg.png', profile_background_image_url_https='https://abs.twimg.com/images/themes/theme1/bg.png', profile_background_tile=False, profile_image_url='http://pbs.twimg.com/profile_images/796482667340382211/CoV8077b_normal.jpg', profile_image_url_https='https://pbs.twimg.com/profile_images/796482667340382211/CoV8077b_normal.jpg', profile_banner_url='https://pbs.twimg.com/profile_banners/78523300/1505222681', profile_link_color='1DA1F2', profile_sidebar_border_color='C0DEED', profile_sidebar_fill_color='DDEEF6', profile_text_color='333333', profile_use_background_image=True, has_extended_profile=False, default_profile=True, default_profile_image=False, following=False, follow_request_sent=False, notifications=False, translator_type='none'), user=User(_api=<tweepy.api.API object at 0x7f465a792ba8>, _json={'id': 78523300, 'id_str': '78523300', 'name': 'James Woods', 'screen_name': 'RealJamesWoods', 'location': '', 'description': '#America', 'url': None, 'entities': {'description': {'urls': []}}, 'protected': False, 'followers_count': 862052, 'friends_count': 4871, 'listed_count': 5726, 'created_at': 'Wed Sep 30 05:31:28 +0000 2009', 'favourites_count': 1496, 'utc_offset': -14400, 'time_zone': 'Eastern Time (US & Canada)', 'geo_enabled': True, 'verified': True, 'statuses_count': 17772, 'lang': 'en', 'contributors_enabled': False, 'is_translator': False, 'is_translation_enabled': False, 'profile_background_color': 'C0DEED', 'profile_background_image_url': 'http://abs.twimg.com/images/themes/theme1/bg.png', 'profile_background_image_url_https': 'https://abs.twimg.com/images/themes/theme1/bg.png', 'profile_background_tile': False, 'profile_image_url': 'http://pbs.twimg.com/profile_images/796482667340382211/CoV8077b_normal.jpg', 'profile_image_url_https': 'https://pbs.twimg.com/profile_images/796482667340382211/CoV8077b_normal.jpg', 'profile_banner_url': 'https://pbs.twimg.com/profile_banners/78523300/1505222681', 'profile_link_color': '1DA1F2', 'profile_sidebar_border_color': 'C0DEED', 'profile_sidebar_fill_color': 'DDEEF6', 'profile_text_color': '333333', 'profile_use_background_image': True, 'has_extended_profile': False, 'default_profile': True, 'default_profile_image': False, 'following': False, 'follow_request_sent': False, 'notifications': False, 'translator_type': 'none'}, id=78523300, id_str='78523300', name='James Woods', screen_name='RealJamesWoods', location='', description='#America', url=None, entities={'description': {'urls': []}}, protected=False, followers_count=862052, friends_count=4871, listed_count=5726, created_at=datetime.datetime(2009, 9, 30, 5, 31, 28), favourites_count=1496, utc_offset=-14400, time_zone='Eastern Time (US & Canada)', geo_enabled=True, verified=True, statuses_count=17772, lang='en', contributors_enabled=False, is_translator=False, is_translation_enabled=False, profile_background_color='C0DEED', profile_background_image_url='http://abs.twimg.com/images/themes/theme1/bg.png', profile_background_image_url_https='https://abs.twimg.com/images/themes/theme1/bg.png', profile_background_tile=False, profile_image_url='http://pbs.twimg.com/profile_images/796482667340382211/CoV8077b_normal.jpg', profile_image_url_https='https://pbs.twimg.com/profile_images/796482667340382211/CoV8077b_normal.jpg', profile_banner_url='https://pbs.twimg.com/profile_banners/78523300/1505222681', profile_link_color='1DA1F2', profile_sidebar_border_color='C0DEED', profile_sidebar_fill_color='DDEEF6', profile_text_color='333333', profile_use_background_image=True, has_extended_profile=False, default_profile=True, default_profile_image=False, following=False, follow_request_sent=False, notifications=False, translator_type='none'), geo=None, coordinates=None, place=None, contributors=None, is_quote_status=True, quoted_status_id=909062194863722496, quoted_status_id_str='909062194863722496', quoted_status={'created_at': 'Sat Sep 16 14:31:31 +0000 2017', 'id': 909062194863722496, 'id_str': '909062194863722496', 'text': '@RealJamesWoods James, you should go and speak there. That would shake things up ;)', 'truncated': False, 'entities': {'hashtags': [], 'symbols': [], 'user_mentions': [{'screen_name': 'RealJamesWoods', 'name': 'James Woods', 'id': 78523300, 'id_str': '78523300', 'indices': [0, 15]}], 'urls': []}, 'metadata': {'result_type': 'popular', 'iso_language_code': 'en'}, 'source': '<a href=\"http://twitter.com/#!/download/ipad\" rel=\"nofollow\">Twitter for iPad</a>', 'in_reply_to_status_id': 909061642318696448, 'in_reply_to_status_id_str': '909061642318696448', 'in_reply_to_user_id': 78523300, 'in_reply_to_user_id_str': '78523300', 'in_reply_to_screen_name': 'RealJamesWoods', 'user': {'id': 898549314284400641, 'id_str': '898549314284400641', 'name': 'Hannah 🇺🇸🇬🇧', 'screen_name': 'risinginfidel', 'location': '', 'description': \"Think I got a double dose of red pills. Stop immigration. Stop Islamification. Stop the gender nonsense. If you need a safe space don't follow me.\", 'url': None, 'entities': {'description': {'urls': []}}, 'protected': False, 'followers_count': 982, 'friends_count': 702, 'listed_count': 3, 'created_at': 'Fri Aug 18 14:17:05 +0000 2017', 'favourites_count': 3155, 'utc_offset': None, 'time_zone': None, 'geo_enabled': True, 'verified': False, 'statuses_count': 2582, 'lang': 'en', 'contributors_enabled': False, 'is_translator': False, 'is_translation_enabled': False, 'profile_background_color': 'F5F8FA', 'profile_background_image_url': None, 'profile_background_image_url_https': None, 'profile_background_tile': False, 'profile_image_url': 'http://pbs.twimg.com/profile_images/907261126882349061/x-QGxAwL_normal.jpg', 'profile_image_url_https': 'https://pbs.twimg.com/profile_images/907261126882349061/x-QGxAwL_normal.jpg', 'profile_banner_url': 'https://pbs.twimg.com/profile_banners/898549314284400641/1505314223', 'profile_link_color': '1DA1F2', 'profile_sidebar_border_color': 'C0DEED', 'profile_sidebar_fill_color': 'DDEEF6', 'profile_text_color': '333333', 'profile_use_background_image': True, 'has_extended_profile': False, 'default_profile': True, 'default_profile_image': False, 'following': False, 'follow_request_sent': False, 'notifications': False, 'translator_type': 'none'}, 'geo': None, 'coordinates': None, 'place': None, 'contributors': None, 'is_quote_status': False, 'retweet_count': 15, 'favorite_count': 42, 'favorited': False, 'retweeted': False, 'lang': 'en'}, retweet_count=528, favorite_count=1765, favorited=False, retweeted=False, possibly_sensitive=False, lang='en'), Status(_api=<tweepy.api.API object at 0x7f465a792ba8>, _json={'created_at': 'Sat Sep 16 14:31:26 +0000 2017', 'id': 909062174269509634, 'id_str': '909062174269509634', 'text': 'Is it too late for me to enroll at Berkeley High? ✊🏿🤔 https://t.co/85828zKTRZ', 'truncated': False, 'entities': {'hashtags': [], 'symbols': [], 'user_mentions': [], 'urls': [{'url': 'https://t.co/85828zKTRZ', 'expanded_url': 'https://twitter.com/i/moments/908764202046676992', 'display_url': 'twitter.com/i/moments/9087…', 'indices': [54, 77]}]}, 'metadata': {'result_type': 'popular', 'iso_language_code': 'en'}, 'source': '<a href=\"http://twitter.com/download/android\" rel=\"nofollow\">Twitter for Android</a>', 'in_reply_to_status_id': None, 'in_reply_to_status_id_str': None, 'in_reply_to_user_id': None, 'in_reply_to_user_id_str': None, 'in_reply_to_screen_name': None, 'user': {'id': 19119809, 'id_str': '19119809', 'name': 'W. Kamau Bell', 'screen_name': 'wkamaubell', 'location': 'On My Way', 'description': \"Stand-up Comic & host of @CNN's #UnitedShades of America, @denzealots, @KamauRightNow & #PoliticallyReActive. I tell jokes, but I'm not kidding. #Emmy WINNER!\", 'url': 'https://t.co/SkLRE1DnyV', 'entities': {'url': {'urls': [{'url': 'https://t.co/SkLRE1DnyV', 'expanded_url': 'http://www.wkamaubell.com', 'display_url': 'wkamaubell.com', 'indices': [0, 23]}]}, 'description': {'urls': []}}, 'protected': False, 'followers_count': 200769, 'friends_count': 999, 'listed_count': 2787, 'created_at': 'Sat Jan 17 19:01:11 +0000 2009', 'favourites_count': 37417, 'utc_offset': -25200, 'time_zone': 'Pacific Time (US & Canada)', 'geo_enabled': True, 'verified': True, 'statuses_count': 33922, 'lang': 'en', 'contributors_enabled': False, 'is_translator': False, 'is_translation_enabled': False, 'profile_background_color': '9AE4E8', 'profile_background_image_url': 'http://pbs.twimg.com/profile_background_images/846566169/e1a90ba5f6683aaa533a229e1d08cae1.jpeg', 'profile_background_image_url_https': 'https://pbs.twimg.com/profile_background_images/846566169/e1a90ba5f6683aaa533a229e1d08cae1.jpeg', 'profile_background_tile': False, 'profile_image_url': 'http://pbs.twimg.com/profile_images/854385086413684737/hBxAxD7T_normal.jpg', 'profile_image_url_https': 'https://pbs.twimg.com/profile_images/854385086413684737/hBxAxD7T_normal.jpg', 'profile_banner_url': 'https://pbs.twimg.com/profile_banners/19119809/1501432376', 'profile_link_color': '0084B4', 'profile_sidebar_border_color': 'FFFFFF', 'profile_sidebar_fill_color': 'DDFFCC', 'profile_text_color': '333333', 'profile_use_background_image': False, 'has_extended_profile': False, 'default_profile': False, 'default_profile_image': False, 'following': False, 'follow_request_sent': False, 'notifications': False, 'translator_type': 'none'}, 'geo': None, 'coordinates': None, 'place': None, 'contributors': None, 'is_quote_status': False, 'retweet_count': 172, 'favorite_count': 1113, 'favorited': False, 'retweeted': False, 'possibly_sensitive': False, 'lang': 'en'}, created_at=datetime.datetime(2017, 9, 16, 14, 31, 26), id=909062174269509634, id_str='909062174269509634', text='Is it too late for me to enroll at Berkeley High? ✊🏿🤔 https://t.co/85828zKTRZ', truncated=False, entities={'hashtags': [], 'symbols': [], 'user_mentions': [], 'urls': [{'url': 'https://t.co/85828zKTRZ', 'expanded_url': 'https://twitter.com/i/moments/908764202046676992', 'display_url': 'twitter.com/i/moments/9087…', 'indices': [54, 77]}]}, metadata={'result_type': 'popular', 'iso_language_code': 'en'}, source='Twitter for Android', source_url='http://twitter.com/download/android', in_reply_to_status_id=None, in_reply_to_status_id_str=None, in_reply_to_user_id=None, in_reply_to_user_id_str=None, in_reply_to_screen_name=None, author=User(_api=<tweepy.api.API object at 0x7f465a792ba8>, _json={'id': 19119809, 'id_str': '19119809', 'name': 'W. Kamau Bell', 'screen_name': 'wkamaubell', 'location': 'On My Way', 'description': \"Stand-up Comic & host of @CNN's #UnitedShades of America, @denzealots, @KamauRightNow & #PoliticallyReActive. I tell jokes, but I'm not kidding. #Emmy WINNER!\", 'url': 'https://t.co/SkLRE1DnyV', 'entities': {'url': {'urls': [{'url': 'https://t.co/SkLRE1DnyV', 'expanded_url': 'http://www.wkamaubell.com', 'display_url': 'wkamaubell.com', 'indices': [0, 23]}]}, 'description': {'urls': []}}, 'protected': False, 'followers_count': 200769, 'friends_count': 999, 'listed_count': 2787, 'created_at': 'Sat Jan 17 19:01:11 +0000 2009', 'favourites_count': 37417, 'utc_offset': -25200, 'time_zone': 'Pacific Time (US & Canada)', 'geo_enabled': True, 'verified': True, 'statuses_count': 33922, 'lang': 'en', 'contributors_enabled': False, 'is_translator': False, 'is_translation_enabled': False, 'profile_background_color': '9AE4E8', 'profile_background_image_url': 'http://pbs.twimg.com/profile_background_images/846566169/e1a90ba5f6683aaa533a229e1d08cae1.jpeg', 'profile_background_image_url_https': 'https://pbs.twimg.com/profile_background_images/846566169/e1a90ba5f6683aaa533a229e1d08cae1.jpeg', 'profile_background_tile': False, 'profile_image_url': 'http://pbs.twimg.com/profile_images/854385086413684737/hBxAxD7T_normal.jpg', 'profile_image_url_https': 'https://pbs.twimg.com/profile_images/854385086413684737/hBxAxD7T_normal.jpg', 'profile_banner_url': 'https://pbs.twimg.com/profile_banners/19119809/1501432376', 'profile_link_color': '0084B4', 'profile_sidebar_border_color': 'FFFFFF', 'profile_sidebar_fill_color': 'DDFFCC', 'profile_text_color': '333333', 'profile_use_background_image': False, 'has_extended_profile': False, 'default_profile': False, 'default_profile_image': False, 'following': False, 'follow_request_sent': False, 'notifications': False, 'translator_type': 'none'}, id=19119809, id_str='19119809', name='W. Kamau Bell', screen_name='wkamaubell', location='On My Way', description=\"Stand-up Comic & host of @CNN's #UnitedShades of America, @denzealots, @KamauRightNow & #PoliticallyReActive. I tell jokes, but I'm not kidding. #Emmy WINNER!\", url='https://t.co/SkLRE1DnyV', entities={'url': {'urls': [{'url': 'https://t.co/SkLRE1DnyV', 'expanded_url': 'http://www.wkamaubell.com', 'display_url': 'wkamaubell.com', 'indices': [0, 23]}]}, 'description': {'urls': []}}, protected=False, followers_count=200769, friends_count=999, listed_count=2787, created_at=datetime.datetime(2009, 1, 17, 19, 1, 11), favourites_count=37417, utc_offset=-25200, time_zone='Pacific Time (US & Canada)', geo_enabled=True, verified=True, statuses_count=33922, lang='en', contributors_enabled=False, is_translator=False, is_translation_enabled=False, profile_background_color='9AE4E8', profile_background_image_url='http://pbs.twimg.com/profile_background_images/846566169/e1a90ba5f6683aaa533a229e1d08cae1.jpeg', profile_background_image_url_https='https://pbs.twimg.com/profile_background_images/846566169/e1a90ba5f6683aaa533a229e1d08cae1.jpeg', profile_background_tile=False, profile_image_url='http://pbs.twimg.com/profile_images/854385086413684737/hBxAxD7T_normal.jpg', profile_image_url_https='https://pbs.twimg.com/profile_images/854385086413684737/hBxAxD7T_normal.jpg', profile_banner_url='https://pbs.twimg.com/profile_banners/19119809/1501432376', profile_link_color='0084B4', profile_sidebar_border_color='FFFFFF', profile_sidebar_fill_color='DDFFCC', profile_text_color='333333', profile_use_background_image=False, has_extended_profile=False, default_profile=False, default_profile_image=False, following=False, follow_request_sent=False, notifications=False, translator_type='none'), user=User(_api=<tweepy.api.API object at 0x7f465a792ba8>, _json={'id': 19119809, 'id_str': '19119809', 'name': 'W. Kamau Bell', 'screen_name': 'wkamaubell', 'location': 'On My Way', 'description': \"Stand-up Comic & host of @CNN's #UnitedShades of America, @denzealots, @KamauRightNow & #PoliticallyReActive. I tell jokes, but I'm not kidding. #Emmy WINNER!\", 'url': 'https://t.co/SkLRE1DnyV', 'entities': {'url': {'urls': [{'url': 'https://t.co/SkLRE1DnyV', 'expanded_url': 'http://www.wkamaubell.com', 'display_url': 'wkamaubell.com', 'indices': [0, 23]}]}, 'description': {'urls': []}}, 'protected': False, 'followers_count': 200769, 'friends_count': 999, 'listed_count': 2787, 'created_at': 'Sat Jan 17 19:01:11 +0000 2009', 'favourites_count': 37417, 'utc_offset': -25200, 'time_zone': 'Pacific Time (US & Canada)', 'geo_enabled': True, 'verified': True, 'statuses_count': 33922, 'lang': 'en', 'contributors_enabled': False, 'is_translator': False, 'is_translation_enabled': False, 'profile_background_color': '9AE4E8', 'profile_background_image_url': 'http://pbs.twimg.com/profile_background_images/846566169/e1a90ba5f6683aaa533a229e1d08cae1.jpeg', 'profile_background_image_url_https': 'https://pbs.twimg.com/profile_background_images/846566169/e1a90ba5f6683aaa533a229e1d08cae1.jpeg', 'profile_background_tile': False, 'profile_image_url': 'http://pbs.twimg.com/profile_images/854385086413684737/hBxAxD7T_normal.jpg', 'profile_image_url_https': 'https://pbs.twimg.com/profile_images/854385086413684737/hBxAxD7T_normal.jpg', 'profile_banner_url': 'https://pbs.twimg.com/profile_banners/19119809/1501432376', 'profile_link_color': '0084B4', 'profile_sidebar_border_color': 'FFFFFF', 'profile_sidebar_fill_color': 'DDFFCC', 'profile_text_color': '333333', 'profile_use_background_image': False, 'has_extended_profile': False, 'default_profile': False, 'default_profile_image': False, 'following': False, 'follow_request_sent': False, 'notifications': False, 'translator_type': 'none'}, id=19119809, id_str='19119809', name='W. Kamau Bell', screen_name='wkamaubell', location='On My Way', description=\"Stand-up Comic & host of @CNN's #UnitedShades of America, @denzealots, @KamauRightNow & #PoliticallyReActive. I tell jokes, but I'm not kidding. #Emmy WINNER!\", url='https://t.co/SkLRE1DnyV', entities={'url': {'urls': [{'url': 'https://t.co/SkLRE1DnyV', 'expanded_url': 'http://www.wkamaubell.com', 'display_url': 'wkamaubell.com', 'indices': [0, 23]}]}, 'description': {'urls': []}}, protected=False, followers_count=200769, friends_count=999, listed_count=2787, created_at=datetime.datetime(2009, 1, 17, 19, 1, 11), favourites_count=37417, utc_offset=-25200, time_zone='Pacific Time (US & Canada)', geo_enabled=True, verified=True, statuses_count=33922, lang='en', contributors_enabled=False, is_translator=False, is_translation_enabled=False, profile_background_color='9AE4E8', profile_background_image_url='http://pbs.twimg.com/profile_background_images/846566169/e1a90ba5f6683aaa533a229e1d08cae1.jpeg', profile_background_image_url_https='https://pbs.twimg.com/profile_background_images/846566169/e1a90ba5f6683aaa533a229e1d08cae1.jpeg', profile_background_tile=False, profile_image_url='http://pbs.twimg.com/profile_images/854385086413684737/hBxAxD7T_normal.jpg', profile_image_url_https='https://pbs.twimg.com/profile_images/854385086413684737/hBxAxD7T_normal.jpg', profile_banner_url='https://pbs.twimg.com/profile_banners/19119809/1501432376', profile_link_color='0084B4', profile_sidebar_border_color='FFFFFF', profile_sidebar_fill_color='DDFFCC', profile_text_color='333333', profile_use_background_image=False, has_extended_profile=False, default_profile=False, default_profile_image=False, following=False, follow_request_sent=False, notifications=False, translator_type='none'), geo=None, coordinates=None, place=None, contributors=None, is_quote_status=False, retweet_count=172, favorite_count=1113, favorited=False, retweeted=False, possibly_sensitive=False, lang='en'), Status(_api=<tweepy.api.API object at 0x7f465a792ba8>, _json={'created_at': 'Sat Sep 16 23:42:07 +0000 2017', 'id': 909200756175245313, 'id_str': '909200756175245313', 'text': \"'There Would've Been Violence' Without Them: @benshapiro Praises Cops After Berkeley Speech https://t.co/TalJ7oIfDS\", 'truncated': False, 'entities': {'hashtags': [], 'symbols': [], 'user_mentions': [{'screen_name': 'benshapiro', 'name': 'Ben Shapiro', 'id': 17995040, 'id_str': '17995040', 'indices': [45, 56]}], 'urls': [{'url': 'https://t.co/TalJ7oIfDS', 'expanded_url': 'http://insider.foxnews.com/2017/09/15/ben-shapiro-reacts-berkeley-speech-and-arrested-antifa-members', 'display_url': 'insider.foxnews.com/2017/09/15/ben…', 'indices': [92, 115]}]}, 'metadata': {'result_type': 'popular', 'iso_language_code': 'en'}, 'source': '<a href=\"http://twitter.com\" rel=\"nofollow\">Twitter Web Client</a>', 'in_reply_to_status_id': None, 'in_reply_to_status_id_str': None, 'in_reply_to_user_id': None, 'in_reply_to_user_id_str': None, 'in_reply_to_screen_name': None, 'user': {'id': 1367531, 'id_str': '1367531', 'name': 'Fox News', 'screen_name': 'FoxNews', 'location': 'U.S.A.', 'description': \"America’s Strongest Primetime Lineup Anywhere! Follow America's #1 cable news network, delivering you breaking news, insightful analysis, and must-see videos.\", 'url': 'http://t.co/ZYG58XZtAC', 'entities': {'url': {'urls': [{'url': 'http://t.co/ZYG58XZtAC', 'expanded_url': 'http://www.foxnews.com', 'display_url': 'foxnews.com', 'indices': [0, 22]}]}, 'description': {'urls': []}}, 'protected': False, 'followers_count': 15937601, 'friends_count': 418, 'listed_count': 60484, 'created_at': 'Sat Mar 17 19:01:26 +0000 2007', 'favourites_count': 0, 'utc_offset': -14400, 'time_zone': 'Eastern Time (US & Canada)', 'geo_enabled': False, 'verified': True, 'statuses_count': 330656, 'lang': 'en', 'contributors_enabled': False, 'is_translator': False, 'is_translation_enabled': True, 'profile_background_color': '0E2331', 'profile_background_image_url': 'http://pbs.twimg.com/profile_background_images/414488415/xyz123abc.jpg', 'profile_background_image_url_https': 'https://pbs.twimg.com/profile_background_images/414488415/xyz123abc.jpg', 'profile_background_tile': False, 'profile_image_url': 'http://pbs.twimg.com/profile_images/794654746342662144/hHnFe4Sx_normal.jpg', 'profile_image_url_https': 'https://pbs.twimg.com/profile_images/794654746342662144/hHnFe4Sx_normal.jpg', 'profile_banner_url': 'https://pbs.twimg.com/profile_banners/1367531/1492649996', 'profile_link_color': '183A52', 'profile_sidebar_border_color': 'FFFFFF', 'profile_sidebar_fill_color': 'F4F4F4', 'profile_text_color': '000000', 'profile_use_background_image': True, 'has_extended_profile': False, 'default_profile': False, 'default_profile_image': False, 'following': False, 'follow_request_sent': False, 'notifications': False, 'translator_type': 'regular'}, 'geo': None, 'coordinates': None, 'place': None, 'contributors': None, 'is_quote_status': False, 'retweet_count': 196, 'favorite_count': 896, 'favorited': False, 'retweeted': False, 'possibly_sensitive': False, 'lang': 'en'}, created_at=datetime.datetime(2017, 9, 16, 23, 42, 7), id=909200756175245313, id_str='909200756175245313', text=\"'There Would've Been Violence' Without Them: @benshapiro Praises Cops After Berkeley Speech https://t.co/TalJ7oIfDS\", truncated=False, entities={'hashtags': [], 'symbols': [], 'user_mentions': [{'screen_name': 'benshapiro', 'name': 'Ben Shapiro', 'id': 17995040, 'id_str': '17995040', 'indices': [45, 56]}], 'urls': [{'url': 'https://t.co/TalJ7oIfDS', 'expanded_url': 'http://insider.foxnews.com/2017/09/15/ben-shapiro-reacts-berkeley-speech-and-arrested-antifa-members', 'display_url': 'insider.foxnews.com/2017/09/15/ben…', 'indices': [92, 115]}]}, metadata={'result_type': 'popular', 'iso_language_code': 'en'}, source='Twitter Web Client', source_url='http://twitter.com', in_reply_to_status_id=None, in_reply_to_status_id_str=None, in_reply_to_user_id=None, in_reply_to_user_id_str=None, in_reply_to_screen_name=None, author=User(_api=<tweepy.api.API object at 0x7f465a792ba8>, _json={'id': 1367531, 'id_str': '1367531', 'name': 'Fox News', 'screen_name': 'FoxNews', 'location': 'U.S.A.', 'description': \"America’s Strongest Primetime Lineup Anywhere! Follow America's #1 cable news network, delivering you breaking news, insightful analysis, and must-see videos.\", 'url': 'http://t.co/ZYG58XZtAC', 'entities': {'url': {'urls': [{'url': 'http://t.co/ZYG58XZtAC', 'expanded_url': 'http://www.foxnews.com', 'display_url': 'foxnews.com', 'indices': [0, 22]}]}, 'description': {'urls': []}}, 'protected': False, 'followers_count': 15937601, 'friends_count': 418, 'listed_count': 60484, 'created_at': 'Sat Mar 17 19:01:26 +0000 2007', 'favourites_count': 0, 'utc_offset': -14400, 'time_zone': 'Eastern Time (US & Canada)', 'geo_enabled': False, 'verified': True, 'statuses_count': 330656, 'lang': 'en', 'contributors_enabled': False, 'is_translator': False, 'is_translation_enabled': True, 'profile_background_color': '0E2331', 'profile_background_image_url': 'http://pbs.twimg.com/profile_background_images/414488415/xyz123abc.jpg', 'profile_background_image_url_https': 'https://pbs.twimg.com/profile_background_images/414488415/xyz123abc.jpg', 'profile_background_tile': False, 'profile_image_url': 'http://pbs.twimg.com/profile_images/794654746342662144/hHnFe4Sx_normal.jpg', 'profile_image_url_https': 'https://pbs.twimg.com/profile_images/794654746342662144/hHnFe4Sx_normal.jpg', 'profile_banner_url': 'https://pbs.twimg.com/profile_banners/1367531/1492649996', 'profile_link_color': '183A52', 'profile_sidebar_border_color': 'FFFFFF', 'profile_sidebar_fill_color': 'F4F4F4', 'profile_text_color': '000000', 'profile_use_background_image': True, 'has_extended_profile': False, 'default_profile': False, 'default_profile_image': False, 'following': False, 'follow_request_sent': False, 'notifications': False, 'translator_type': 'regular'}, id=1367531, id_str='1367531', name='Fox News', screen_name='FoxNews', location='U.S.A.', description=\"America’s Strongest Primetime Lineup Anywhere! Follow America's #1 cable news network, delivering you breaking news, insightful analysis, and must-see videos.\", url='http://t.co/ZYG58XZtAC', entities={'url': {'urls': [{'url': 'http://t.co/ZYG58XZtAC', 'expanded_url': 'http://www.foxnews.com', 'display_url': 'foxnews.com', 'indices': [0, 22]}]}, 'description': {'urls': []}}, protected=False, followers_count=15937601, friends_count=418, listed_count=60484, created_at=datetime.datetime(2007, 3, 17, 19, 1, 26), favourites_count=0, utc_offset=-14400, time_zone='Eastern Time (US & Canada)', geo_enabled=False, verified=True, statuses_count=330656, lang='en', contributors_enabled=False, is_translator=False, is_translation_enabled=True, profile_background_color='0E2331', profile_background_image_url='http://pbs.twimg.com/profile_background_images/414488415/xyz123abc.jpg', profile_background_image_url_https='https://pbs.twimg.com/profile_background_images/414488415/xyz123abc.jpg', profile_background_tile=False, profile_image_url='http://pbs.twimg.com/profile_images/794654746342662144/hHnFe4Sx_normal.jpg', profile_image_url_https='https://pbs.twimg.com/profile_images/794654746342662144/hHnFe4Sx_normal.jpg', profile_banner_url='https://pbs.twimg.com/profile_banners/1367531/1492649996', profile_link_color='183A52', profile_sidebar_border_color='FFFFFF', profile_sidebar_fill_color='F4F4F4', profile_text_color='000000', profile_use_background_image=True, has_extended_profile=False, default_profile=False, default_profile_image=False, following=False, follow_request_sent=False, notifications=False, translator_type='regular'), user=User(_api=<tweepy.api.API object at 0x7f465a792ba8>, _json={'id': 1367531, 'id_str': '1367531', 'name': 'Fox News', 'screen_name': 'FoxNews', 'location': 'U.S.A.', 'description': \"America’s Strongest Primetime Lineup Anywhere! Follow America's #1 cable news network, delivering you breaking news, insightful analysis, and must-see videos.\", 'url': 'http://t.co/ZYG58XZtAC', 'entities': {'url': {'urls': [{'url': 'http://t.co/ZYG58XZtAC', 'expanded_url': 'http://www.foxnews.com', 'display_url': 'foxnews.com', 'indices': [0, 22]}]}, 'description': {'urls': []}}, 'protected': False, 'followers_count': 15937601, 'friends_count': 418, 'listed_count': 60484, 'created_at': 'Sat Mar 17 19:01:26 +0000 2007', 'favourites_count': 0, 'utc_offset': -14400, 'time_zone': 'Eastern Time (US & Canada)', 'geo_enabled': False, 'verified': True, 'statuses_count': 330656, 'lang': 'en', 'contributors_enabled': False, 'is_translator': False, 'is_translation_enabled': True, 'profile_background_color': '0E2331', 'profile_background_image_url': 'http://pbs.twimg.com/profile_background_images/414488415/xyz123abc.jpg', 'profile_background_image_url_https': 'https://pbs.twimg.com/profile_background_images/414488415/xyz123abc.jpg', 'profile_background_tile': False, 'profile_image_url': 'http://pbs.twimg.com/profile_images/794654746342662144/hHnFe4Sx_normal.jpg', 'profile_image_url_https': 'https://pbs.twimg.com/profile_images/794654746342662144/hHnFe4Sx_normal.jpg', 'profile_banner_url': 'https://pbs.twimg.com/profile_banners/1367531/1492649996', 'profile_link_color': '183A52', 'profile_sidebar_border_color': 'FFFFFF', 'profile_sidebar_fill_color': 'F4F4F4', 'profile_text_color': '000000', 'profile_use_background_image': True, 'has_extended_profile': False, 'default_profile': False, 'default_profile_image': False, 'following': False, 'follow_request_sent': False, 'notifications': False, 'translator_type': 'regular'}, id=1367531, id_str='1367531', name='Fox News', screen_name='FoxNews', location='U.S.A.', description=\"America’s Strongest Primetime Lineup Anywhere! Follow America's #1 cable news network, delivering you breaking news, insightful analysis, and must-see videos.\", url='http://t.co/ZYG58XZtAC', entities={'url': {'urls': [{'url': 'http://t.co/ZYG58XZtAC', 'expanded_url': 'http://www.foxnews.com', 'display_url': 'foxnews.com', 'indices': [0, 22]}]}, 'description': {'urls': []}}, protected=False, followers_count=15937601, friends_count=418, listed_count=60484, created_at=datetime.datetime(2007, 3, 17, 19, 1, 26), favourites_count=0, utc_offset=-14400, time_zone='Eastern Time (US & Canada)', geo_enabled=False, verified=True, statuses_count=330656, lang='en', contributors_enabled=False, is_translator=False, is_translation_enabled=True, profile_background_color='0E2331', profile_background_image_url='http://pbs.twimg.com/profile_background_images/414488415/xyz123abc.jpg', profile_background_image_url_https='https://pbs.twimg.com/profile_background_images/414488415/xyz123abc.jpg', profile_background_tile=False, profile_image_url='http://pbs.twimg.com/profile_images/794654746342662144/hHnFe4Sx_normal.jpg', profile_image_url_https='https://pbs.twimg.com/profile_images/794654746342662144/hHnFe4Sx_normal.jpg', profile_banner_url='https://pbs.twimg.com/profile_banners/1367531/1492649996', profile_link_color='183A52', profile_sidebar_border_color='FFFFFF', profile_sidebar_fill_color='F4F4F4', profile_text_color='000000', profile_use_background_image=True, has_extended_profile=False, default_profile=False, default_profile_image=False, following=False, follow_request_sent=False, notifications=False, translator_type='regular'), geo=None, coordinates=None, place=None, contributors=None, is_quote_status=False, retweet_count=196, favorite_count=896, favorited=False, retweeted=False, possibly_sensitive=False, lang='en'), Status(_api=<tweepy.api.API object at 0x7f465a792ba8>, _json={'created_at': 'Sun Sep 17 04:17:02 +0000 2017', 'id': 909269941894889473, 'id_str': '909269941894889473', 'text': '.@benshapiro speaks at @UCBerkeley despite arrests and protests https://t.co/FzVUq61BUq https://t.co/3Osg9BAr4d', 'truncated': False, 'entities': {'hashtags': [], 'symbols': [], 'user_mentions': [{'screen_name': 'benshapiro', 'name': 'Ben Shapiro', 'id': 17995040, 'id_str': '17995040', 'indices': [1, 12]}, {'screen_name': 'UCBerkeley', 'name': 'UC Berkeley', 'id': 176932593, 'id_str': '176932593', 'indices': [23, 34]}], 'urls': [{'url': 'https://t.co/FzVUq61BUq', 'expanded_url': 'http://fxn.ws/2h65KH3', 'display_url': 'fxn.ws/2h65KH3', 'indices': [64, 87]}], 'media': [{'id': 908699110340935680, 'id_str': '908699110340935680', 'indices': [88, 111], 'media_url': 'http://pbs.twimg.com/media/DJxZBr-VwAAa3TT.jpg', 'media_url_https': 'https://pbs.twimg.com/media/DJxZBr-VwAAa3TT.jpg', 'url': 'https://t.co/3Osg9BAr4d', 'display_url': 'pic.twitter.com/3Osg9BAr4d', 'expanded_url': 'https://twitter.com/FoxNews/status/909269941894889473/photo/1', 'type': 'photo', 'sizes': {'medium': {'w': 600, 'h': 600, 'resize': 'fit'}, 'large': {'w': 600, 'h': 600, 'resize': 'fit'}, 'thumb': {'w': 150, 'h': 150, 'resize': 'crop'}, 'small': {'w': 600, 'h': 600, 'resize': 'fit'}}}]}, 'extended_entities': {'media': [{'id': 908699110340935680, 'id_str': '908699110340935680', 'indices': [88, 111], 'media_url': 'http://pbs.twimg.com/media/DJxZBr-VwAAa3TT.jpg', 'media_url_https': 'https://pbs.twimg.com/media/DJxZBr-VwAAa3TT.jpg', 'url': 'https://t.co/3Osg9BAr4d', 'display_url': 'pic.twitter.com/3Osg9BAr4d', 'expanded_url': 'https://twitter.com/FoxNews/status/909269941894889473/photo/1', 'type': 'photo', 'sizes': {'medium': {'w': 600, 'h': 600, 'resize': 'fit'}, 'large': {'w': 600, 'h': 600, 'resize': 'fit'}, 'thumb': {'w': 150, 'h': 150, 'resize': 'crop'}, 'small': {'w': 600, 'h': 600, 'resize': 'fit'}}}]}, 'metadata': {'result_type': 'popular', 'iso_language_code': 'en'}, 'source': '<a href=\"https://studio.twitter.com\" rel=\"nofollow\">Media Studio</a>', 'in_reply_to_status_id': None, 'in_reply_to_status_id_str': None, 'in_reply_to_user_id': None, 'in_reply_to_user_id_str': None, 'in_reply_to_screen_name': None, 'user': {'id': 1367531, 'id_str': '1367531', 'name': 'Fox News', 'screen_name': 'FoxNews', 'location': 'U.S.A.', 'description': \"America’s Strongest Primetime Lineup Anywhere! Follow America's #1 cable news network, delivering you breaking news, insightful analysis, and must-see videos.\", 'url': 'http://t.co/ZYG58XZtAC', 'entities': {'url': {'urls': [{'url': 'http://t.co/ZYG58XZtAC', 'expanded_url': 'http://www.foxnews.com', 'display_url': 'foxnews.com', 'indices': [0, 22]}]}, 'description': {'urls': []}}, 'protected': False, 'followers_count': 15937601, 'friends_count': 418, 'listed_count': 60484, 'created_at': 'Sat Mar 17 19:01:26 +0000 2007', 'favourites_count': 0, 'utc_offset': -14400, 'time_zone': 'Eastern Time (US & Canada)', 'geo_enabled': False, 'verified': True, 'statuses_count': 330656, 'lang': 'en', 'contributors_enabled': False, 'is_translator': False, 'is_translation_enabled': True, 'profile_background_color': '0E2331', 'profile_background_image_url': 'http://pbs.twimg.com/profile_background_images/414488415/xyz123abc.jpg', 'profile_background_image_url_https': 'https://pbs.twimg.com/profile_background_images/414488415/xyz123abc.jpg', 'profile_background_tile': False, 'profile_image_url': 'http://pbs.twimg.com/profile_images/794654746342662144/hHnFe4Sx_normal.jpg', 'profile_image_url_https': 'https://pbs.twimg.com/profile_images/794654746342662144/hHnFe4Sx_normal.jpg', 'profile_banner_url': 'https://pbs.twimg.com/profile_banners/1367531/1492649996', 'profile_link_color': '183A52', 'profile_sidebar_border_color': 'FFFFFF', 'profile_sidebar_fill_color': 'F4F4F4', 'profile_text_color': '000000', 'profile_use_background_image': True, 'has_extended_profile': False, 'default_profile': False, 'default_profile_image': False, 'following': False, 'follow_request_sent': False, 'notifications': False, 'translator_type': 'regular'}, 'geo': None, 'coordinates': None, 'place': None, 'contributors': None, 'is_quote_status': False, 'retweet_count': 494, 'favorite_count': 1838, 'favorited': False, 'retweeted': False, 'possibly_sensitive': False, 'lang': 'en'}, created_at=datetime.datetime(2017, 9, 17, 4, 17, 2), id=909269941894889473, id_str='909269941894889473', text='.@benshapiro speaks at @UCBerkeley despite arrests and protests https://t.co/FzVUq61BUq https://t.co/3Osg9BAr4d', truncated=False, entities={'hashtags': [], 'symbols': [], 'user_mentions': [{'screen_name': 'benshapiro', 'name': 'Ben Shapiro', 'id': 17995040, 'id_str': '17995040', 'indices': [1, 12]}, {'screen_name': 'UCBerkeley', 'name': 'UC Berkeley', 'id': 176932593, 'id_str': '176932593', 'indices': [23, 34]}], 'urls': [{'url': 'https://t.co/FzVUq61BUq', 'expanded_url': 'http://fxn.ws/2h65KH3', 'display_url': 'fxn.ws/2h65KH3', 'indices': [64, 87]}], 'media': [{'id': 908699110340935680, 'id_str': '908699110340935680', 'indices': [88, 111], 'media_url': 'http://pbs.twimg.com/media/DJxZBr-VwAAa3TT.jpg', 'media_url_https': 'https://pbs.twimg.com/media/DJxZBr-VwAAa3TT.jpg', 'url': 'https://t.co/3Osg9BAr4d', 'display_url': 'pic.twitter.com/3Osg9BAr4d', 'expanded_url': 'https://twitter.com/FoxNews/status/909269941894889473/photo/1', 'type': 'photo', 'sizes': {'medium': {'w': 600, 'h': 600, 'resize': 'fit'}, 'large': {'w': 600, 'h': 600, 'resize': 'fit'}, 'thumb': {'w': 150, 'h': 150, 'resize': 'crop'}, 'small': {'w': 600, 'h': 600, 'resize': 'fit'}}}]}, extended_entities={'media': [{'id': 908699110340935680, 'id_str': '908699110340935680', 'indices': [88, 111], 'media_url': 'http://pbs.twimg.com/media/DJxZBr-VwAAa3TT.jpg', 'media_url_https': 'https://pbs.twimg.com/media/DJxZBr-VwAAa3TT.jpg', 'url': 'https://t.co/3Osg9BAr4d', 'display_url': 'pic.twitter.com/3Osg9BAr4d', 'expanded_url': 'https://twitter.com/FoxNews/status/909269941894889473/photo/1', 'type': 'photo', 'sizes': {'medium': {'w': 600, 'h': 600, 'resize': 'fit'}, 'large': {'w': 600, 'h': 600, 'resize': 'fit'}, 'thumb': {'w': 150, 'h': 150, 'resize': 'crop'}, 'small': {'w': 600, 'h': 600, 'resize': 'fit'}}}]}, metadata={'result_type': 'popular', 'iso_language_code': 'en'}, source='Media Studio', source_url='https://studio.twitter.com', in_reply_to_status_id=None, in_reply_to_status_id_str=None, in_reply_to_user_id=None, in_reply_to_user_id_str=None, in_reply_to_screen_name=None, author=User(_api=<tweepy.api.API object at 0x7f465a792ba8>, _json={'id': 1367531, 'id_str': '1367531', 'name': 'Fox News', 'screen_name': 'FoxNews', 'location': 'U.S.A.', 'description': \"America’s Strongest Primetime Lineup Anywhere! Follow America's #1 cable news network, delivering you breaking news, insightful analysis, and must-see videos.\", 'url': 'http://t.co/ZYG58XZtAC', 'entities': {'url': {'urls': [{'url': 'http://t.co/ZYG58XZtAC', 'expanded_url': 'http://www.foxnews.com', 'display_url': 'foxnews.com', 'indices': [0, 22]}]}, 'description': {'urls': []}}, 'protected': False, 'followers_count': 15937601, 'friends_count': 418, 'listed_count': 60484, 'created_at': 'Sat Mar 17 19:01:26 +0000 2007', 'favourites_count': 0, 'utc_offset': -14400, 'time_zone': 'Eastern Time (US & Canada)', 'geo_enabled': False, 'verified': True, 'statuses_count': 330656, 'lang': 'en', 'contributors_enabled': False, 'is_translator': False, 'is_translation_enabled': True, 'profile_background_color': '0E2331', 'profile_background_image_url': 'http://pbs.twimg.com/profile_background_images/414488415/xyz123abc.jpg', 'profile_background_image_url_https': 'https://pbs.twimg.com/profile_background_images/414488415/xyz123abc.jpg', 'profile_background_tile': False, 'profile_image_url': 'http://pbs.twimg.com/profile_images/794654746342662144/hHnFe4Sx_normal.jpg', 'profile_image_url_https': 'https://pbs.twimg.com/profile_images/794654746342662144/hHnFe4Sx_normal.jpg', 'profile_banner_url': 'https://pbs.twimg.com/profile_banners/1367531/1492649996', 'profile_link_color': '183A52', 'profile_sidebar_border_color': 'FFFFFF', 'profile_sidebar_fill_color': 'F4F4F4', 'profile_text_color': '000000', 'profile_use_background_image': True, 'has_extended_profile': False, 'default_profile': False, 'default_profile_image': False, 'following': False, 'follow_request_sent': False, 'notifications': False, 'translator_type': 'regular'}, id=1367531, id_str='1367531', name='Fox News', screen_name='FoxNews', location='U.S.A.', description=\"America’s Strongest Primetime Lineup Anywhere! Follow America's #1 cable news network, delivering you breaking news, insightful analysis, and must-see videos.\", url='http://t.co/ZYG58XZtAC', entities={'url': {'urls': [{'url': 'http://t.co/ZYG58XZtAC', 'expanded_url': 'http://www.foxnews.com', 'display_url': 'foxnews.com', 'indices': [0, 22]}]}, 'description': {'urls': []}}, protected=False, followers_count=15937601, friends_count=418, listed_count=60484, created_at=datetime.datetime(2007, 3, 17, 19, 1, 26), favourites_count=0, utc_offset=-14400, time_zone='Eastern Time (US & Canada)', geo_enabled=False, verified=True, statuses_count=330656, lang='en', contributors_enabled=False, is_translator=False, is_translation_enabled=True, profile_background_color='0E2331', profile_background_image_url='http://pbs.twimg.com/profile_background_images/414488415/xyz123abc.jpg', profile_background_image_url_https='https://pbs.twimg.com/profile_background_images/414488415/xyz123abc.jpg', profile_background_tile=False, profile_image_url='http://pbs.twimg.com/profile_images/794654746342662144/hHnFe4Sx_normal.jpg', profile_image_url_https='https://pbs.twimg.com/profile_images/794654746342662144/hHnFe4Sx_normal.jpg', profile_banner_url='https://pbs.twimg.com/profile_banners/1367531/1492649996', profile_link_color='183A52', profile_sidebar_border_color='FFFFFF', profile_sidebar_fill_color='F4F4F4', profile_text_color='000000', profile_use_background_image=True, has_extended_profile=False, default_profile=False, default_profile_image=False, following=False, follow_request_sent=False, notifications=False, translator_type='regular'), user=User(_api=<tweepy.api.API object at 0x7f465a792ba8>, _json={'id': 1367531, 'id_str': '1367531', 'name': 'Fox News', 'screen_name': 'FoxNews', 'location': 'U.S.A.', 'description': \"America’s Strongest Primetime Lineup Anywhere! Follow America's #1 cable news network, delivering you breaking news, insightful analysis, and must-see videos.\", 'url': 'http://t.co/ZYG58XZtAC', 'entities': {'url': {'urls': [{'url': 'http://t.co/ZYG58XZtAC', 'expanded_url': 'http://www.foxnews.com', 'display_url': 'foxnews.com', 'indices': [0, 22]}]}, 'description': {'urls': []}}, 'protected': False, 'followers_count': 15937601, 'friends_count': 418, 'listed_count': 60484, 'created_at': 'Sat Mar 17 19:01:26 +0000 2007', 'favourites_count': 0, 'utc_offset': -14400, 'time_zone': 'Eastern Time (US & Canada)', 'geo_enabled': False, 'verified': True, 'statuses_count': 330656, 'lang': 'en', 'contributors_enabled': False, 'is_translator': False, 'is_translation_enabled': True, 'profile_background_color': '0E2331', 'profile_background_image_url': 'http://pbs.twimg.com/profile_background_images/414488415/xyz123abc.jpg', 'profile_background_image_url_https': 'https://pbs.twimg.com/profile_background_images/414488415/xyz123abc.jpg', 'profile_background_tile': False, 'profile_image_url': 'http://pbs.twimg.com/profile_images/794654746342662144/hHnFe4Sx_normal.jpg', 'profile_image_url_https': 'https://pbs.twimg.com/profile_images/794654746342662144/hHnFe4Sx_normal.jpg', 'profile_banner_url': 'https://pbs.twimg.com/profile_banners/1367531/1492649996', 'profile_link_color': '183A52', 'profile_sidebar_border_color': 'FFFFFF', 'profile_sidebar_fill_color': 'F4F4F4', 'profile_text_color': '000000', 'profile_use_background_image': True, 'has_extended_profile': False, 'default_profile': False, 'default_profile_image': False, 'following': False, 'follow_request_sent': False, 'notifications': False, 'translator_type': 'regular'}, id=1367531, id_str='1367531', name='Fox News', screen_name='FoxNews', location='U.S.A.', description=\"America’s Strongest Primetime Lineup Anywhere! Follow America's #1 cable news network, delivering you breaking news, insightful analysis, and must-see videos.\", url='http://t.co/ZYG58XZtAC', entities={'url': {'urls': [{'url': 'http://t.co/ZYG58XZtAC', 'expanded_url': 'http://www.foxnews.com', 'display_url': 'foxnews.com', 'indices': [0, 22]}]}, 'description': {'urls': []}}, protected=False, followers_count=15937601, friends_count=418, listed_count=60484, created_at=datetime.datetime(2007, 3, 17, 19, 1, 26), favourites_count=0, utc_offset=-14400, time_zone='Eastern Time (US & Canada)', geo_enabled=False, verified=True, statuses_count=330656, lang='en', contributors_enabled=False, is_translator=False, is_translation_enabled=True, profile_background_color='0E2331', profile_background_image_url='http://pbs.twimg.com/profile_background_images/414488415/xyz123abc.jpg', profile_background_image_url_https='https://pbs.twimg.com/profile_background_images/414488415/xyz123abc.jpg', profile_background_tile=False, profile_image_url='http://pbs.twimg.com/profile_images/794654746342662144/hHnFe4Sx_normal.jpg', profile_image_url_https='https://pbs.twimg.com/profile_images/794654746342662144/hHnFe4Sx_normal.jpg', profile_banner_url='https://pbs.twimg.com/profile_banners/1367531/1492649996', profile_link_color='183A52', profile_sidebar_border_color='FFFFFF', profile_sidebar_fill_color='F4F4F4', profile_text_color='000000', profile_use_background_image=True, has_extended_profile=False, default_profile=False, default_profile_image=False, following=False, follow_request_sent=False, notifications=False, translator_type='regular'), geo=None, coordinates=None, place=None, contributors=None, is_quote_status=False, retweet_count=494, favorite_count=1838, favorited=False, retweeted=False, possibly_sensitive=False, lang='en'), Status(_api=<tweepy.api.API object at 0x7f465a792ba8>, _json={'created_at': 'Sun Sep 17 00:52:03 +0000 2017', 'id': 909218356376608768, 'id_str': '909218356376608768', 'text': '.@benshapiro on Berkeley speech: \"It was pretty obvious to Antifa that if they start anything they were gonna get t… https://t.co/fNCTl4qZty', 'truncated': True, 'entities': {'hashtags': [], 'symbols': [], 'user_mentions': [{'screen_name': 'benshapiro', 'name': 'Ben Shapiro', 'id': 17995040, 'id_str': '17995040', 'indices': [1, 12]}], 'urls': [{'url': 'https://t.co/fNCTl4qZty', 'expanded_url': 'https://twitter.com/i/web/status/909218356376608768', 'display_url': 'twitter.com/i/web/status/9…', 'indices': [117, 140]}]}, 'metadata': {'result_type': 'popular', 'iso_language_code': 'en'}, 'source': '<a href=\"http://twitter.com\" rel=\"nofollow\">Twitter Web Client</a>', 'in_reply_to_status_id': None, 'in_reply_to_status_id_str': None, 'in_reply_to_user_id': None, 'in_reply_to_user_id_str': None, 'in_reply_to_screen_name': None, 'user': {'id': 1367531, 'id_str': '1367531', 'name': 'Fox News', 'screen_name': 'FoxNews', 'location': 'U.S.A.', 'description': \"America’s Strongest Primetime Lineup Anywhere! Follow America's #1 cable news network, delivering you breaking news, insightful analysis, and must-see videos.\", 'url': 'http://t.co/ZYG58XZtAC', 'entities': {'url': {'urls': [{'url': 'http://t.co/ZYG58XZtAC', 'expanded_url': 'http://www.foxnews.com', 'display_url': 'foxnews.com', 'indices': [0, 22]}]}, 'description': {'urls': []}}, 'protected': False, 'followers_count': 15937601, 'friends_count': 418, 'listed_count': 60484, 'created_at': 'Sat Mar 17 19:01:26 +0000 2007', 'favourites_count': 0, 'utc_offset': -14400, 'time_zone': 'Eastern Time (US & Canada)', 'geo_enabled': False, 'verified': True, 'statuses_count': 330656, 'lang': 'en', 'contributors_enabled': False, 'is_translator': False, 'is_translation_enabled': True, 'profile_background_color': '0E2331', 'profile_background_image_url': 'http://pbs.twimg.com/profile_background_images/414488415/xyz123abc.jpg', 'profile_background_image_url_https': 'https://pbs.twimg.com/profile_background_images/414488415/xyz123abc.jpg', 'profile_background_tile': False, 'profile_image_url': 'http://pbs.twimg.com/profile_images/794654746342662144/hHnFe4Sx_normal.jpg', 'profile_image_url_https': 'https://pbs.twimg.com/profile_images/794654746342662144/hHnFe4Sx_normal.jpg', 'profile_banner_url': 'https://pbs.twimg.com/profile_banners/1367531/1492649996', 'profile_link_color': '183A52', 'profile_sidebar_border_color': 'FFFFFF', 'profile_sidebar_fill_color': 'F4F4F4', 'profile_text_color': '000000', 'profile_use_background_image': True, 'has_extended_profile': False, 'default_profile': False, 'default_profile_image': False, 'following': False, 'follow_request_sent': False, 'notifications': False, 'translator_type': 'regular'}, 'geo': None, 'coordinates': None, 'place': None, 'contributors': None, 'is_quote_status': False, 'retweet_count': 240, 'favorite_count': 1044, 'favorited': False, 'retweeted': False, 'possibly_sensitive': False, 'lang': 'en'}, created_at=datetime.datetime(2017, 9, 17, 0, 52, 3), id=909218356376608768, id_str='909218356376608768', text='.@benshapiro on Berkeley speech: \"It was pretty obvious to Antifa that if they start anything they were gonna get t… https://t.co/fNCTl4qZty', truncated=True, entities={'hashtags': [], 'symbols': [], 'user_mentions': [{'screen_name': 'benshapiro', 'name': 'Ben Shapiro', 'id': 17995040, 'id_str': '17995040', 'indices': [1, 12]}], 'urls': [{'url': 'https://t.co/fNCTl4qZty', 'expanded_url': 'https://twitter.com/i/web/status/909218356376608768', 'display_url': 'twitter.com/i/web/status/9…', 'indices': [117, 140]}]}, metadata={'result_type': 'popular', 'iso_language_code': 'en'}, source='Twitter Web Client', source_url='http://twitter.com', in_reply_to_status_id=None, in_reply_to_status_id_str=None, in_reply_to_user_id=None, in_reply_to_user_id_str=None, in_reply_to_screen_name=None, author=User(_api=<tweepy.api.API object at 0x7f465a792ba8>, _json={'id': 1367531, 'id_str': '1367531', 'name': 'Fox News', 'screen_name': 'FoxNews', 'location': 'U.S.A.', 'description': \"America’s Strongest Primetime Lineup Anywhere! Follow America's #1 cable news network, delivering you breaking news, insightful analysis, and must-see videos.\", 'url': 'http://t.co/ZYG58XZtAC', 'entities': {'url': {'urls': [{'url': 'http://t.co/ZYG58XZtAC', 'expanded_url': 'http://www.foxnews.com', 'display_url': 'foxnews.com', 'indices': [0, 22]}]}, 'description': {'urls': []}}, 'protected': False, 'followers_count': 15937601, 'friends_count': 418, 'listed_count': 60484, 'created_at': 'Sat Mar 17 19:01:26 +0000 2007', 'favourites_count': 0, 'utc_offset': -14400, 'time_zone': 'Eastern Time (US & Canada)', 'geo_enabled': False, 'verified': True, 'statuses_count': 330656, 'lang': 'en', 'contributors_enabled': False, 'is_translator': False, 'is_translation_enabled': True, 'profile_background_color': '0E2331', 'profile_background_image_url': 'http://pbs.twimg.com/profile_background_images/414488415/xyz123abc.jpg', 'profile_background_image_url_https': 'https://pbs.twimg.com/profile_background_images/414488415/xyz123abc.jpg', 'profile_background_tile': False, 'profile_image_url': 'http://pbs.twimg.com/profile_images/794654746342662144/hHnFe4Sx_normal.jpg', 'profile_image_url_https': 'https://pbs.twimg.com/profile_images/794654746342662144/hHnFe4Sx_normal.jpg', 'profile_banner_url': 'https://pbs.twimg.com/profile_banners/1367531/1492649996', 'profile_link_color': '183A52', 'profile_sidebar_border_color': 'FFFFFF', 'profile_sidebar_fill_color': 'F4F4F4', 'profile_text_color': '000000', 'profile_use_background_image': True, 'has_extended_profile': False, 'default_profile': False, 'default_profile_image': False, 'following': False, 'follow_request_sent': False, 'notifications': False, 'translator_type': 'regular'}, id=1367531, id_str='1367531', name='Fox News', screen_name='FoxNews', location='U.S.A.', description=\"America’s Strongest Primetime Lineup Anywhere! Follow America's #1 cable news network, delivering you breaking news, insightful analysis, and must-see videos.\", url='http://t.co/ZYG58XZtAC', entities={'url': {'urls': [{'url': 'http://t.co/ZYG58XZtAC', 'expanded_url': 'http://www.foxnews.com', 'display_url': 'foxnews.com', 'indices': [0, 22]}]}, 'description': {'urls': []}}, protected=False, followers_count=15937601, friends_count=418, listed_count=60484, created_at=datetime.datetime(2007, 3, 17, 19, 1, 26), favourites_count=0, utc_offset=-14400, time_zone='Eastern Time (US & Canada)', geo_enabled=False, verified=True, statuses_count=330656, lang='en', contributors_enabled=False, is_translator=False, is_translation_enabled=True, profile_background_color='0E2331', profile_background_image_url='http://pbs.twimg.com/profile_background_images/414488415/xyz123abc.jpg', profile_background_image_url_https='https://pbs.twimg.com/profile_background_images/414488415/xyz123abc.jpg', profile_background_tile=False, profile_image_url='http://pbs.twimg.com/profile_images/794654746342662144/hHnFe4Sx_normal.jpg', profile_image_url_https='https://pbs.twimg.com/profile_images/794654746342662144/hHnFe4Sx_normal.jpg', profile_banner_url='https://pbs.twimg.com/profile_banners/1367531/1492649996', profile_link_color='183A52', profile_sidebar_border_color='FFFFFF', profile_sidebar_fill_color='F4F4F4', profile_text_color='000000', profile_use_background_image=True, has_extended_profile=False, default_profile=False, default_profile_image=False, following=False, follow_request_sent=False, notifications=False, translator_type='regular'), user=User(_api=<tweepy.api.API object at 0x7f465a792ba8>, _json={'id': 1367531, 'id_str': '1367531', 'name': 'Fox News', 'screen_name': 'FoxNews', 'location': 'U.S.A.', 'description': \"America’s Strongest Primetime Lineup Anywhere! Follow America's #1 cable news network, delivering you breaking news, insightful analysis, and must-see videos.\", 'url': 'http://t.co/ZYG58XZtAC', 'entities': {'url': {'urls': [{'url': 'http://t.co/ZYG58XZtAC', 'expanded_url': 'http://www.foxnews.com', 'display_url': 'foxnews.com', 'indices': [0, 22]}]}, 'description': {'urls': []}}, 'protected': False, 'followers_count': 15937601, 'friends_count': 418, 'listed_count': 60484, 'created_at': 'Sat Mar 17 19:01:26 +0000 2007', 'favourites_count': 0, 'utc_offset': -14400, 'time_zone': 'Eastern Time (US & Canada)', 'geo_enabled': False, 'verified': True, 'statuses_count': 330656, 'lang': 'en', 'contributors_enabled': False, 'is_translator': False, 'is_translation_enabled': True, 'profile_background_color': '0E2331', 'profile_background_image_url': 'http://pbs.twimg.com/profile_background_images/414488415/xyz123abc.jpg', 'profile_background_image_url_https': 'https://pbs.twimg.com/profile_background_images/414488415/xyz123abc.jpg', 'profile_background_tile': False, 'profile_image_url': 'http://pbs.twimg.com/profile_images/794654746342662144/hHnFe4Sx_normal.jpg', 'profile_image_url_https': 'https://pbs.twimg.com/profile_images/794654746342662144/hHnFe4Sx_normal.jpg', 'profile_banner_url': 'https://pbs.twimg.com/profile_banners/1367531/1492649996', 'profile_link_color': '183A52', 'profile_sidebar_border_color': 'FFFFFF', 'profile_sidebar_fill_color': 'F4F4F4', 'profile_text_color': '000000', 'profile_use_background_image': True, 'has_extended_profile': False, 'default_profile': False, 'default_profile_image': False, 'following': False, 'follow_request_sent': False, 'notifications': False, 'translator_type': 'regular'}, id=1367531, id_str='1367531', name='Fox News', screen_name='FoxNews', location='U.S.A.', description=\"America’s Strongest Primetime Lineup Anywhere! Follow America's #1 cable news network, delivering you breaking news, insightful analysis, and must-see videos.\", url='http://t.co/ZYG58XZtAC', entities={'url': {'urls': [{'url': 'http://t.co/ZYG58XZtAC', 'expanded_url': 'http://www.foxnews.com', 'display_url': 'foxnews.com', 'indices': [0, 22]}]}, 'description': {'urls': []}}, protected=False, followers_count=15937601, friends_count=418, listed_count=60484, created_at=datetime.datetime(2007, 3, 17, 19, 1, 26), favourites_count=0, utc_offset=-14400, time_zone='Eastern Time (US & Canada)', geo_enabled=False, verified=True, statuses_count=330656, lang='en', contributors_enabled=False, is_translator=False, is_translation_enabled=True, profile_background_color='0E2331', profile_background_image_url='http://pbs.twimg.com/profile_background_images/414488415/xyz123abc.jpg', profile_background_image_url_https='https://pbs.twimg.com/profile_background_images/414488415/xyz123abc.jpg', profile_background_tile=False, profile_image_url='http://pbs.twimg.com/profile_images/794654746342662144/hHnFe4Sx_normal.jpg', profile_image_url_https='https://pbs.twimg.com/profile_images/794654746342662144/hHnFe4Sx_normal.jpg', profile_banner_url='https://pbs.twimg.com/profile_banners/1367531/1492649996', profile_link_color='183A52', profile_sidebar_border_color='FFFFFF', profile_sidebar_fill_color='F4F4F4', profile_text_color='000000', profile_use_background_image=True, has_extended_profile=False, default_profile=False, default_profile_image=False, following=False, follow_request_sent=False, notifications=False, translator_type='regular'), geo=None, coordinates=None, place=None, contributors=None, is_quote_status=False, retweet_count=240, favorite_count=1044, favorited=False, retweeted=False, possibly_sensitive=False, lang='en')]\n"
     ]
    }
   ],
   "source": [
    "print(first_ten)"
   ]
  },
  {
   "cell_type": "markdown",
   "metadata": {},
   "source": [
    "## 4. Exploring the Dataset"
   ]
  },
  {
   "cell_type": "markdown",
   "metadata": {},
   "source": [
    "Twitter gives us a lot of information about each tweet, not just its text. You can read about all the details [here](https://dev.twitter.com/overview/api/tweets). Let's look at one tweet to get a sense of the information we have available. We can access just the first tweet in our list by indexing into it. Note, the first index in the list is actually 0, not 1, so we will actually say `first_ten[0]` to see the first tweet in our list of ten tweets."
   ]
  },
  {
   "cell_type": "code",
   "execution_count": 28,
   "metadata": {
    "collapsed": false,
    "scrolled": false
   },
   "outputs": [
    {
     "name": "stdout",
     "output_type": "stream",
     "text": [
      "Status(_api=<tweepy.api.API object at 0x7f465a792ba8>, _json={'created_at': 'Sat Sep 16 15:18:11 +0000 2017', 'id': 909073938638163971, 'id_str': '909073938638163971', 'text': 'Give those who do evil free rein. They will destroy themselves, most probably in spectacular fashion. #Berkeley… https://t.co/F5NwXpAN7P', 'truncated': True, 'entities': {'hashtags': [{'text': 'Berkeley', 'indices': [102, 111]}], 'symbols': [], 'user_mentions': [], 'urls': [{'url': 'https://t.co/F5NwXpAN7P', 'expanded_url': 'https://twitter.com/i/web/status/909073938638163971', 'display_url': 'twitter.com/i/web/status/9…', 'indices': [113, 136]}]}, 'metadata': {'result_type': 'popular', 'iso_language_code': 'en'}, 'source': '<a href=\"http://twitter.com/download/iphone\" rel=\"nofollow\">Twitter for iPhone</a>', 'in_reply_to_status_id': None, 'in_reply_to_status_id_str': None, 'in_reply_to_user_id': None, 'in_reply_to_user_id_str': None, 'in_reply_to_screen_name': None, 'user': {'id': 78523300, 'id_str': '78523300', 'name': 'James Woods', 'screen_name': 'RealJamesWoods', 'location': '', 'description': '#America', 'url': None, 'entities': {'description': {'urls': []}}, 'protected': False, 'followers_count': 862052, 'friends_count': 4871, 'listed_count': 5726, 'created_at': 'Wed Sep 30 05:31:28 +0000 2009', 'favourites_count': 1496, 'utc_offset': -14400, 'time_zone': 'Eastern Time (US & Canada)', 'geo_enabled': True, 'verified': True, 'statuses_count': 17772, 'lang': 'en', 'contributors_enabled': False, 'is_translator': False, 'is_translation_enabled': False, 'profile_background_color': 'C0DEED', 'profile_background_image_url': 'http://abs.twimg.com/images/themes/theme1/bg.png', 'profile_background_image_url_https': 'https://abs.twimg.com/images/themes/theme1/bg.png', 'profile_background_tile': False, 'profile_image_url': 'http://pbs.twimg.com/profile_images/796482667340382211/CoV8077b_normal.jpg', 'profile_image_url_https': 'https://pbs.twimg.com/profile_images/796482667340382211/CoV8077b_normal.jpg', 'profile_banner_url': 'https://pbs.twimg.com/profile_banners/78523300/1505222681', 'profile_link_color': '1DA1F2', 'profile_sidebar_border_color': 'C0DEED', 'profile_sidebar_fill_color': 'DDEEF6', 'profile_text_color': '333333', 'profile_use_background_image': True, 'has_extended_profile': False, 'default_profile': True, 'default_profile_image': False, 'following': False, 'follow_request_sent': False, 'notifications': False, 'translator_type': 'none'}, 'geo': None, 'coordinates': None, 'place': None, 'contributors': None, 'is_quote_status': True, 'quoted_status_id': 909062194863722496, 'quoted_status_id_str': '909062194863722496', 'quoted_status': {'created_at': 'Sat Sep 16 14:31:31 +0000 2017', 'id': 909062194863722496, 'id_str': '909062194863722496', 'text': '@RealJamesWoods James, you should go and speak there. That would shake things up ;)', 'truncated': False, 'entities': {'hashtags': [], 'symbols': [], 'user_mentions': [{'screen_name': 'RealJamesWoods', 'name': 'James Woods', 'id': 78523300, 'id_str': '78523300', 'indices': [0, 15]}], 'urls': []}, 'metadata': {'result_type': 'popular', 'iso_language_code': 'en'}, 'source': '<a href=\"http://twitter.com/#!/download/ipad\" rel=\"nofollow\">Twitter for iPad</a>', 'in_reply_to_status_id': 909061642318696448, 'in_reply_to_status_id_str': '909061642318696448', 'in_reply_to_user_id': 78523300, 'in_reply_to_user_id_str': '78523300', 'in_reply_to_screen_name': 'RealJamesWoods', 'user': {'id': 898549314284400641, 'id_str': '898549314284400641', 'name': 'Hannah 🇺🇸🇬🇧', 'screen_name': 'risinginfidel', 'location': '', 'description': \"Think I got a double dose of red pills. Stop immigration. Stop Islamification. Stop the gender nonsense. If you need a safe space don't follow me.\", 'url': None, 'entities': {'description': {'urls': []}}, 'protected': False, 'followers_count': 982, 'friends_count': 702, 'listed_count': 3, 'created_at': 'Fri Aug 18 14:17:05 +0000 2017', 'favourites_count': 3155, 'utc_offset': None, 'time_zone': None, 'geo_enabled': True, 'verified': False, 'statuses_count': 2582, 'lang': 'en', 'contributors_enabled': False, 'is_translator': False, 'is_translation_enabled': False, 'profile_background_color': 'F5F8FA', 'profile_background_image_url': None, 'profile_background_image_url_https': None, 'profile_background_tile': False, 'profile_image_url': 'http://pbs.twimg.com/profile_images/907261126882349061/x-QGxAwL_normal.jpg', 'profile_image_url_https': 'https://pbs.twimg.com/profile_images/907261126882349061/x-QGxAwL_normal.jpg', 'profile_banner_url': 'https://pbs.twimg.com/profile_banners/898549314284400641/1505314223', 'profile_link_color': '1DA1F2', 'profile_sidebar_border_color': 'C0DEED', 'profile_sidebar_fill_color': 'DDEEF6', 'profile_text_color': '333333', 'profile_use_background_image': True, 'has_extended_profile': False, 'default_profile': True, 'default_profile_image': False, 'following': False, 'follow_request_sent': False, 'notifications': False, 'translator_type': 'none'}, 'geo': None, 'coordinates': None, 'place': None, 'contributors': None, 'is_quote_status': False, 'retweet_count': 15, 'favorite_count': 42, 'favorited': False, 'retweeted': False, 'lang': 'en'}, 'retweet_count': 528, 'favorite_count': 1765, 'favorited': False, 'retweeted': False, 'possibly_sensitive': False, 'lang': 'en'}, created_at=datetime.datetime(2017, 9, 16, 15, 18, 11), id=909073938638163971, id_str='909073938638163971', text='Give those who do evil free rein. They will destroy themselves, most probably in spectacular fashion. #Berkeley… https://t.co/F5NwXpAN7P', truncated=True, entities={'hashtags': [{'text': 'Berkeley', 'indices': [102, 111]}], 'symbols': [], 'user_mentions': [], 'urls': [{'url': 'https://t.co/F5NwXpAN7P', 'expanded_url': 'https://twitter.com/i/web/status/909073938638163971', 'display_url': 'twitter.com/i/web/status/9…', 'indices': [113, 136]}]}, metadata={'result_type': 'popular', 'iso_language_code': 'en'}, source='Twitter for iPhone', source_url='http://twitter.com/download/iphone', in_reply_to_status_id=None, in_reply_to_status_id_str=None, in_reply_to_user_id=None, in_reply_to_user_id_str=None, in_reply_to_screen_name=None, author=User(_api=<tweepy.api.API object at 0x7f465a792ba8>, _json={'id': 78523300, 'id_str': '78523300', 'name': 'James Woods', 'screen_name': 'RealJamesWoods', 'location': '', 'description': '#America', 'url': None, 'entities': {'description': {'urls': []}}, 'protected': False, 'followers_count': 862052, 'friends_count': 4871, 'listed_count': 5726, 'created_at': 'Wed Sep 30 05:31:28 +0000 2009', 'favourites_count': 1496, 'utc_offset': -14400, 'time_zone': 'Eastern Time (US & Canada)', 'geo_enabled': True, 'verified': True, 'statuses_count': 17772, 'lang': 'en', 'contributors_enabled': False, 'is_translator': False, 'is_translation_enabled': False, 'profile_background_color': 'C0DEED', 'profile_background_image_url': 'http://abs.twimg.com/images/themes/theme1/bg.png', 'profile_background_image_url_https': 'https://abs.twimg.com/images/themes/theme1/bg.png', 'profile_background_tile': False, 'profile_image_url': 'http://pbs.twimg.com/profile_images/796482667340382211/CoV8077b_normal.jpg', 'profile_image_url_https': 'https://pbs.twimg.com/profile_images/796482667340382211/CoV8077b_normal.jpg', 'profile_banner_url': 'https://pbs.twimg.com/profile_banners/78523300/1505222681', 'profile_link_color': '1DA1F2', 'profile_sidebar_border_color': 'C0DEED', 'profile_sidebar_fill_color': 'DDEEF6', 'profile_text_color': '333333', 'profile_use_background_image': True, 'has_extended_profile': False, 'default_profile': True, 'default_profile_image': False, 'following': False, 'follow_request_sent': False, 'notifications': False, 'translator_type': 'none'}, id=78523300, id_str='78523300', name='James Woods', screen_name='RealJamesWoods', location='', description='#America', url=None, entities={'description': {'urls': []}}, protected=False, followers_count=862052, friends_count=4871, listed_count=5726, created_at=datetime.datetime(2009, 9, 30, 5, 31, 28), favourites_count=1496, utc_offset=-14400, time_zone='Eastern Time (US & Canada)', geo_enabled=True, verified=True, statuses_count=17772, lang='en', contributors_enabled=False, is_translator=False, is_translation_enabled=False, profile_background_color='C0DEED', profile_background_image_url='http://abs.twimg.com/images/themes/theme1/bg.png', profile_background_image_url_https='https://abs.twimg.com/images/themes/theme1/bg.png', profile_background_tile=False, profile_image_url='http://pbs.twimg.com/profile_images/796482667340382211/CoV8077b_normal.jpg', profile_image_url_https='https://pbs.twimg.com/profile_images/796482667340382211/CoV8077b_normal.jpg', profile_banner_url='https://pbs.twimg.com/profile_banners/78523300/1505222681', profile_link_color='1DA1F2', profile_sidebar_border_color='C0DEED', profile_sidebar_fill_color='DDEEF6', profile_text_color='333333', profile_use_background_image=True, has_extended_profile=False, default_profile=True, default_profile_image=False, following=False, follow_request_sent=False, notifications=False, translator_type='none'), user=User(_api=<tweepy.api.API object at 0x7f465a792ba8>, _json={'id': 78523300, 'id_str': '78523300', 'name': 'James Woods', 'screen_name': 'RealJamesWoods', 'location': '', 'description': '#America', 'url': None, 'entities': {'description': {'urls': []}}, 'protected': False, 'followers_count': 862052, 'friends_count': 4871, 'listed_count': 5726, 'created_at': 'Wed Sep 30 05:31:28 +0000 2009', 'favourites_count': 1496, 'utc_offset': -14400, 'time_zone': 'Eastern Time (US & Canada)', 'geo_enabled': True, 'verified': True, 'statuses_count': 17772, 'lang': 'en', 'contributors_enabled': False, 'is_translator': False, 'is_translation_enabled': False, 'profile_background_color': 'C0DEED', 'profile_background_image_url': 'http://abs.twimg.com/images/themes/theme1/bg.png', 'profile_background_image_url_https': 'https://abs.twimg.com/images/themes/theme1/bg.png', 'profile_background_tile': False, 'profile_image_url': 'http://pbs.twimg.com/profile_images/796482667340382211/CoV8077b_normal.jpg', 'profile_image_url_https': 'https://pbs.twimg.com/profile_images/796482667340382211/CoV8077b_normal.jpg', 'profile_banner_url': 'https://pbs.twimg.com/profile_banners/78523300/1505222681', 'profile_link_color': '1DA1F2', 'profile_sidebar_border_color': 'C0DEED', 'profile_sidebar_fill_color': 'DDEEF6', 'profile_text_color': '333333', 'profile_use_background_image': True, 'has_extended_profile': False, 'default_profile': True, 'default_profile_image': False, 'following': False, 'follow_request_sent': False, 'notifications': False, 'translator_type': 'none'}, id=78523300, id_str='78523300', name='James Woods', screen_name='RealJamesWoods', location='', description='#America', url=None, entities={'description': {'urls': []}}, protected=False, followers_count=862052, friends_count=4871, listed_count=5726, created_at=datetime.datetime(2009, 9, 30, 5, 31, 28), favourites_count=1496, utc_offset=-14400, time_zone='Eastern Time (US & Canada)', geo_enabled=True, verified=True, statuses_count=17772, lang='en', contributors_enabled=False, is_translator=False, is_translation_enabled=False, profile_background_color='C0DEED', profile_background_image_url='http://abs.twimg.com/images/themes/theme1/bg.png', profile_background_image_url_https='https://abs.twimg.com/images/themes/theme1/bg.png', profile_background_tile=False, profile_image_url='http://pbs.twimg.com/profile_images/796482667340382211/CoV8077b_normal.jpg', profile_image_url_https='https://pbs.twimg.com/profile_images/796482667340382211/CoV8077b_normal.jpg', profile_banner_url='https://pbs.twimg.com/profile_banners/78523300/1505222681', profile_link_color='1DA1F2', profile_sidebar_border_color='C0DEED', profile_sidebar_fill_color='DDEEF6', profile_text_color='333333', profile_use_background_image=True, has_extended_profile=False, default_profile=True, default_profile_image=False, following=False, follow_request_sent=False, notifications=False, translator_type='none'), geo=None, coordinates=None, place=None, contributors=None, is_quote_status=True, quoted_status_id=909062194863722496, quoted_status_id_str='909062194863722496', quoted_status={'created_at': 'Sat Sep 16 14:31:31 +0000 2017', 'id': 909062194863722496, 'id_str': '909062194863722496', 'text': '@RealJamesWoods James, you should go and speak there. That would shake things up ;)', 'truncated': False, 'entities': {'hashtags': [], 'symbols': [], 'user_mentions': [{'screen_name': 'RealJamesWoods', 'name': 'James Woods', 'id': 78523300, 'id_str': '78523300', 'indices': [0, 15]}], 'urls': []}, 'metadata': {'result_type': 'popular', 'iso_language_code': 'en'}, 'source': '<a href=\"http://twitter.com/#!/download/ipad\" rel=\"nofollow\">Twitter for iPad</a>', 'in_reply_to_status_id': 909061642318696448, 'in_reply_to_status_id_str': '909061642318696448', 'in_reply_to_user_id': 78523300, 'in_reply_to_user_id_str': '78523300', 'in_reply_to_screen_name': 'RealJamesWoods', 'user': {'id': 898549314284400641, 'id_str': '898549314284400641', 'name': 'Hannah 🇺🇸🇬🇧', 'screen_name': 'risinginfidel', 'location': '', 'description': \"Think I got a double dose of red pills. Stop immigration. Stop Islamification. Stop the gender nonsense. If you need a safe space don't follow me.\", 'url': None, 'entities': {'description': {'urls': []}}, 'protected': False, 'followers_count': 982, 'friends_count': 702, 'listed_count': 3, 'created_at': 'Fri Aug 18 14:17:05 +0000 2017', 'favourites_count': 3155, 'utc_offset': None, 'time_zone': None, 'geo_enabled': True, 'verified': False, 'statuses_count': 2582, 'lang': 'en', 'contributors_enabled': False, 'is_translator': False, 'is_translation_enabled': False, 'profile_background_color': 'F5F8FA', 'profile_background_image_url': None, 'profile_background_image_url_https': None, 'profile_background_tile': False, 'profile_image_url': 'http://pbs.twimg.com/profile_images/907261126882349061/x-QGxAwL_normal.jpg', 'profile_image_url_https': 'https://pbs.twimg.com/profile_images/907261126882349061/x-QGxAwL_normal.jpg', 'profile_banner_url': 'https://pbs.twimg.com/profile_banners/898549314284400641/1505314223', 'profile_link_color': '1DA1F2', 'profile_sidebar_border_color': 'C0DEED', 'profile_sidebar_fill_color': 'DDEEF6', 'profile_text_color': '333333', 'profile_use_background_image': True, 'has_extended_profile': False, 'default_profile': True, 'default_profile_image': False, 'following': False, 'follow_request_sent': False, 'notifications': False, 'translator_type': 'none'}, 'geo': None, 'coordinates': None, 'place': None, 'contributors': None, 'is_quote_status': False, 'retweet_count': 15, 'favorite_count': 42, 'favorited': False, 'retweeted': False, 'lang': 'en'}, retweet_count=528, favorite_count=1765, favorited=False, retweeted=False, possibly_sensitive=False, lang='en')\n"
     ]
    }
   ],
   "source": [
    "print(first_ten[5]) # Try changing this to any number 0-9, to see other tweets in the list."
   ]
  },
  {
   "cell_type": "code",
   "execution_count": 27,
   "metadata": {
    "collapsed": false
   },
   "outputs": [
    {
     "name": "stdout",
     "output_type": "stream",
     "text": [
      "Give those who do evil free rein. They will destroy themselves, most probably in spectacular fashion. #Berkeley… https://t.co/F5NwXpAN7P\n"
     ]
    }
   ],
   "source": [
    "print(first_ten[5].text) # Try this and inspect what it does"
   ]
  },
  {
   "cell_type": "code",
   "execution_count": 29,
   "metadata": {
    "collapsed": false
   },
   "outputs": [
    {
     "name": "stdout",
     "output_type": "stream",
     "text": [
      "2017-09-16 15:18:11\n"
     ]
    }
   ],
   "source": [
    "print(first_ten[5].created_at) # Try this and inspect what it does "
   ]
  },
  {
   "cell_type": "code",
   "execution_count": 35,
   "metadata": {
    "collapsed": false
   },
   "outputs": [
    {
     "name": "stdout",
     "output_type": "stream",
     "text": [
      "None\n",
      "None\n"
     ]
    }
   ],
   "source": [
    "print(first_ten[5].place) #Made this cell to test out the use of the different fucntions\n",
    "print(first_ten[5].coordinates)"
   ]
  },
  {
   "cell_type": "markdown",
   "metadata": {},
   "source": [
    "### Question 3:\n",
    "Which field contains each of the following attributes:\n",
    "1. The tweet's text?\n",
    "1. The time when the tweet was posted?\n",
    "1. The geographic location of the tweet?\n",
    "1. The source (device and app) where the tweet was written?"
   ]
  },
  {
   "cell_type": "markdown",
   "metadata": {},
   "source": [
    "**Answer:**\n",
    "1. text\n",
    "1. created_at\n",
    "1. coordinates, place, geo(all of them)\n",
    "1. source"
   ]
  },
  {
   "cell_type": "markdown",
   "metadata": {},
   "source": [
    "## 5. Analyzing the Dataset"
   ]
  },
  {
   "cell_type": "markdown",
   "metadata": {},
   "source": [
    "It's time to do analysis! Let's start out by getting a list, where each entry corresponds to how many retweets we got in the first "
   ]
  },
  {
   "cell_type": "code",
   "execution_count": 36,
   "metadata": {
    "collapsed": false
   },
   "outputs": [
    {
     "name": "stdout",
     "output_type": "stream",
     "text": [
      "[1425, 539, 282, 276, 278, 528, 172, 196, 494, 240]\n"
     ]
    }
   ],
   "source": [
    "retweet_counts = []                      # We start with an empty list called `retweet_counts`.\n",
    "for tweet in first_ten:                  # Then, we iterate over the tweets in `first_ten`...\n",
    "    retweet_count = tweet.retweet_count  # And, for each tweet, get the number of retweets...\n",
    "    retweet_counts.append(retweet_count) # And append that number to our list `retweet_counts`.\n",
    "    \n",
    "print(retweet_counts)"
   ]
  },
  {
   "cell_type": "markdown",
   "metadata": {},
   "source": [
    "Let's try and draw it:"
   ]
  },
  {
   "cell_type": "code",
   "execution_count": 37,
   "metadata": {
    "collapsed": false
   },
   "outputs": [
    {
     "data": {
      "image/png": "[encoded data removed]",
      "text/plain": [
       "<matplotlib.figure.Figure at 0x7f465a7cb390>"
      ]
     },
     "metadata": {},
     "output_type": "display_data"
    }
   ],
   "source": [
    "import matplotlib.pyplot as plt\n",
    "plt.hist(retweet_counts)\n",
    "plt.xlabel(\"Retweet counts\")\n",
    "plt.ylabel(\"Frequency\")\n",
    "plt.show()"
   ]
  },
  {
   "cell_type": "markdown",
   "metadata": {},
   "source": [
    "### Question 4\n",
    "Twitter search api provides three modes (check out this [guide](https://dev.twitter.com/rest/reference/get/search/tweets)) for the result_type: mix, recent, and popular. In the previous code, we retrieved the popular tweets. \n",
    "Now it is your turn to retrieve recent 100 tweets and assign them to a new variable (e.g., results_recent100), then plot a histogram for the retweet count of the recent 100 tweets. You can follow our example code if you wish. \n"
   ]
  },
  {
   "cell_type": "markdown",
   "metadata": {},
   "source": [
    "**Answer**\n"
   ]
  },
  {
   "cell_type": "code",
   "execution_count": 42,
   "metadata": {
    "collapsed": false
   },
   "outputs": [
    {
     "name": "stdout",
     "output_type": "stream",
     "text": [
      "[0, 18894, 0, 738, 0, 1, 0, 1, 1, 16, 0, 0, 0, 0, 0, 0, 98, 104813, 2, 0, 424, 0, 18894, 0, 0, 0, 0, 17, 0, 109, 70, 0, 5149, 18894, 170, 1, 18894, 0, 1, 430, 93, 2032, 173, 8664, 5, 17, 0, 178, 843, 424, 8664, 152, 926, 0, 8664, 0, 0, 7865, 424, 738, 16, 0, 0, 256, 0, 0, 256, 25, 0, 0, 14, 3, 0, 104813, 5, 18894, 25, 1280, 616, 18894, 436, 512, 0, 738, 0, 152, 1, 925, 143, 738, 2634, 104813, 4000, 0, 25, 21, 7865, 1188, 7, 0]\n"
     ]
    },
    {
     "data": {
      "image/png": "[encoded data removed]",
      "text/plain": [
       "<matplotlib.figure.Figure at 0x7f462f1a2e10>"
      ]
     },
     "metadata": {},
     "output_type": "display_data"
    }
   ],
   "source": [
    "recent_results = tweepy.Cursor(api.search,  \n",
    "                        q='Berkeley', \n",
    "                        result_type='recent')\n",
    "\n",
    "first_hundred_recent = []                  \n",
    "for tweet in recent_results.items(100): \n",
    "    first_hundred_recent.append(tweet) \n",
    "\n",
    "recent_retweet_counts = []                      \n",
    "for tweet in first_hundred_recent:                 \n",
    "    retweet_count1 = tweet.retweet_count  \n",
    "    recent_retweet_counts.append(retweet_count1) \n",
    "    \n",
    "print(recent_retweet_counts)\n",
    "\n",
    "plt.hist(recent_retweet_counts)\n",
    "plt.xlabel(\"Retweet counts\")\n",
    "plt.ylabel(\"Frequency\")\n",
    "plt.show()\n",
    "    \n"
   ]
  },
  {
   "cell_type": "markdown",
   "metadata": {},
   "source": [
    "### Question 5\n",
    "Compare and contrast between the two histograms for retweet counts of recent and popular 100 tweets that returns from searching the word Berkeley. "
   ]
  },
  {
   "cell_type": "markdown",
   "metadata": {},
   "source": [
    "**Answer**: \n"
   ]
  },
  {
   "cell_type": "markdown",
   "metadata": {},
   "source": [
    "\n"
   ]
  },
  {
   "cell_type": "code",
   "execution_count": 44,
   "metadata": {
    "collapsed": false
   },
   "outputs": [
    {
     "name": "stdout",
     "output_type": "stream",
     "text": [
      "[167, 189, 253, 94, 211, 8665, 18899, 40, 4872, 6486, 2633, 3214, 155, 1930, 5149, 3726, 1081, 700, 1226, 279, 456, 202, 202, 385, 130, 131, 124, 78, 131, 121]\n"
     ]
    },
    {
     "data": {
      "image/png": "[encoded data removed]",
      "text/plain": [
       "<matplotlib.figure.Figure at 0x7f462f033b38>"
      ]
     },
     "metadata": {},
     "output_type": "display_data"
    }
   ],
   "source": [
    "first_hundred_popular = []                  \n",
    "for tweet in results.items(100): \n",
    "    first_hundred_popular.append(tweet) \n",
    "\n",
    "popular_retweet_counts = []                      \n",
    "for tweet in first_hundred_popular:                 \n",
    "    retweet_count1 = tweet.retweet_count  \n",
    "    popular_retweet_counts.append(retweet_count1) \n",
    "    \n",
    "print(popular_retweet_counts)\n",
    "\n",
    "plt.hist(popular_retweet_counts)\n",
    "plt.xlabel(\"Retweet counts\")\n",
    "plt.ylabel(\"Frequency\")\n",
    "plt.show()\n",
    "    "
   ]
  },
  {
   "cell_type": "markdown",
   "metadata": {},
   "source": [
    "Answer:\n",
    "From the two data set visuals we can make a few very important observations:\n",
    "1. The recent data set contains data arranged by time stamps. It includes entries with 0 retweets.\n",
    "1. The popular data set doesn't contain any entries with 0 retweet value, however, doesn't contain the largest values of retweets either.(>10000 retweets found in recent value dataset)\n",
    "\n",
    "Observing the data, I feel that the recent tweets shows the most recent tweets, ordered by timestamps. The interesting observation in the tweets ordered by popular, however, isn't ranked by the absolute value of the retweets. It seems like there is a more complex logic for the same. My theory for the same is that the order by popularity actually orders tweets by a looking that the rate of increase of retweets. This theory would hold true for anamolies in the data set(tweets with a large number of retweets fail to make it to the popular list as their 'rate of increase of retweets' decreases even if the absolute number of increase to retweets is constant)\n"
   ]
  },
  {
   "cell_type": "markdown",
   "metadata": {},
   "source": [
    "## Users\n",
    "Instead of searching for tweets, you can use Twitter APIs to get details about specific user account. It includes user’s timeline, followers, etc.\n",
    "\n",
    "Get the latest 10 tweets from an account that interests you (e.g.,  UCBerkeley) twitter account using the following code."
   ]
  },
  {
   "cell_type": "code",
   "execution_count": 48,
   "metadata": {
    "collapsed": true
   },
   "outputs": [],
   "source": [
    "user_results = api.user_timeline(screen_name='UCBerkeley', count=10)\n",
    "\n",
    "user_results_tweets = []           # We start with an empty list called user_results_tweets\n",
    "\n",
    "for t in user_results:             #Then, we iterate over the tweets in user_results\n",
    "    user_results_tweets.append(t)  #And we'll add each of those tweets to user_results_tweets "
   ]
  },
  {
   "cell_type": "code",
   "execution_count": 49,
   "metadata": {
    "collapsed": false
   },
   "outputs": [
    {
     "name": "stdout",
     "output_type": "stream",
     "text": [
      "Status(_api=<tweepy.api.API object at 0x7f465a792ba8>, _json={'created_at': 'Mon Sep 18 03:04:02 +0000 2017', 'id': 909613958063120384, 'id_str': '909613958063120384', 'text': 'Visionary Award honors three Berkeley intellects shaping the future https://t.co/x0Aicm9JWA https://t.co/01nsPj4WvG', 'truncated': False, 'entities': {'hashtags': [], 'symbols': [], 'user_mentions': [], 'urls': [{'url': 'https://t.co/x0Aicm9JWA', 'expanded_url': 'http://bit.ly/2w6f20e', 'display_url': 'bit.ly/2w6f20e', 'indices': [68, 91]}], 'media': [{'id': 909613955760324609, 'id_str': '909613955760324609', 'indices': [92, 115], 'media_url': 'http://pbs.twimg.com/media/DJ-ZEsvVAAEJOZ6.jpg', 'media_url_https': 'https://pbs.twimg.com/media/DJ-ZEsvVAAEJOZ6.jpg', 'url': 'https://t.co/01nsPj4WvG', 'display_url': 'pic.twitter.com/01nsPj4WvG', 'expanded_url': 'https://twitter.com/UCBerkeley/status/909613958063120384/photo/1', 'type': 'photo', 'sizes': {'thumb': {'w': 150, 'h': 150, 'resize': 'crop'}, 'large': {'w': 750, 'h': 500, 'resize': 'fit'}, 'small': {'w': 680, 'h': 453, 'resize': 'fit'}, 'medium': {'w': 750, 'h': 500, 'resize': 'fit'}}}]}, 'extended_entities': {'media': [{'id': 909613955760324609, 'id_str': '909613955760324609', 'indices': [92, 115], 'media_url': 'http://pbs.twimg.com/media/DJ-ZEsvVAAEJOZ6.jpg', 'media_url_https': 'https://pbs.twimg.com/media/DJ-ZEsvVAAEJOZ6.jpg', 'url': 'https://t.co/01nsPj4WvG', 'display_url': 'pic.twitter.com/01nsPj4WvG', 'expanded_url': 'https://twitter.com/UCBerkeley/status/909613958063120384/photo/1', 'type': 'photo', 'sizes': {'thumb': {'w': 150, 'h': 150, 'resize': 'crop'}, 'large': {'w': 750, 'h': 500, 'resize': 'fit'}, 'small': {'w': 680, 'h': 453, 'resize': 'fit'}, 'medium': {'w': 750, 'h': 500, 'resize': 'fit'}}}]}, 'source': '<a href=\"http://sproutsocial.com\" rel=\"nofollow\">Sprout Social</a>', 'in_reply_to_status_id': None, 'in_reply_to_status_id_str': None, 'in_reply_to_user_id': None, 'in_reply_to_user_id_str': None, 'in_reply_to_screen_name': None, 'user': {'id': 176932593, 'id_str': '176932593', 'name': 'UC Berkeley', 'screen_name': 'UCBerkeley', 'location': 'Berkeley, California', 'description': 'University of California, Berkeley, the premier public institution of higher education', 'url': 'http://t.co/5AQcLU8aoE', 'entities': {'url': {'urls': [{'url': 'http://t.co/5AQcLU8aoE', 'expanded_url': 'http://berkeley.edu', 'display_url': 'berkeley.edu', 'indices': [0, 22]}]}, 'description': {'urls': []}}, 'protected': False, 'followers_count': 127348, 'friends_count': 1167, 'listed_count': 1611, 'created_at': 'Tue Aug 10 20:40:13 +0000 2010', 'favourites_count': 6373, 'utc_offset': -25200, 'time_zone': 'Pacific Time (US & Canada)', 'geo_enabled': False, 'verified': True, 'statuses_count': 13280, 'lang': 'en', 'contributors_enabled': False, 'is_translator': False, 'is_translation_enabled': False, 'profile_background_color': 'FCFCFC', 'profile_background_image_url': 'http://pbs.twimg.com/profile_background_images/790178413/d030b080c387ea27a2b9c17fbce00192.jpeg', 'profile_background_image_url_https': 'https://pbs.twimg.com/profile_background_images/790178413/d030b080c387ea27a2b9c17fbce00192.jpeg', 'profile_background_tile': False, 'profile_image_url': 'http://pbs.twimg.com/profile_images/667569099300405248/ba6dE8pg_normal.png', 'profile_image_url_https': 'https://pbs.twimg.com/profile_images/667569099300405248/ba6dE8pg_normal.png', 'profile_banner_url': 'https://pbs.twimg.com/profile_banners/176932593/1398457126', 'profile_link_color': '9D7D0A', 'profile_sidebar_border_color': 'FFFFFF', 'profile_sidebar_fill_color': 'F9EFC8', 'profile_text_color': '152C9D', 'profile_use_background_image': True, 'has_extended_profile': False, 'default_profile': False, 'default_profile_image': False, 'following': False, 'follow_request_sent': False, 'notifications': False, 'translator_type': 'regular'}, 'geo': None, 'coordinates': None, 'place': None, 'contributors': None, 'is_quote_status': False, 'retweet_count': 6, 'favorite_count': 15, 'favorited': False, 'retweeted': False, 'possibly_sensitive': False, 'lang': 'en'}, created_at=datetime.datetime(2017, 9, 18, 3, 4, 2), id=909613958063120384, id_str='909613958063120384', text='Visionary Award honors three Berkeley intellects shaping the future https://t.co/x0Aicm9JWA https://t.co/01nsPj4WvG', truncated=False, entities={'hashtags': [], 'symbols': [], 'user_mentions': [], 'urls': [{'url': 'https://t.co/x0Aicm9JWA', 'expanded_url': 'http://bit.ly/2w6f20e', 'display_url': 'bit.ly/2w6f20e', 'indices': [68, 91]}], 'media': [{'id': 909613955760324609, 'id_str': '909613955760324609', 'indices': [92, 115], 'media_url': 'http://pbs.twimg.com/media/DJ-ZEsvVAAEJOZ6.jpg', 'media_url_https': 'https://pbs.twimg.com/media/DJ-ZEsvVAAEJOZ6.jpg', 'url': 'https://t.co/01nsPj4WvG', 'display_url': 'pic.twitter.com/01nsPj4WvG', 'expanded_url': 'https://twitter.com/UCBerkeley/status/909613958063120384/photo/1', 'type': 'photo', 'sizes': {'thumb': {'w': 150, 'h': 150, 'resize': 'crop'}, 'large': {'w': 750, 'h': 500, 'resize': 'fit'}, 'small': {'w': 680, 'h': 453, 'resize': 'fit'}, 'medium': {'w': 750, 'h': 500, 'resize': 'fit'}}}]}, extended_entities={'media': [{'id': 909613955760324609, 'id_str': '909613955760324609', 'indices': [92, 115], 'media_url': 'http://pbs.twimg.com/media/DJ-ZEsvVAAEJOZ6.jpg', 'media_url_https': 'https://pbs.twimg.com/media/DJ-ZEsvVAAEJOZ6.jpg', 'url': 'https://t.co/01nsPj4WvG', 'display_url': 'pic.twitter.com/01nsPj4WvG', 'expanded_url': 'https://twitter.com/UCBerkeley/status/909613958063120384/photo/1', 'type': 'photo', 'sizes': {'thumb': {'w': 150, 'h': 150, 'resize': 'crop'}, 'large': {'w': 750, 'h': 500, 'resize': 'fit'}, 'small': {'w': 680, 'h': 453, 'resize': 'fit'}, 'medium': {'w': 750, 'h': 500, 'resize': 'fit'}}}]}, source='Sprout Social', source_url='http://sproutsocial.com', in_reply_to_status_id=None, in_reply_to_status_id_str=None, in_reply_to_user_id=None, in_reply_to_user_id_str=None, in_reply_to_screen_name=None, author=User(_api=<tweepy.api.API object at 0x7f465a792ba8>, _json={'id': 176932593, 'id_str': '176932593', 'name': 'UC Berkeley', 'screen_name': 'UCBerkeley', 'location': 'Berkeley, California', 'description': 'University of California, Berkeley, the premier public institution of higher education', 'url': 'http://t.co/5AQcLU8aoE', 'entities': {'url': {'urls': [{'url': 'http://t.co/5AQcLU8aoE', 'expanded_url': 'http://berkeley.edu', 'display_url': 'berkeley.edu', 'indices': [0, 22]}]}, 'description': {'urls': []}}, 'protected': False, 'followers_count': 127348, 'friends_count': 1167, 'listed_count': 1611, 'created_at': 'Tue Aug 10 20:40:13 +0000 2010', 'favourites_count': 6373, 'utc_offset': -25200, 'time_zone': 'Pacific Time (US & Canada)', 'geo_enabled': False, 'verified': True, 'statuses_count': 13280, 'lang': 'en', 'contributors_enabled': False, 'is_translator': False, 'is_translation_enabled': False, 'profile_background_color': 'FCFCFC', 'profile_background_image_url': 'http://pbs.twimg.com/profile_background_images/790178413/d030b080c387ea27a2b9c17fbce00192.jpeg', 'profile_background_image_url_https': 'https://pbs.twimg.com/profile_background_images/790178413/d030b080c387ea27a2b9c17fbce00192.jpeg', 'profile_background_tile': False, 'profile_image_url': 'http://pbs.twimg.com/profile_images/667569099300405248/ba6dE8pg_normal.png', 'profile_image_url_https': 'https://pbs.twimg.com/profile_images/667569099300405248/ba6dE8pg_normal.png', 'profile_banner_url': 'https://pbs.twimg.com/profile_banners/176932593/1398457126', 'profile_link_color': '9D7D0A', 'profile_sidebar_border_color': 'FFFFFF', 'profile_sidebar_fill_color': 'F9EFC8', 'profile_text_color': '152C9D', 'profile_use_background_image': True, 'has_extended_profile': False, 'default_profile': False, 'default_profile_image': False, 'following': False, 'follow_request_sent': False, 'notifications': False, 'translator_type': 'regular'}, id=176932593, id_str='176932593', name='UC Berkeley', screen_name='UCBerkeley', location='Berkeley, California', description='University of California, Berkeley, the premier public institution of higher education', url='http://t.co/5AQcLU8aoE', entities={'url': {'urls': [{'url': 'http://t.co/5AQcLU8aoE', 'expanded_url': 'http://berkeley.edu', 'display_url': 'berkeley.edu', 'indices': [0, 22]}]}, 'description': {'urls': []}}, protected=False, followers_count=127348, friends_count=1167, listed_count=1611, created_at=datetime.datetime(2010, 8, 10, 20, 40, 13), favourites_count=6373, utc_offset=-25200, time_zone='Pacific Time (US & Canada)', geo_enabled=False, verified=True, statuses_count=13280, lang='en', contributors_enabled=False, is_translator=False, is_translation_enabled=False, profile_background_color='FCFCFC', profile_background_image_url='http://pbs.twimg.com/profile_background_images/790178413/d030b080c387ea27a2b9c17fbce00192.jpeg', profile_background_image_url_https='https://pbs.twimg.com/profile_background_images/790178413/d030b080c387ea27a2b9c17fbce00192.jpeg', profile_background_tile=False, profile_image_url='http://pbs.twimg.com/profile_images/667569099300405248/ba6dE8pg_normal.png', profile_image_url_https='https://pbs.twimg.com/profile_images/667569099300405248/ba6dE8pg_normal.png', profile_banner_url='https://pbs.twimg.com/profile_banners/176932593/1398457126', profile_link_color='9D7D0A', profile_sidebar_border_color='FFFFFF', profile_sidebar_fill_color='F9EFC8', profile_text_color='152C9D', profile_use_background_image=True, has_extended_profile=False, default_profile=False, default_profile_image=False, following=False, follow_request_sent=False, notifications=False, translator_type='regular'), user=User(_api=<tweepy.api.API object at 0x7f465a792ba8>, _json={'id': 176932593, 'id_str': '176932593', 'name': 'UC Berkeley', 'screen_name': 'UCBerkeley', 'location': 'Berkeley, California', 'description': 'University of California, Berkeley, the premier public institution of higher education', 'url': 'http://t.co/5AQcLU8aoE', 'entities': {'url': {'urls': [{'url': 'http://t.co/5AQcLU8aoE', 'expanded_url': 'http://berkeley.edu', 'display_url': 'berkeley.edu', 'indices': [0, 22]}]}, 'description': {'urls': []}}, 'protected': False, 'followers_count': 127348, 'friends_count': 1167, 'listed_count': 1611, 'created_at': 'Tue Aug 10 20:40:13 +0000 2010', 'favourites_count': 6373, 'utc_offset': -25200, 'time_zone': 'Pacific Time (US & Canada)', 'geo_enabled': False, 'verified': True, 'statuses_count': 13280, 'lang': 'en', 'contributors_enabled': False, 'is_translator': False, 'is_translation_enabled': False, 'profile_background_color': 'FCFCFC', 'profile_background_image_url': 'http://pbs.twimg.com/profile_background_images/790178413/d030b080c387ea27a2b9c17fbce00192.jpeg', 'profile_background_image_url_https': 'https://pbs.twimg.com/profile_background_images/790178413/d030b080c387ea27a2b9c17fbce00192.jpeg', 'profile_background_tile': False, 'profile_image_url': 'http://pbs.twimg.com/profile_images/667569099300405248/ba6dE8pg_normal.png', 'profile_image_url_https': 'https://pbs.twimg.com/profile_images/667569099300405248/ba6dE8pg_normal.png', 'profile_banner_url': 'https://pbs.twimg.com/profile_banners/176932593/1398457126', 'profile_link_color': '9D7D0A', 'profile_sidebar_border_color': 'FFFFFF', 'profile_sidebar_fill_color': 'F9EFC8', 'profile_text_color': '152C9D', 'profile_use_background_image': True, 'has_extended_profile': False, 'default_profile': False, 'default_profile_image': False, 'following': False, 'follow_request_sent': False, 'notifications': False, 'translator_type': 'regular'}, id=176932593, id_str='176932593', name='UC Berkeley', screen_name='UCBerkeley', location='Berkeley, California', description='University of California, Berkeley, the premier public institution of higher education', url='http://t.co/5AQcLU8aoE', entities={'url': {'urls': [{'url': 'http://t.co/5AQcLU8aoE', 'expanded_url': 'http://berkeley.edu', 'display_url': 'berkeley.edu', 'indices': [0, 22]}]}, 'description': {'urls': []}}, protected=False, followers_count=127348, friends_count=1167, listed_count=1611, created_at=datetime.datetime(2010, 8, 10, 20, 40, 13), favourites_count=6373, utc_offset=-25200, time_zone='Pacific Time (US & Canada)', geo_enabled=False, verified=True, statuses_count=13280, lang='en', contributors_enabled=False, is_translator=False, is_translation_enabled=False, profile_background_color='FCFCFC', profile_background_image_url='http://pbs.twimg.com/profile_background_images/790178413/d030b080c387ea27a2b9c17fbce00192.jpeg', profile_background_image_url_https='https://pbs.twimg.com/profile_background_images/790178413/d030b080c387ea27a2b9c17fbce00192.jpeg', profile_background_tile=False, profile_image_url='http://pbs.twimg.com/profile_images/667569099300405248/ba6dE8pg_normal.png', profile_image_url_https='https://pbs.twimg.com/profile_images/667569099300405248/ba6dE8pg_normal.png', profile_banner_url='https://pbs.twimg.com/profile_banners/176932593/1398457126', profile_link_color='9D7D0A', profile_sidebar_border_color='FFFFFF', profile_sidebar_fill_color='F9EFC8', profile_text_color='152C9D', profile_use_background_image=True, has_extended_profile=False, default_profile=False, default_profile_image=False, following=False, follow_request_sent=False, notifications=False, translator_type='regular'), geo=None, coordinates=None, place=None, contributors=None, is_quote_status=False, retweet_count=6, favorite_count=15, favorited=False, retweeted=False, possibly_sensitive=False, lang='en')\n"
     ]
    }
   ],
   "source": [
    "#Let's look at one tweet\n",
    "print(user_results_tweets[0])"
   ]
  },
  {
   "cell_type": "code",
   "execution_count": 50,
   "metadata": {
    "collapsed": false
   },
   "outputs": [
    {
     "name": "stdout",
     "output_type": "stream",
     "text": [
      "2017-Sep-18 03:04\n",
      "Visionary Award honors three Berkeley intellects shaping the future https://t.co/x0Aicm9JWA https://t.co/01nsPj4WvG\n",
      "\n",
      "2017-Sep-18 02:03\n",
      "What I hope to achieve: A letter from Chancellor Christ https://t.co/3gVYGggXxT https://t.co/Qld1E3inqF\n",
      "\n",
      "2017-Sep-17 22:15\n",
      "ICYMI: Berkeley scholars talk #freespeech, finding common ground https://t.co/f8ubyNRjXx https://t.co/aXGwUxry7v\n",
      "\n",
      "2017-Sep-17 19:04\n",
      "Do you believe in destiny? Cal roommates have more in common than they thought https://t.co/gOo66HCVQs https://t.co/HQleNpHtlE\n",
      "\n",
      "2017-Sep-17 18:04\n",
      "Update on logistics for “#FreeSpeechWeek” https://t.co/O4OGeyXikv #freespeech https://t.co/ArYUx0gPVP\n",
      "\n",
      "2017-Sep-17 17:03\n",
      "POLL: Californians like their senators, prefer Harris stay in Congress https://t.co/eW7MIO2Ph2 @KamalaHarris https://t.co/jNjG75UmSX\n",
      "\n",
      "2017-Sep-17 06:12\n",
      "ANOTHER WIN! 🏈 3-0! #GoBears 💙🐻💛 https://t.co/0qaXGtiQw2\n",
      "\n",
      "2017-Sep-17 03:04\n",
      "ICYMI: #ShapiroAtCal event goes off with barely a hitch https://t.co/vqvNrYTcJg #freespeech https://t.co/8V3tYAtUoF\n",
      "\n",
      "2017-Sep-17 02:03\n",
      "CRITIC'S CHOICE: Fall brings a brimming arts cornucopia to campus https://t.co/Jh1gFQ7d7Z #highered\n",
      "\n",
      "2017-Sep-17 00:38\n",
      "RT @CalBand: It's gameday in Berkeley! Be sure to catch us on Sproul for our Pregame Rally at 6PM, and Pregame at 7:10PM! Go Bears!\n",
      "\n"
     ]
    }
   ],
   "source": [
    "#print the text of the first 10 tweets\n",
    "for tweet in user_results_tweets:\n",
    "    print(tweet.created_at.strftime(\"%Y-%b-%d %H:%M\"))\n",
    "    print(tweet.text)\n",
    "    print()"
   ]
  },
  {
   "cell_type": "markdown",
   "metadata": {},
   "source": [
    "### Question 6\n",
    "\n",
    "Look at the text of retrieved tweets and compare them to the latest 10 tweets of the [web interface](https://twitter.com/UCBerkeley) for the same user. Do you see any difference? "
   ]
  },
  {
   "cell_type": "markdown",
   "metadata": {},
   "source": [
    "**Answer**: \n",
    "Comparing the text of retrieved tweets and the latest 10 tweets of the web interface, I noticed that while the sequence of the all tweets was exactly the same, the page began with a set of pinned tweets at the beginning in the web interface. This was the only noticeable difference between the two sets.\n"
   ]
  },
  {
   "cell_type": "markdown",
   "metadata": {},
   "source": [
    "Get a list of a followers for UCBerkeley."
   ]
  },
  {
   "cell_type": "code",
   "execution_count": 53,
   "metadata": {
    "collapsed": false,
    "scrolled": false
   },
   "outputs": [
    {
     "name": "stdout",
     "output_type": "stream",
     "text": [
      "Kayla\n",
      "Daphney not Daphne\n",
      "greenbiketours\n",
      "Henry Morales\n",
      "Vikas Wadhwa\n",
      "Nicholas Hirsch\n",
      "K\n",
      "Conquista Del Pan\n",
      "Huaixin Wang\n",
      "MsAdams\n",
      "Luke Blackett\n",
      "DecoAmbassador\n",
      "DesignWomenSF\n",
      "Christopher Finnie\n",
      "nat\n",
      "Deb Sue\n",
      "Paramvir Singh\n",
      "Rajavamsi Paruchuri\n",
      "Guilherme Anderson\n",
      "guibin zhang\n",
      "YoDice\n",
      "Arielle Dettmer\n",
      "Weiting Yi\n",
      "GiovanyMeza\n",
      "Deven Allen\n",
      "Xtronis\n",
      "Abby Friedman\n",
      "Trevor Goodyear\n",
      "Kim Fleer\n",
      "LeanBusinessGroup\n",
      "William Zhang\n",
      "Rick Holmes\n",
      "Jean S david\n",
      "mnambiar\n",
      "Patricia Johns\n",
      "لا قوه الا بالله\n",
      "Pranav Sharma\n",
      "Ali Tk.\n",
      "Jacob\n",
      "Roshni Rawal\n",
      "sonu rajput\n",
      "Lalo\n",
      "SkoolMentor\n",
      "Zhang\n",
      "Saffron Sener\n",
      "Nicole Kim\n",
      "赵芃芃\n",
      "Peter Samuelson\n",
      "Lu\n",
      "Jacob Chabot\n",
      "Bachir\n",
      "ASHWINI KUMAR\n",
      "Zaid Ahmed Sheikh\n",
      "Bruce Grenley\n",
      "uStopwatch\n",
      "Steve Merryman\n",
      "Ice Guardian JD\n",
      "Brathon\n",
      "Emma Lundberg\n",
      "Jesus\n",
      "Simon yang\n",
      "Marcelo Matos\n",
      "Leslie T\n",
      "Luz Maria Pineda\n",
      "Rob Elmore\n",
      "Sourabh Nandwana\n",
      "Marcos Magalhães\n",
      "Demos Wu\n",
      "Phil Saggese\n",
      "Nazim Naqvi\n",
      "William Thorn\n",
      "Therealdickrocket\n",
      "Debula Kemoli\n",
      "MarknY47\n",
      "Owen Royal\n",
      "Valmir Vilas Boas\n",
      "Anthony Flowe\n",
      "Felicia Murray\n",
      "scott sean\n",
      "Dana\n",
      "Jimiao\n",
      "NHUT NGUYEN\n",
      "sapra\n",
      "xiao~\n",
      "Francisco Oliveira\n",
      "Steve\n",
      "Lovelylady1428\n",
      "Benövşe\n",
      "Raya Rios\n",
      "Ajit Anksuh Sankpal\n",
      "Amitabh Bhardwaj\n",
      "Moises Orozco\n",
      "mas\n",
      "JC\n",
      "Jigyanshu raj\n",
      "Asnan Farooq¯\\_(ツ)_/\n",
      "Nguyen Xuan Dinh\n",
      "cletus jaxsun\n",
      "Felix Niemeyer\n",
      "I B\n",
      "30CenturyMan\n",
      "Junisa Nguyen\n",
      "Disletti\n",
      "Ariel\n",
      "Jerald K. Driver\n",
      "alysa\n",
      "rosana hernandez\n",
      "neil franklin\n",
      "Ronald Alvarado\n",
      "Lily Lynch\n",
      "Jairo Velázquez\n",
      "Brandi Rivera\n",
      "jessica arias\n",
      "Nicole Mercer\n",
      "Burcu Ayoglu\n",
      "normsf\n",
      "Noriko@Yokohama\n",
      "Ellery U\n",
      "Sasha Sanyal\n",
      "Emily Hunter\n",
      "Mahdi Zarei\n",
      "Deep Doshi\n",
      "Martin Simpson\n",
      "Aj\n",
      "Nasir Kaihan\n",
      "Thoughts & Prayers\n",
      "HECRASS\n",
      "Abhishek Shukla\n",
      "atiqHimat\n",
      "Thomas Bentham\n",
      "Ann D T\n",
      "Mariah Scary\n",
      "Eva\n",
      "Connor Quinn\n",
      "Vijay Vrat\n",
      "Denise\n",
      "Nana H.\n",
      "Ingrid Peterson\n",
      "Eric X\n",
      "Kerwin Kuniyoshi\n",
      "Molly Nechvatal\n",
      "Chart Westcott\n",
      "حِصه.\n",
      "scottstenback\n",
      "ning xu\n",
      "Nisan Design\n",
      "Kian F. Mirshahi\n",
      "steve wang\n",
      "Larry Karpiyevich\n",
      "Sally\n",
      "Gallegos\n",
      "ekoteas\n",
      "Samantha Wright\n",
      "Josue:7Berber\n",
      "Sanovia jackson\n",
      "Gary LAgstrom Jr\n",
      "Jesus R. Pomeda\n",
      "Daryl Lambert\n",
      "caesarphoenix\n",
      "janusz poltorak\n",
      "3\n",
      "Mihail Sangha\n",
      "Rachel F.\n",
      "AdoptableEarth\n",
      "ShailaKhaki\n",
      "Rehan\n",
      "Fernando\n",
      "Last Minute Student\n",
      "Helen Cushman\n",
      "حٌسامْ\n",
      "Brent Kagrewski\n",
      "Mariana Guerrero\n",
      "Zak\n",
      "Ryan\n",
      "Jane Laberinto\n",
      "Jasmine Brown\n",
      "Kawaii Yin Chan\n",
      "Kristy McMenamin\n",
      "Kawaii_Yin_Chan\n",
      "Kun\n",
      "Adrian Ocampo\n",
      "Atiyeh\n",
      "babygirl🔥\n",
      "Gissella Pineda\n",
      "Berke Türkay\n",
      "WeAreSCFans\n",
      "Watislife\n",
      "manoj prabhakar\n",
      "Felix Rosen\n",
      "Chris Boche\n",
      "Li Yang\n",
      "Kreme Brulee\n",
      "Rosalind Karczewski\n",
      "victoria\n",
      "SEG\n",
      "Lu Yang\n",
      "footman104\n",
      "Rodrigo Guerra\n",
      "MRT\n",
      "Riyaz Ahmad Khan\n"
     ]
    }
   ],
   "source": [
    "followers_list = []\n",
    "\n",
    "followers_results = api.followers(screen_name='UCBerkeley', count=200, page=1)\n",
    "for f in followers_results:\n",
    "      followers_list.append(f)\n",
    "\n",
    "for f in followers_list:\n",
    "    print(f.name)"
   ]
  },
  {
   "cell_type": "markdown",
   "metadata": {},
   "source": [
    "There’s a limit on how many users can be returned by one request. If you need more, please read [using cursors to navigate collections](https://dev.twitter.com/overview/api/cursoring)."
   ]
  },
  {
   "cell_type": "markdown",
   "metadata": {},
   "source": [
    "### Extra Credit Question \n",
    "We saw how to use Twitter API to search for tweets. The [Search API](https://dev.twitter.com/rest/public/search) has an option to filter the query results by geo location. The parameter value is specified by ”latitude,longitude,radius” (check out the documentation of API  for more information). Compare the top 10 popular tweets text that contain the word 'berkeley' from four geo locations: Berkeley, Kansas City, New York, and Barcelona Spain.\n"
   ]
  },
  {
   "cell_type": "markdown",
   "metadata": {},
   "source": [
    "**Answer:**\n",
    "\n",
    "**Links:**\n",
    "1. [Berkeley](https://api.twitter.com/1.1/search/tweets.json?q=&geocode=37.8716,122.2727,1kmt&result_type=popular)\n",
    "1. [Kansas City](https://api.twitter.com/1.1/search/tweets.json?q=&geocode=39.0997,94.5786,1kmt&result_type=popular)\n",
    "1. [New York](https://api.twitter.com/1.1/search/tweets.json?q=&geocode=40.7128,74.0059,1kmt&result_type=popular)\n",
    "1. [Barcelona Spain](https://api.twitter.com/1.1/search/tweets.json?q=&geocode=41.3888,2.1590,1kmt&result_type=popular)"
   ]
  },
  {
   "cell_type": "code",
   "execution_count": 76,
   "metadata": {
    "collapsed": false
   },
   "outputs": [
    {
     "ename": "AttributeError",
     "evalue": "'Cursor' object has no attribute 'item'",
     "output_type": "error",
     "traceback": [
      "\u001b[0;31m---------------------------------------------------------------------------\u001b[0m",
      "\u001b[0;31mAttributeError\u001b[0m                            Traceback (most recent call last)",
      "\u001b[0;32m<ipython-input-76-7a94921c26db>\u001b[0m in \u001b[0;36m<module>\u001b[0;34m()\u001b[0m\n\u001b[1;32m      4\u001b[0m                         result_type='popular')\n\u001b[1;32m      5\u001b[0m \u001b[0mberkeley\u001b[0m \u001b[0;34m=\u001b[0m \u001b[0;34m[\u001b[0m\u001b[0;34m]\u001b[0m\u001b[0;34m\u001b[0m\u001b[0m\n\u001b[0;32m----> 6\u001b[0;31m \u001b[0;32mfor\u001b[0m \u001b[0mtweet\u001b[0m \u001b[0;32min\u001b[0m \u001b[0msearch_result\u001b[0m\u001b[0;34m.\u001b[0m\u001b[0mitem\u001b[0m\u001b[0;34m(\u001b[0m\u001b[0;36m10\u001b[0m\u001b[0;34m)\u001b[0m\u001b[0;34m:\u001b[0m\u001b[0;34m\u001b[0m\u001b[0m\n\u001b[0m\u001b[1;32m      7\u001b[0m     \u001b[0mberkeley\u001b[0m\u001b[0;34m.\u001b[0m\u001b[0mappend\u001b[0m\u001b[0;34m(\u001b[0m\u001b[0mtweet\u001b[0m\u001b[0;34m)\u001b[0m\u001b[0;34m\u001b[0m\u001b[0m\n\u001b[1;32m      8\u001b[0m \u001b[0mberkeley\u001b[0m\u001b[0;34m\u001b[0m\u001b[0m\n",
      "\u001b[0;31mAttributeError\u001b[0m: 'Cursor' object has no attribute 'item'"
     ]
    }
   ],
   "source": [
    "search_result = tweepy.Cursor(api.search,  \n",
    "                        q='berkeley', \n",
    "                        geocode=(37.8716,122.2727,1),\n",
    "                        result_type='popular')\n",
    "berkeley = []                  \n",
    "for tweet in search_result.item(10): \n",
    "    berkeley.append(tweet) \n",
    "berkeley\n",
    "\n"
   ]
  },
  {
   "cell_type": "markdown",
   "metadata": {},
   "source": [
    "### Extra Credit Question\n",
    "Based on profile_location in the follower data, Compare between the followers of Donald Trump and Hillary Clinton in terms of their locations. Draw a map for both followers lists. "
   ]
  },
  {
   "cell_type": "markdown",
   "metadata": {
    "collapsed": true
   },
   "source": [
    "**Answer:**"
   ]
  },
  {
   "cell_type": "code",
   "execution_count": null,
   "metadata": {
    "collapsed": true
   },
   "outputs": [],
   "source": []
  },
  {
   "cell_type": "markdown",
   "metadata": {},
   "source": [
    "### Submitting the assignment\n",
    "\n",
    "- Delete your Twitter API credentials, ie. re-assign `consumer_key`, `consumer_secret`, `access_key`, and `access_secret` to empty strings so that we won't see your credentials when you save and sumbit it.\n",
    "- Save this jupyter notebook as a pdf. Click File, Download as, PDF via LaTex (.pdf).\n",
    "- Upload the pdf file into bcourses under Assignment 2."
   ]
  }
 ],
 "metadata": {
  "kernelspec": {
   "display_name": "Python 3",
   "language": "python",
   "name": "python3"
  },
  "language_info": {
   "codemirror_mode": {
    "name": "ipython",
    "version": 3
   },
   "file_extension": ".py",
   "mimetype": "text/x-python",
   "name": "python",
   "nbconvert_exporter": "python",
   "pygments_lexer": "ipython3",
   "version": "3.6.0"
  }
 },
 "nbformat": 4,
 "nbformat_minor": 1
}
